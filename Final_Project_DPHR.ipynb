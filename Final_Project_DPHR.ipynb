{
 "cells": [
  {
   "cell_type": "markdown",
   "id": "hR7ahqxhWHk3",
   "metadata": {
    "id": "hR7ahqxhWHk3"
   },
   "source": [
    "# DIABETES PATIENT'S HOSPITAL READMISSION\n"
   ]
  },
  {
   "cell_type": "markdown",
   "id": "53d40fa2-a648-4b18-a032-ba33b680845d",
   "metadata": {
    "id": "53d40fa2-a648-4b18-a032-ba33b680845d"
   },
   "source": [
    "## Problem Statement \n",
    "Hospital readmissions are becoming a more expensive and noticeable problem for the general public and hospitals in terms of both money and patient care. A hospital readmission occurs when a patient who has been discharged from hospital is later readmitted within a predetermined time frame. The Hospital Readmissions Reduction Program (HRRP) is a Medicare value-based buying initiative that pushes hospitals to enhance care coordination and communication to better involve patients and caregivers in discharge plans and, as a result, lower avoidable readmission rates. By tying hospital service quality to funding, the initiative promotes the national objective of bettering Americans' access to healthcare.\n",
    "Diabetes is a major contributing factor to kidney disease, heart attacks, strokes, lower limb amputation and blindness. As a result, many patients with diabetes are hospitalized to hospitals and given medication. According to the Agency for Healthcare Research and Quality (AHRQ), hospitals spent 41.3 billion dollars between January and November 2011 treating patients who were readmitted within 30 days of being discharged. In which, diabetes led to 23,700 readmissions and cost $251 million. As this is a huge burden on both hospitals, governments, patients and insurance companies, we try solving this problem by answering the below questions:\n",
    "- How well can we predict hospital readmission? This helps hospital aims to improve quality of care for patients and lower healthcare spending. Early prediction can also help to lessen the severity of the situation and lessen the economical strain on the families. We want to employ a number of classification models, choosing the most suitable one for our forecast based on the Recall Score(Explanation for considering Recall is explained in section 6.1)\n",
    "\n",
    "### Authored by:\n",
    "\n",
    "Sarath Chandra Adusumilli "
   ]
  },
  {
   "cell_type": "markdown",
   "id": "F0l7GUSLWt-N",
   "metadata": {
    "id": "F0l7GUSLWt-N"
   },
   "source": [
    "## Description of the analysis and dataset\n",
    "\n",
    "In this project, we will be using a dataset containing information from [UCI](https://archive.ics.uci.edu/ml/datasets/Diabetes+130-US+hospitals+for+years+1999-2008)\n",
    "\n",
    "The dataset represents clinical treatment provided over a ten-year period (1999–2008) at 130 US hospitals and integrated delivery networks. More than 50 features that represent patient and hospital outcomes are available. In our project we will specifically look for data that satisfies give us insights on hospital readmissions for diabetes. This information includes features like patient number, race, gender, and age; admission type, length of stay in the hospital; admitting physician's medical specialty; the number of lab tests conducted; the HbA1c test result; the diagnosis; the number of medications; the number of diabetic medications; and the number of outpatient, inpatient, and emergency visits in the year prior to the hospitalization.\n",
    "\n",
    "The data is submitted on behalf of the Center for Clinical and Translational Research, Virginia Commonwealth University, a recipient of NIH CTSA grant UL1 TR00058 and a recipient of the CERNER data. John Clore (jclore '@' vcu.edu), Krzysztof J. Cios (kcios '@' vcu.edu), Jon DeShazo (jpdeshazo '@' vcu.edu), and Beata Strack (strackb '@' vcu.edu). This data is a de-identified abstract of the Health Facts database (Cerner Corporation, Kansas City, MO).\n",
    "\n",
    "\n",
    "### Input Variables:\n",
    "\n",
    "- Encounter ID: Unique identifier of an encounter\n",
    "- Patient number: Unique identifier of a patient\n",
    "- Race Values: Caucasian, Asian, African American, Hispanic, and other\n",
    "- Gender Values: male, female, and unknown/invalid\n",
    "- Age: Grouped in 10-year intervals: 0, 10), 10, 20), …, 90, 100)\n",
    "- Weight: Weight in pounds\n",
    "- Admission type: Integer identifier corresponding to 9 distinct values, for example, emergency, urgent, elective, newborn, and not available\n",
    "- Discharge disposition: Integer identifier corresponding to 29 distinct values, for example, discharged to home, expired, and not available\n",
    "- Admission source: Integer identifier corresponding to 21 distinct values, for example, physician referral, emergency room, and transfer from a hospital\n",
    "- Time in hospital: Integer number of days between admission and discharge\n",
    "- Payer code: Integer identifier corresponding to 23 distinct values, for example, Blue Cross/Blue Shield, Medicare, and self-pay Medical\n",
    "- Medical specialty: Integer identifier of a specialty of the admitting physician, corresponding to 84 distinct values, for example, cardiology, internal medicine, family/general practice, and surgeon\n",
    "- Number of lab procedures: Number of lab tests performed during the encounter\n",
    "- Number of procedures: Numeric Number of procedures (other than lab tests) performed during the encounter\n",
    "- Number of medications: Number of distinct generic names administered during the encounter\n",
    "- Number of outpatient visits: Number of outpatient visits of the patient in the year preceding the encounter\n",
    "- Number of emergency visits: Number of emergency visits of the patient in the year preceding the encounter\n",
    "- Number of inpatient visits: Number of inpatient visits of the patient in the year preceding the encounter\n",
    "- Diagnosis 1: The primary diagnosis (coded as first three digits of ICD9); 848 distinct values\n",
    "- Diagnosis 2: Secondary diagnosis (coded as first three digits of ICD9); 923 distinct values\n",
    "- Diagnosis 3: Additional secondary diagnosis (coded as first three digits of ICD9); 954 distinct values\n",
    "- Number of diagnoses: Number of diagnoses entered to the system 0%\n",
    "- Glucose serum: test result Indicates the range of the result or if the test was not taken. Values: “>200,” “>300,” “normal,” and “none” if not measured\n",
    "- A1c test result Indicates the range of the result or if the test was not taken. Values: “>8” if the result was greater than 8%, “>7” if the result was greater than 7% but less than 8%, “normal” if the result was less than 7%, and “none” if not measured.\n",
    "- Change of medications: Indicates if there was a change in diabetic medications (either dosage or generic name). Values: “change” and “no change”\n",
    "- Diabetes medications: Indicates if there was any diabetic medication prescribed. Values: “yes” and “no”\n",
    "- 24 features for medications For the generic names: metformin, repaglinide, nateglinide, chlorpropamide, glimepiride, acetohexamide, glipizide, glyburide, tolbutamide, pioglitazone, rosiglitazone, acarbose, miglitol, troglitazone, tolazamide, examide, sitagliptin, insulin, glyburide-metformin, glipizide-metformin, glimepiride- pioglitazone, metformin-rosiglitazone, and metformin- pioglitazone, the feature indicates whether the drug was prescribed or there was a change in the dosage. Values: “up” if the dosage was increased during the encounter, “down” if the dosage was decreased, “steady” if the dosage did not change, and “no” if the drug was not prescribed\n",
    "\n",
    "### Target Variable:\n",
    "- Readmitted: Days to inpatient readmission. Values: “<30” if the patient was readmitted in less than 30 days, “>30” if the patient was readmitted in more than 30 days, and “No” for no record of readmission\n"
   ]
  },
  {
   "cell_type": "markdown",
   "id": "aba88720-e8a9-4d7e-a101-d90e5ceb3fb5",
   "metadata": {
    "id": "aba88720-e8a9-4d7e-a101-d90e5ceb3fb5"
   },
   "source": [
    "## Step 1: Install and import necessary packages"
   ]
  },
  {
   "cell_type": "code",
   "execution_count": null,
   "id": "dc45e71e-5421-4832-a978-c8e2565d718f",
   "metadata": {
    "id": "dc45e71e-5421-4832-a978-c8e2565d718f"
   },
   "outputs": [],
   "source": [
    "import pandas as pd\n",
    "from sklearn.model_selection import train_test_split\n",
    "from sklearn.tree import DecisionTreeClassifier\n",
    "from sklearn.metrics import confusion_matrix, accuracy_score, precision_score, recall_score, f1_score, plot_roc_curve, roc_auc_score, roc_curve, auc, RocCurveDisplay, PrecisionRecallDisplay, precision_recall_curve\n",
    "import numpy as np\n",
    "from sklearn.preprocessing import OrdinalEncoder\n",
    "from sklearn.preprocessing import LabelEncoder\n",
    "from sklearn.tree import plot_tree\n",
    "import matplotlib.pyplot as plt\n",
    "from sklearn import preprocessing\n",
    "import seaborn as sns\n",
    "import matplotlib.pyplot as plt\n",
    "from scipy import stats\n",
    "from sklearn.neighbors import KNeighborsClassifier\n",
    "from sklearn.metrics import confusion_matrix\n",
    "from sklearn.tree import export_text\n",
    "\n",
    "from sklearn.linear_model import LogisticRegression\n",
    "from sklearn.preprocessing import binarize\n",
    "from sklearn.model_selection import GridSearchCV\n",
    "\n",
    "import warnings\n",
    "warnings.filterwarnings('ignore')\n",
    "\n",
    "\n",
    "\n",
    "import pandas as pd  #for data manipulation operations\n",
    "import numpy as np  #for numeric operations on data\n",
    "from sklearn.tree import DecisionTreeClassifier, ExtraTreeClassifier\n",
    "from sklearn.ensemble import RandomForestClassifier, GradientBoostingClassifier, AdaBoostClassifier\n",
    "from sklearn.metrics import confusion_matrix, accuracy_score, precision_score, recall_score, f1_score,classification_report\n",
    "from sklearn.metrics import roc_auc_score, roc_curve\n",
    "from sklearn.metrics import plot_confusion_matrix\n",
    "from sklearn.model_selection import GridSearchCV, RandomizedSearchCV, train_test_split, cross_val_score\n",
    "from sklearn.model_selection import cross_validate, cross_val_predict, StratifiedKFold\n",
    "\n",
    "\n",
    "from sklearn.neighbors import KNeighborsClassifier\n",
    "from sklearn import model_selection\n",
    "\n",
    "import seaborn as sns  #for data visualization operations\n",
    "import matplotlib.pyplot as plt  #for data visualization operations\n",
    "from sklearn.preprocessing import LabelEncoder # for encoding\n",
    "from sklearn.preprocessing import MinMaxScaler, RobustScaler, StandardScaler #for standardization\n",
    "import plotly.express as px\n",
    "import plotly.graph_objects as go\n",
    "import plotly.io as pio\n",
    "import scipy.stats as st\n",
    "from sklearn.feature_selection import RFECV\n",
    "from sklearn.linear_model import SGDClassifier\n",
    "from sklearn.dummy import DummyClassifier\n",
    "from sklearn.naive_bayes import GaussianNB\n",
    "\n",
    "import xgboost as xgb\n",
    "from sklearn import metrics\n",
    "from xgboost import XGBClassifier\n",
    "import pandas_profiling\n",
    "\n",
    "%matplotlib inline\n",
    "\n",
    "seed = 42\n",
    "\n",
    "import warnings\n",
    "warnings.filterwarnings('ignore')\n",
    "\n"
   ]
  },
  {
   "cell_type": "markdown",
   "id": "0nDGUf3EXotv",
   "metadata": {
    "id": "0nDGUf3EXotv"
   },
   "source": [
    "## Step 2: Preliminary Problem Scoping"
   ]
  },
  {
   "cell_type": "markdown",
   "id": "2312d3a2-8613-4915-9d57-859b36a6cbb6",
   "metadata": {
    "id": "2312d3a2-8613-4915-9d57-859b36a6cbb6"
   },
   "source": [
    "Our goal is to develop a model to identify if if the patient readmits in less than 30 days or not. It is not yet known if the classes are imbalanced. We will try to use an oversampling technique to rebalance these classes if they are imbalanced. we will explore different model and we will also explore the optimal parameters through hyperparameter tuning and producing ROC-AUC curves."
   ]
  },
  {
   "cell_type": "markdown",
   "id": "1141ba73",
   "metadata": {
    "id": "1141ba73"
   },
   "source": [
    "## Step 3: Load, clean and prepare data for analysis"
   ]
  },
  {
   "cell_type": "markdown",
   "id": "3d7d557c-c7f6-4ee9-9966-ed3663b1375c",
   "metadata": {
    "id": "3d7d557c-c7f6-4ee9-9966-ed3663b1375c"
   },
   "source": [
    "### 3.1 Load data from source"
   ]
  },
  {
   "cell_type": "code",
   "execution_count": null,
   "id": "6569f159-b1d9-43ca-a8cf-409b48eb9141",
   "metadata": {
    "colab": {
     "base_uri": "https://localhost:8080/",
     "height": 404
    },
    "id": "6569f159-b1d9-43ca-a8cf-409b48eb9141",
    "outputId": "77764a56-8cf6-4abd-bc27-9c6d699c0ce3"
   },
   "outputs": [
    {
     "data": {
      "text/html": [
       "\n",
       "  <div id=\"df-ad781c6c-7731-4978-9970-d7255dfd7a46\">\n",
       "    <div class=\"colab-df-container\">\n",
       "      <div>\n",
       "<style scoped>\n",
       "    .dataframe tbody tr th:only-of-type {\n",
       "        vertical-align: middle;\n",
       "    }\n",
       "\n",
       "    .dataframe tbody tr th {\n",
       "        vertical-align: top;\n",
       "    }\n",
       "\n",
       "    .dataframe thead th {\n",
       "        text-align: right;\n",
       "    }\n",
       "</style>\n",
       "<table border=\"1\" class=\"dataframe\">\n",
       "  <thead>\n",
       "    <tr style=\"text-align: right;\">\n",
       "      <th></th>\n",
       "      <th>encounter_id</th>\n",
       "      <th>patient_nbr</th>\n",
       "      <th>race</th>\n",
       "      <th>gender</th>\n",
       "      <th>age</th>\n",
       "      <th>weight</th>\n",
       "      <th>admission_type_id</th>\n",
       "      <th>discharge_disposition_id</th>\n",
       "      <th>admission_source_id</th>\n",
       "      <th>time_in_hospital</th>\n",
       "      <th>...</th>\n",
       "      <th>citoglipton</th>\n",
       "      <th>insulin</th>\n",
       "      <th>glyburide-metformin</th>\n",
       "      <th>glipizide-metformin</th>\n",
       "      <th>glimepiride-pioglitazone</th>\n",
       "      <th>metformin-rosiglitazone</th>\n",
       "      <th>metformin-pioglitazone</th>\n",
       "      <th>change</th>\n",
       "      <th>diabetesMed</th>\n",
       "      <th>readmitted</th>\n",
       "    </tr>\n",
       "  </thead>\n",
       "  <tbody>\n",
       "    <tr>\n",
       "      <th>0</th>\n",
       "      <td>2278392</td>\n",
       "      <td>8222157</td>\n",
       "      <td>Caucasian</td>\n",
       "      <td>Female</td>\n",
       "      <td>[0-10)</td>\n",
       "      <td>?</td>\n",
       "      <td>6</td>\n",
       "      <td>25</td>\n",
       "      <td>1</td>\n",
       "      <td>1</td>\n",
       "      <td>...</td>\n",
       "      <td>No</td>\n",
       "      <td>No</td>\n",
       "      <td>No</td>\n",
       "      <td>No</td>\n",
       "      <td>No</td>\n",
       "      <td>No</td>\n",
       "      <td>No</td>\n",
       "      <td>No</td>\n",
       "      <td>No</td>\n",
       "      <td>NO</td>\n",
       "    </tr>\n",
       "    <tr>\n",
       "      <th>1</th>\n",
       "      <td>149190</td>\n",
       "      <td>55629189</td>\n",
       "      <td>Caucasian</td>\n",
       "      <td>Female</td>\n",
       "      <td>[10-20)</td>\n",
       "      <td>?</td>\n",
       "      <td>1</td>\n",
       "      <td>1</td>\n",
       "      <td>7</td>\n",
       "      <td>3</td>\n",
       "      <td>...</td>\n",
       "      <td>No</td>\n",
       "      <td>Up</td>\n",
       "      <td>No</td>\n",
       "      <td>No</td>\n",
       "      <td>No</td>\n",
       "      <td>No</td>\n",
       "      <td>No</td>\n",
       "      <td>Ch</td>\n",
       "      <td>Yes</td>\n",
       "      <td>&gt;30</td>\n",
       "    </tr>\n",
       "    <tr>\n",
       "      <th>2</th>\n",
       "      <td>64410</td>\n",
       "      <td>86047875</td>\n",
       "      <td>AfricanAmerican</td>\n",
       "      <td>Female</td>\n",
       "      <td>[20-30)</td>\n",
       "      <td>?</td>\n",
       "      <td>1</td>\n",
       "      <td>1</td>\n",
       "      <td>7</td>\n",
       "      <td>2</td>\n",
       "      <td>...</td>\n",
       "      <td>No</td>\n",
       "      <td>No</td>\n",
       "      <td>No</td>\n",
       "      <td>No</td>\n",
       "      <td>No</td>\n",
       "      <td>No</td>\n",
       "      <td>No</td>\n",
       "      <td>No</td>\n",
       "      <td>Yes</td>\n",
       "      <td>NO</td>\n",
       "    </tr>\n",
       "    <tr>\n",
       "      <th>3</th>\n",
       "      <td>500364</td>\n",
       "      <td>82442376</td>\n",
       "      <td>Caucasian</td>\n",
       "      <td>Male</td>\n",
       "      <td>[30-40)</td>\n",
       "      <td>?</td>\n",
       "      <td>1</td>\n",
       "      <td>1</td>\n",
       "      <td>7</td>\n",
       "      <td>2</td>\n",
       "      <td>...</td>\n",
       "      <td>No</td>\n",
       "      <td>Up</td>\n",
       "      <td>No</td>\n",
       "      <td>No</td>\n",
       "      <td>No</td>\n",
       "      <td>No</td>\n",
       "      <td>No</td>\n",
       "      <td>Ch</td>\n",
       "      <td>Yes</td>\n",
       "      <td>NO</td>\n",
       "    </tr>\n",
       "    <tr>\n",
       "      <th>4</th>\n",
       "      <td>16680</td>\n",
       "      <td>42519267</td>\n",
       "      <td>Caucasian</td>\n",
       "      <td>Male</td>\n",
       "      <td>[40-50)</td>\n",
       "      <td>?</td>\n",
       "      <td>1</td>\n",
       "      <td>1</td>\n",
       "      <td>7</td>\n",
       "      <td>1</td>\n",
       "      <td>...</td>\n",
       "      <td>No</td>\n",
       "      <td>Steady</td>\n",
       "      <td>No</td>\n",
       "      <td>No</td>\n",
       "      <td>No</td>\n",
       "      <td>No</td>\n",
       "      <td>No</td>\n",
       "      <td>Ch</td>\n",
       "      <td>Yes</td>\n",
       "      <td>NO</td>\n",
       "    </tr>\n",
       "  </tbody>\n",
       "</table>\n",
       "<p>5 rows × 50 columns</p>\n",
       "</div>\n",
       "      <button class=\"colab-df-convert\" onclick=\"convertToInteractive('df-ad781c6c-7731-4978-9970-d7255dfd7a46')\"\n",
       "              title=\"Convert this dataframe to an interactive table.\"\n",
       "              style=\"display:none;\">\n",
       "        \n",
       "  <svg xmlns=\"http://www.w3.org/2000/svg\" height=\"24px\"viewBox=\"0 0 24 24\"\n",
       "       width=\"24px\">\n",
       "    <path d=\"M0 0h24v24H0V0z\" fill=\"none\"/>\n",
       "    <path d=\"M18.56 5.44l.94 2.06.94-2.06 2.06-.94-2.06-.94-.94-2.06-.94 2.06-2.06.94zm-11 1L8.5 8.5l.94-2.06 2.06-.94-2.06-.94L8.5 2.5l-.94 2.06-2.06.94zm10 10l.94 2.06.94-2.06 2.06-.94-2.06-.94-.94-2.06-.94 2.06-2.06.94z\"/><path d=\"M17.41 7.96l-1.37-1.37c-.4-.4-.92-.59-1.43-.59-.52 0-1.04.2-1.43.59L10.3 9.45l-7.72 7.72c-.78.78-.78 2.05 0 2.83L4 21.41c.39.39.9.59 1.41.59.51 0 1.02-.2 1.41-.59l7.78-7.78 2.81-2.81c.8-.78.8-2.07 0-2.86zM5.41 20L4 18.59l7.72-7.72 1.47 1.35L5.41 20z\"/>\n",
       "  </svg>\n",
       "      </button>\n",
       "      \n",
       "  <style>\n",
       "    .colab-df-container {\n",
       "      display:flex;\n",
       "      flex-wrap:wrap;\n",
       "      gap: 12px;\n",
       "    }\n",
       "\n",
       "    .colab-df-convert {\n",
       "      background-color: #E8F0FE;\n",
       "      border: none;\n",
       "      border-radius: 50%;\n",
       "      cursor: pointer;\n",
       "      display: none;\n",
       "      fill: #1967D2;\n",
       "      height: 32px;\n",
       "      padding: 0 0 0 0;\n",
       "      width: 32px;\n",
       "    }\n",
       "\n",
       "    .colab-df-convert:hover {\n",
       "      background-color: #E2EBFA;\n",
       "      box-shadow: 0px 1px 2px rgba(60, 64, 67, 0.3), 0px 1px 3px 1px rgba(60, 64, 67, 0.15);\n",
       "      fill: #174EA6;\n",
       "    }\n",
       "\n",
       "    [theme=dark] .colab-df-convert {\n",
       "      background-color: #3B4455;\n",
       "      fill: #D2E3FC;\n",
       "    }\n",
       "\n",
       "    [theme=dark] .colab-df-convert:hover {\n",
       "      background-color: #434B5C;\n",
       "      box-shadow: 0px 1px 3px 1px rgba(0, 0, 0, 0.15);\n",
       "      filter: drop-shadow(0px 1px 2px rgba(0, 0, 0, 0.3));\n",
       "      fill: #FFFFFF;\n",
       "    }\n",
       "  </style>\n",
       "\n",
       "      <script>\n",
       "        const buttonEl =\n",
       "          document.querySelector('#df-ad781c6c-7731-4978-9970-d7255dfd7a46 button.colab-df-convert');\n",
       "        buttonEl.style.display =\n",
       "          google.colab.kernel.accessAllowed ? 'block' : 'none';\n",
       "\n",
       "        async function convertToInteractive(key) {\n",
       "          const element = document.querySelector('#df-ad781c6c-7731-4978-9970-d7255dfd7a46');\n",
       "          const dataTable =\n",
       "            await google.colab.kernel.invokeFunction('convertToInteractive',\n",
       "                                                     [key], {});\n",
       "          if (!dataTable) return;\n",
       "\n",
       "          const docLinkHtml = 'Like what you see? Visit the ' +\n",
       "            '<a target=\"_blank\" href=https://colab.research.google.com/notebooks/data_table.ipynb>data table notebook</a>'\n",
       "            + ' to learn more about interactive tables.';\n",
       "          element.innerHTML = '';\n",
       "          dataTable['output_type'] = 'display_data';\n",
       "          await google.colab.output.renderOutput(dataTable, element);\n",
       "          const docLink = document.createElement('div');\n",
       "          docLink.innerHTML = docLinkHtml;\n",
       "          element.appendChild(docLink);\n",
       "        }\n",
       "      </script>\n",
       "    </div>\n",
       "  </div>\n",
       "  "
      ],
      "text/plain": [
       "   encounter_id  patient_nbr             race  gender      age weight  \\\n",
       "0       2278392      8222157        Caucasian  Female   [0-10)      ?   \n",
       "1        149190     55629189        Caucasian  Female  [10-20)      ?   \n",
       "2         64410     86047875  AfricanAmerican  Female  [20-30)      ?   \n",
       "3        500364     82442376        Caucasian    Male  [30-40)      ?   \n",
       "4         16680     42519267        Caucasian    Male  [40-50)      ?   \n",
       "\n",
       "   admission_type_id  discharge_disposition_id  admission_source_id  \\\n",
       "0                  6                        25                    1   \n",
       "1                  1                         1                    7   \n",
       "2                  1                         1                    7   \n",
       "3                  1                         1                    7   \n",
       "4                  1                         1                    7   \n",
       "\n",
       "   time_in_hospital  ... citoglipton insulin  glyburide-metformin  \\\n",
       "0                 1  ...          No      No                   No   \n",
       "1                 3  ...          No      Up                   No   \n",
       "2                 2  ...          No      No                   No   \n",
       "3                 2  ...          No      Up                   No   \n",
       "4                 1  ...          No  Steady                   No   \n",
       "\n",
       "   glipizide-metformin  glimepiride-pioglitazone  metformin-rosiglitazone  \\\n",
       "0                   No                        No                       No   \n",
       "1                   No                        No                       No   \n",
       "2                   No                        No                       No   \n",
       "3                   No                        No                       No   \n",
       "4                   No                        No                       No   \n",
       "\n",
       "   metformin-pioglitazone  change diabetesMed readmitted  \n",
       "0                      No      No          No         NO  \n",
       "1                      No      Ch         Yes        >30  \n",
       "2                      No      No         Yes         NO  \n",
       "3                      No      Ch         Yes         NO  \n",
       "4                      No      Ch         Yes         NO  \n",
       "\n",
       "[5 rows x 50 columns]"
      ]
     },
     "execution_count": 2,
     "metadata": {},
     "output_type": "execute_result"
    }
   ],
   "source": [
    "# Import dataset\n",
    "readmit_df = pd.read_csv(\"diabetic_data.csv\")\n",
    "\n",
    "# Preview the dataset\n",
    "readmit_df.head(5)"
   ]
  },
  {
   "cell_type": "markdown",
   "id": "c54a5995-7c10-477b-89f0-9cc5a528581e",
   "metadata": {
    "id": "c54a5995-7c10-477b-89f0-9cc5a528581e"
   },
   "source": [
    "### 3.2 Explore the data"
   ]
  },
  {
   "cell_type": "code",
   "execution_count": null,
   "id": "a23d725e-dfe0-4bfd-86da-7d87907b06d0",
   "metadata": {
    "colab": {
     "base_uri": "https://localhost:8080/"
    },
    "id": "a23d725e-dfe0-4bfd-86da-7d87907b06d0",
    "outputId": "d7933871-afcb-45a1-d4e3-6f80ab19e955"
   },
   "outputs": [
    {
     "data": {
      "text/plain": [
       "Index(['encounter_id', 'patient_nbr', 'race', 'gender', 'age', 'weight',\n",
       "       'admission_type_id', 'discharge_disposition_id', 'admission_source_id',\n",
       "       'time_in_hospital', 'payer_code', 'medical_specialty',\n",
       "       'num_lab_procedures', 'num_procedures', 'num_medications',\n",
       "       'number_outpatient', 'number_emergency', 'number_inpatient', 'diag_1',\n",
       "       'diag_2', 'diag_3', 'number_diagnoses', 'max_glu_serum', 'A1Cresult',\n",
       "       'metformin', 'repaglinide', 'nateglinide', 'chlorpropamide',\n",
       "       'glimepiride', 'acetohexamide', 'glipizide', 'glyburide', 'tolbutamide',\n",
       "       'pioglitazone', 'rosiglitazone', 'acarbose', 'miglitol', 'troglitazone',\n",
       "       'tolazamide', 'examide', 'citoglipton', 'insulin',\n",
       "       'glyburide-metformin', 'glipizide-metformin',\n",
       "       'glimepiride-pioglitazone', 'metformin-rosiglitazone',\n",
       "       'metformin-pioglitazone', 'change', 'diabetesMed', 'readmitted'],\n",
       "      dtype='object')"
      ]
     },
     "execution_count": 3,
     "metadata": {},
     "output_type": "execute_result"
    }
   ],
   "source": [
    "# View Column Names\n",
    "readmit_df.columns"
   ]
  },
  {
   "cell_type": "code",
   "execution_count": null,
   "id": "246130d0-79aa-4612-9f20-98d77e76b080",
   "metadata": {
    "colab": {
     "base_uri": "https://localhost:8080/",
     "height": 364
    },
    "id": "246130d0-79aa-4612-9f20-98d77e76b080",
    "outputId": "90b5cca1-7cc9-40bf-c4ed-d0898bb51c7f"
   },
   "outputs": [
    {
     "data": {
      "text/html": [
       "\n",
       "  <div id=\"df-0aba74ce-0789-4155-bf2f-c0f3ec3785a0\">\n",
       "    <div class=\"colab-df-container\">\n",
       "      <div>\n",
       "<style scoped>\n",
       "    .dataframe tbody tr th:only-of-type {\n",
       "        vertical-align: middle;\n",
       "    }\n",
       "\n",
       "    .dataframe tbody tr th {\n",
       "        vertical-align: top;\n",
       "    }\n",
       "\n",
       "    .dataframe thead th {\n",
       "        text-align: right;\n",
       "    }\n",
       "</style>\n",
       "<table border=\"1\" class=\"dataframe\">\n",
       "  <thead>\n",
       "    <tr style=\"text-align: right;\">\n",
       "      <th></th>\n",
       "      <th>encounter_id</th>\n",
       "      <th>patient_nbr</th>\n",
       "      <th>admission_type_id</th>\n",
       "      <th>discharge_disposition_id</th>\n",
       "      <th>admission_source_id</th>\n",
       "      <th>time_in_hospital</th>\n",
       "      <th>num_lab_procedures</th>\n",
       "      <th>num_procedures</th>\n",
       "      <th>num_medications</th>\n",
       "      <th>number_outpatient</th>\n",
       "      <th>number_emergency</th>\n",
       "      <th>number_inpatient</th>\n",
       "      <th>number_diagnoses</th>\n",
       "    </tr>\n",
       "  </thead>\n",
       "  <tbody>\n",
       "    <tr>\n",
       "      <th>count</th>\n",
       "      <td>1.017660e+05</td>\n",
       "      <td>1.017660e+05</td>\n",
       "      <td>101766.000000</td>\n",
       "      <td>101766.000000</td>\n",
       "      <td>101766.000000</td>\n",
       "      <td>101766.000000</td>\n",
       "      <td>101766.000000</td>\n",
       "      <td>101766.000000</td>\n",
       "      <td>101766.000000</td>\n",
       "      <td>101766.000000</td>\n",
       "      <td>101766.000000</td>\n",
       "      <td>101766.000000</td>\n",
       "      <td>101766.000000</td>\n",
       "    </tr>\n",
       "    <tr>\n",
       "      <th>mean</th>\n",
       "      <td>1.652016e+08</td>\n",
       "      <td>5.433040e+07</td>\n",
       "      <td>2.024006</td>\n",
       "      <td>3.715642</td>\n",
       "      <td>5.754437</td>\n",
       "      <td>4.395987</td>\n",
       "      <td>43.095641</td>\n",
       "      <td>1.339730</td>\n",
       "      <td>16.021844</td>\n",
       "      <td>0.369357</td>\n",
       "      <td>0.197836</td>\n",
       "      <td>0.635566</td>\n",
       "      <td>7.422607</td>\n",
       "    </tr>\n",
       "    <tr>\n",
       "      <th>std</th>\n",
       "      <td>1.026403e+08</td>\n",
       "      <td>3.869636e+07</td>\n",
       "      <td>1.445403</td>\n",
       "      <td>5.280166</td>\n",
       "      <td>4.064081</td>\n",
       "      <td>2.985108</td>\n",
       "      <td>19.674362</td>\n",
       "      <td>1.705807</td>\n",
       "      <td>8.127566</td>\n",
       "      <td>1.267265</td>\n",
       "      <td>0.930472</td>\n",
       "      <td>1.262863</td>\n",
       "      <td>1.933600</td>\n",
       "    </tr>\n",
       "    <tr>\n",
       "      <th>min</th>\n",
       "      <td>1.252200e+04</td>\n",
       "      <td>1.350000e+02</td>\n",
       "      <td>1.000000</td>\n",
       "      <td>1.000000</td>\n",
       "      <td>1.000000</td>\n",
       "      <td>1.000000</td>\n",
       "      <td>1.000000</td>\n",
       "      <td>0.000000</td>\n",
       "      <td>1.000000</td>\n",
       "      <td>0.000000</td>\n",
       "      <td>0.000000</td>\n",
       "      <td>0.000000</td>\n",
       "      <td>1.000000</td>\n",
       "    </tr>\n",
       "    <tr>\n",
       "      <th>25%</th>\n",
       "      <td>8.496119e+07</td>\n",
       "      <td>2.341322e+07</td>\n",
       "      <td>1.000000</td>\n",
       "      <td>1.000000</td>\n",
       "      <td>1.000000</td>\n",
       "      <td>2.000000</td>\n",
       "      <td>31.000000</td>\n",
       "      <td>0.000000</td>\n",
       "      <td>10.000000</td>\n",
       "      <td>0.000000</td>\n",
       "      <td>0.000000</td>\n",
       "      <td>0.000000</td>\n",
       "      <td>6.000000</td>\n",
       "    </tr>\n",
       "    <tr>\n",
       "      <th>50%</th>\n",
       "      <td>1.523890e+08</td>\n",
       "      <td>4.550514e+07</td>\n",
       "      <td>1.000000</td>\n",
       "      <td>1.000000</td>\n",
       "      <td>7.000000</td>\n",
       "      <td>4.000000</td>\n",
       "      <td>44.000000</td>\n",
       "      <td>1.000000</td>\n",
       "      <td>15.000000</td>\n",
       "      <td>0.000000</td>\n",
       "      <td>0.000000</td>\n",
       "      <td>0.000000</td>\n",
       "      <td>8.000000</td>\n",
       "    </tr>\n",
       "    <tr>\n",
       "      <th>75%</th>\n",
       "      <td>2.302709e+08</td>\n",
       "      <td>8.754595e+07</td>\n",
       "      <td>3.000000</td>\n",
       "      <td>4.000000</td>\n",
       "      <td>7.000000</td>\n",
       "      <td>6.000000</td>\n",
       "      <td>57.000000</td>\n",
       "      <td>2.000000</td>\n",
       "      <td>20.000000</td>\n",
       "      <td>0.000000</td>\n",
       "      <td>0.000000</td>\n",
       "      <td>1.000000</td>\n",
       "      <td>9.000000</td>\n",
       "    </tr>\n",
       "    <tr>\n",
       "      <th>max</th>\n",
       "      <td>4.438672e+08</td>\n",
       "      <td>1.895026e+08</td>\n",
       "      <td>8.000000</td>\n",
       "      <td>28.000000</td>\n",
       "      <td>25.000000</td>\n",
       "      <td>14.000000</td>\n",
       "      <td>132.000000</td>\n",
       "      <td>6.000000</td>\n",
       "      <td>81.000000</td>\n",
       "      <td>42.000000</td>\n",
       "      <td>76.000000</td>\n",
       "      <td>21.000000</td>\n",
       "      <td>16.000000</td>\n",
       "    </tr>\n",
       "  </tbody>\n",
       "</table>\n",
       "</div>\n",
       "      <button class=\"colab-df-convert\" onclick=\"convertToInteractive('df-0aba74ce-0789-4155-bf2f-c0f3ec3785a0')\"\n",
       "              title=\"Convert this dataframe to an interactive table.\"\n",
       "              style=\"display:none;\">\n",
       "        \n",
       "  <svg xmlns=\"http://www.w3.org/2000/svg\" height=\"24px\"viewBox=\"0 0 24 24\"\n",
       "       width=\"24px\">\n",
       "    <path d=\"M0 0h24v24H0V0z\" fill=\"none\"/>\n",
       "    <path d=\"M18.56 5.44l.94 2.06.94-2.06 2.06-.94-2.06-.94-.94-2.06-.94 2.06-2.06.94zm-11 1L8.5 8.5l.94-2.06 2.06-.94-2.06-.94L8.5 2.5l-.94 2.06-2.06.94zm10 10l.94 2.06.94-2.06 2.06-.94-2.06-.94-.94-2.06-.94 2.06-2.06.94z\"/><path d=\"M17.41 7.96l-1.37-1.37c-.4-.4-.92-.59-1.43-.59-.52 0-1.04.2-1.43.59L10.3 9.45l-7.72 7.72c-.78.78-.78 2.05 0 2.83L4 21.41c.39.39.9.59 1.41.59.51 0 1.02-.2 1.41-.59l7.78-7.78 2.81-2.81c.8-.78.8-2.07 0-2.86zM5.41 20L4 18.59l7.72-7.72 1.47 1.35L5.41 20z\"/>\n",
       "  </svg>\n",
       "      </button>\n",
       "      \n",
       "  <style>\n",
       "    .colab-df-container {\n",
       "      display:flex;\n",
       "      flex-wrap:wrap;\n",
       "      gap: 12px;\n",
       "    }\n",
       "\n",
       "    .colab-df-convert {\n",
       "      background-color: #E8F0FE;\n",
       "      border: none;\n",
       "      border-radius: 50%;\n",
       "      cursor: pointer;\n",
       "      display: none;\n",
       "      fill: #1967D2;\n",
       "      height: 32px;\n",
       "      padding: 0 0 0 0;\n",
       "      width: 32px;\n",
       "    }\n",
       "\n",
       "    .colab-df-convert:hover {\n",
       "      background-color: #E2EBFA;\n",
       "      box-shadow: 0px 1px 2px rgba(60, 64, 67, 0.3), 0px 1px 3px 1px rgba(60, 64, 67, 0.15);\n",
       "      fill: #174EA6;\n",
       "    }\n",
       "\n",
       "    [theme=dark] .colab-df-convert {\n",
       "      background-color: #3B4455;\n",
       "      fill: #D2E3FC;\n",
       "    }\n",
       "\n",
       "    [theme=dark] .colab-df-convert:hover {\n",
       "      background-color: #434B5C;\n",
       "      box-shadow: 0px 1px 3px 1px rgba(0, 0, 0, 0.15);\n",
       "      filter: drop-shadow(0px 1px 2px rgba(0, 0, 0, 0.3));\n",
       "      fill: #FFFFFF;\n",
       "    }\n",
       "  </style>\n",
       "\n",
       "      <script>\n",
       "        const buttonEl =\n",
       "          document.querySelector('#df-0aba74ce-0789-4155-bf2f-c0f3ec3785a0 button.colab-df-convert');\n",
       "        buttonEl.style.display =\n",
       "          google.colab.kernel.accessAllowed ? 'block' : 'none';\n",
       "\n",
       "        async function convertToInteractive(key) {\n",
       "          const element = document.querySelector('#df-0aba74ce-0789-4155-bf2f-c0f3ec3785a0');\n",
       "          const dataTable =\n",
       "            await google.colab.kernel.invokeFunction('convertToInteractive',\n",
       "                                                     [key], {});\n",
       "          if (!dataTable) return;\n",
       "\n",
       "          const docLinkHtml = 'Like what you see? Visit the ' +\n",
       "            '<a target=\"_blank\" href=https://colab.research.google.com/notebooks/data_table.ipynb>data table notebook</a>'\n",
       "            + ' to learn more about interactive tables.';\n",
       "          element.innerHTML = '';\n",
       "          dataTable['output_type'] = 'display_data';\n",
       "          await google.colab.output.renderOutput(dataTable, element);\n",
       "          const docLink = document.createElement('div');\n",
       "          docLink.innerHTML = docLinkHtml;\n",
       "          element.appendChild(docLink);\n",
       "        }\n",
       "      </script>\n",
       "    </div>\n",
       "  </div>\n",
       "  "
      ],
      "text/plain": [
       "       encounter_id   patient_nbr  admission_type_id  \\\n",
       "count  1.017660e+05  1.017660e+05      101766.000000   \n",
       "mean   1.652016e+08  5.433040e+07           2.024006   \n",
       "std    1.026403e+08  3.869636e+07           1.445403   \n",
       "min    1.252200e+04  1.350000e+02           1.000000   \n",
       "25%    8.496119e+07  2.341322e+07           1.000000   \n",
       "50%    1.523890e+08  4.550514e+07           1.000000   \n",
       "75%    2.302709e+08  8.754595e+07           3.000000   \n",
       "max    4.438672e+08  1.895026e+08           8.000000   \n",
       "\n",
       "       discharge_disposition_id  admission_source_id  time_in_hospital  \\\n",
       "count             101766.000000        101766.000000     101766.000000   \n",
       "mean                   3.715642             5.754437          4.395987   \n",
       "std                    5.280166             4.064081          2.985108   \n",
       "min                    1.000000             1.000000          1.000000   \n",
       "25%                    1.000000             1.000000          2.000000   \n",
       "50%                    1.000000             7.000000          4.000000   \n",
       "75%                    4.000000             7.000000          6.000000   \n",
       "max                   28.000000            25.000000         14.000000   \n",
       "\n",
       "       num_lab_procedures  num_procedures  num_medications  number_outpatient  \\\n",
       "count       101766.000000   101766.000000    101766.000000      101766.000000   \n",
       "mean            43.095641        1.339730        16.021844           0.369357   \n",
       "std             19.674362        1.705807         8.127566           1.267265   \n",
       "min              1.000000        0.000000         1.000000           0.000000   \n",
       "25%             31.000000        0.000000        10.000000           0.000000   \n",
       "50%             44.000000        1.000000        15.000000           0.000000   \n",
       "75%             57.000000        2.000000        20.000000           0.000000   \n",
       "max            132.000000        6.000000        81.000000          42.000000   \n",
       "\n",
       "       number_emergency  number_inpatient  number_diagnoses  \n",
       "count     101766.000000     101766.000000     101766.000000  \n",
       "mean           0.197836          0.635566          7.422607  \n",
       "std            0.930472          1.262863          1.933600  \n",
       "min            0.000000          0.000000          1.000000  \n",
       "25%            0.000000          0.000000          6.000000  \n",
       "50%            0.000000          0.000000          8.000000  \n",
       "75%            0.000000          1.000000          9.000000  \n",
       "max           76.000000         21.000000         16.000000  "
      ]
     },
     "execution_count": 4,
     "metadata": {},
     "output_type": "execute_result"
    }
   ],
   "source": [
    "readmit_df.describe()"
   ]
  },
  {
   "cell_type": "code",
   "execution_count": null,
   "id": "76c41280-e4e6-49d8-ad7c-b422d05ab556",
   "metadata": {
    "colab": {
     "base_uri": "https://localhost:8080/"
    },
    "id": "76c41280-e4e6-49d8-ad7c-b422d05ab556",
    "outputId": "9c3bbb62-62c5-4235-8aaa-4a2539f7e8ab"
   },
   "outputs": [
    {
     "name": "stdout",
     "output_type": "stream",
     "text": [
      "<class 'pandas.core.frame.DataFrame'>\n",
      "RangeIndex: 101766 entries, 0 to 101765\n",
      "Data columns (total 50 columns):\n",
      " #   Column                    Non-Null Count   Dtype \n",
      "---  ------                    --------------   ----- \n",
      " 0   encounter_id              101766 non-null  int64 \n",
      " 1   patient_nbr               101766 non-null  int64 \n",
      " 2   race                      101766 non-null  object\n",
      " 3   gender                    101766 non-null  object\n",
      " 4   age                       101766 non-null  object\n",
      " 5   weight                    101766 non-null  object\n",
      " 6   admission_type_id         101766 non-null  int64 \n",
      " 7   discharge_disposition_id  101766 non-null  int64 \n",
      " 8   admission_source_id       101766 non-null  int64 \n",
      " 9   time_in_hospital          101766 non-null  int64 \n",
      " 10  payer_code                101766 non-null  object\n",
      " 11  medical_specialty         101766 non-null  object\n",
      " 12  num_lab_procedures        101766 non-null  int64 \n",
      " 13  num_procedures            101766 non-null  int64 \n",
      " 14  num_medications           101766 non-null  int64 \n",
      " 15  number_outpatient         101766 non-null  int64 \n",
      " 16  number_emergency          101766 non-null  int64 \n",
      " 17  number_inpatient          101766 non-null  int64 \n",
      " 18  diag_1                    101766 non-null  object\n",
      " 19  diag_2                    101766 non-null  object\n",
      " 20  diag_3                    101766 non-null  object\n",
      " 21  number_diagnoses          101766 non-null  int64 \n",
      " 22  max_glu_serum             101766 non-null  object\n",
      " 23  A1Cresult                 101766 non-null  object\n",
      " 24  metformin                 101766 non-null  object\n",
      " 25  repaglinide               101766 non-null  object\n",
      " 26  nateglinide               101766 non-null  object\n",
      " 27  chlorpropamide            101766 non-null  object\n",
      " 28  glimepiride               101766 non-null  object\n",
      " 29  acetohexamide             101766 non-null  object\n",
      " 30  glipizide                 101766 non-null  object\n",
      " 31  glyburide                 101766 non-null  object\n",
      " 32  tolbutamide               101766 non-null  object\n",
      " 33  pioglitazone              101766 non-null  object\n",
      " 34  rosiglitazone             101766 non-null  object\n",
      " 35  acarbose                  101766 non-null  object\n",
      " 36  miglitol                  101766 non-null  object\n",
      " 37  troglitazone              101766 non-null  object\n",
      " 38  tolazamide                101766 non-null  object\n",
      " 39  examide                   101766 non-null  object\n",
      " 40  citoglipton               101766 non-null  object\n",
      " 41  insulin                   101766 non-null  object\n",
      " 42  glyburide-metformin       101766 non-null  object\n",
      " 43  glipizide-metformin       101766 non-null  object\n",
      " 44  glimepiride-pioglitazone  101766 non-null  object\n",
      " 45  metformin-rosiglitazone   101766 non-null  object\n",
      " 46  metformin-pioglitazone    101766 non-null  object\n",
      " 47  change                    101766 non-null  object\n",
      " 48  diabetesMed               101766 non-null  object\n",
      " 49  readmitted                101766 non-null  object\n",
      "dtypes: int64(13), object(37)\n",
      "memory usage: 38.8+ MB\n"
     ]
    }
   ],
   "source": [
    "readmit_df.info()"
   ]
  },
  {
   "cell_type": "markdown",
   "id": "KL0W2jOtX_4a",
   "metadata": {
    "id": "KL0W2jOtX_4a"
   },
   "source": [
    "### 3.3 Check for missing values"
   ]
  },
  {
   "cell_type": "code",
   "execution_count": null,
   "id": "87a2f3ca-a8f3-4d5d-a3ee-1f96a2c51ff1",
   "metadata": {
    "colab": {
     "base_uri": "https://localhost:8080/"
    },
    "id": "87a2f3ca-a8f3-4d5d-a3ee-1f96a2c51ff1",
    "outputId": "d833d986-d37b-4b06-b9d9-4ee2e2dea530"
   },
   "outputs": [
    {
     "name": "stdout",
     "output_type": "stream",
     "text": [
      "race 2273\n",
      "gender 0\n",
      "age 0\n",
      "weight 98569\n",
      "payer_code 40256\n",
      "medical_specialty 49949\n",
      "diag_1 21\n",
      "diag_2 358\n",
      "diag_3 1423\n",
      "max_glu_serum 0\n",
      "A1Cresult 0\n",
      "metformin 0\n",
      "repaglinide 0\n",
      "nateglinide 0\n",
      "chlorpropamide 0\n",
      "glimepiride 0\n",
      "acetohexamide 0\n",
      "glipizide 0\n",
      "glyburide 0\n",
      "tolbutamide 0\n",
      "pioglitazone 0\n",
      "rosiglitazone 0\n",
      "acarbose 0\n",
      "miglitol 0\n",
      "troglitazone 0\n",
      "tolazamide 0\n",
      "examide 0\n",
      "citoglipton 0\n",
      "insulin 0\n",
      "glyburide-metformin 0\n",
      "glipizide-metformin 0\n",
      "glimepiride-pioglitazone 0\n",
      "metformin-rosiglitazone 0\n",
      "metformin-pioglitazone 0\n",
      "change 0\n",
      "diabetesMed 0\n",
      "readmitted 0\n"
     ]
    }
   ],
   "source": [
    "## Check for missing values\n",
    "#In the dataset missing values are represented as '?' sign\n",
    "for col in readmit_df.columns:\n",
    "    if readmit_df[col].dtype == object:\n",
    "         print(col,readmit_df[col][readmit_df[col] == '?'].count())\n"
   ]
  },
  {
   "cell_type": "markdown",
   "id": "5cffe06e-8ea7-430f-8ac7-a9d773fc6e8e",
   "metadata": {
    "id": "5cffe06e-8ea7-430f-8ac7-a9d773fc6e8e"
   },
   "source": [
    "## Step 4: Clean and transform data"
   ]
  },
  {
   "cell_type": "markdown",
   "id": "oNnhAlXEYmuY",
   "metadata": {
    "id": "oNnhAlXEYmuY"
   },
   "source": [
    "### 4.1 Separate Categorical and Continuous variables"
   ]
  },
  {
   "cell_type": "code",
   "execution_count": null,
   "id": "464cf8af-0fda-4180-a7c6-55684b0d0d9f",
   "metadata": {
    "colab": {
     "base_uri": "https://localhost:8080/"
    },
    "id": "464cf8af-0fda-4180-a7c6-55684b0d0d9f",
    "outputId": "6bc817c0-8282-4439-eb25-90991827cdb6"
   },
   "outputs": [
    {
     "name": "stdout",
     "output_type": "stream",
     "text": [
      "['race', 'gender', 'age', 'weight', 'payer_code', 'medical_specialty', 'diag_1', 'diag_2', 'diag_3', 'max_glu_serum', 'A1Cresult', 'metformin', 'repaglinide', 'nateglinide', 'chlorpropamide', 'glimepiride', 'acetohexamide', 'glipizide', 'glyburide', 'tolbutamide', 'pioglitazone', 'rosiglitazone', 'acarbose', 'miglitol', 'troglitazone', 'tolazamide', 'examide', 'citoglipton', 'insulin', 'glyburide-metformin', 'glipizide-metformin', 'glimepiride-pioglitazone', 'metformin-rosiglitazone', 'metformin-pioglitazone', 'change', 'diabetesMed', 'readmitted']\n",
      "['encounter_id', 'patient_nbr', 'admission_type_id', 'discharge_disposition_id', 'admission_source_id', 'time_in_hospital', 'num_lab_procedures', 'num_procedures', 'num_medications', 'number_outpatient', 'number_emergency', 'number_inpatient', 'number_diagnoses']\n"
     ]
    }
   ],
   "source": [
    "# Separate Categorical and Continuous variables\n",
    "categorical_col, contin_val=[],[]\n",
    "\n",
    "for i in readmit_df.columns:\n",
    "    \n",
    "    if readmit_df[i].dtype == 'object':\n",
    "        categorical_col.append(i)\n",
    "    else:\n",
    "        contin_val.append(i)\n",
    "        \n",
    "print(categorical_col)\n",
    "print(contin_val)"
   ]
  },
  {
   "cell_type": "markdown",
   "id": "a54dde84-b291-49fd-afd1-9cffca85c7e0",
   "metadata": {
    "id": "a54dde84-b291-49fd-afd1-9cffca85c7e0"
   },
   "source": [
    "### 4.2 Target variable: \n",
    "Whether or not the patient is readmitted to the hospital within 30 days is the result we are focusing on. The variable actually has three categories:  < 30, > 30, and No Readmission. We consolidated the readmission after 30 days and no readmission into a single category in order to simplify our issue to a binary categorization."
   ]
  },
  {
   "cell_type": "code",
   "execution_count": null,
   "id": "392b0892-31a6-4624-b9f3-838feb9a625f",
   "metadata": {
    "colab": {
     "base_uri": "https://localhost:8080/"
    },
    "id": "392b0892-31a6-4624-b9f3-838feb9a625f",
    "outputId": "3edc2f03-cbf3-4507-f704-b4790bbb8b7d"
   },
   "outputs": [
    {
     "name": "stdout",
     "output_type": "stream",
     "text": [
      "0         0\n",
      "1         0\n",
      "2         0\n",
      "3         0\n",
      "4         0\n",
      "         ..\n",
      "101761    0\n",
      "101762    0\n",
      "101763    0\n",
      "101764    0\n",
      "101765    0\n",
      "Name: readmitted, Length: 101766, dtype: int64\n"
     ]
    }
   ],
   "source": [
    "readmit_df['readmitted'] = readmit_df['readmitted'].replace('>30', 0)\n",
    "readmit_df['readmitted'] = readmit_df['readmitted'].replace('<30', 1)\n",
    "readmit_df['readmitted'] = readmit_df['readmitted'].replace('NO', 0)\n",
    "print(readmit_df.readmitted)\n"
   ]
  },
  {
   "cell_type": "markdown",
   "id": "NVHQjkS-ZIRW",
   "metadata": {
    "id": "NVHQjkS-ZIRW"
   },
   "source": [
    "### 4.3 Gender Variable:"
   ]
  },
  {
   "cell_type": "code",
   "execution_count": null,
   "id": "186169f1-018f-4226-a938-28d61553b56e",
   "metadata": {
    "colab": {
     "base_uri": "https://localhost:8080/"
    },
    "id": "186169f1-018f-4226-a938-28d61553b56e",
    "outputId": "06167827-7e06-4f58-e2f1-a4b2525d9281"
   },
   "outputs": [
    {
     "name": "stdout",
     "output_type": "stream",
     "text": [
      "gender 3\n"
     ]
    }
   ],
   "source": [
    "# gender shows different data so we used custom count            \n",
    "print('gender', readmit_df['gender'][readmit_df['gender'] == 'Unknown/Invalid'].count()) "
   ]
  },
  {
   "cell_type": "markdown",
   "id": "OgqZCcldaAEv",
   "metadata": {
    "id": "OgqZCcldaAEv"
   },
   "source": [
    "### 4.4 Dropping Variable weight, Payer code, medical speciality and encounter_id"
   ]
  },
  {
   "cell_type": "markdown",
   "id": "99bc4a86-1efb-4a12-9095-6d1ab51af2bd",
   "metadata": {
    "id": "99bc4a86-1efb-4a12-9095-6d1ab51af2bd"
   },
   "source": [
    "Our findings from the data exploration indicate that there are  missing values.\n",
    "We opted to eliminate Variable weight, Payer code, and medical speciality because the majority of the data for these variables is missing, and there is little point in filling in those empty values.\n"
   ]
  },
  {
   "cell_type": "code",
   "execution_count": null,
   "id": "44a93408-72d4-4178-b35c-f034c15f211c",
   "metadata": {
    "colab": {
     "base_uri": "https://localhost:8080/",
     "height": 678
    },
    "id": "44a93408-72d4-4178-b35c-f034c15f211c",
    "outputId": "25161eac-efeb-4387-be9e-f0bb96aaca32"
   },
   "outputs": [
    {
     "data": {
      "text/html": [
       "\n",
       "  <div id=\"df-99a06955-3574-40da-9470-d95e3a45efce\">\n",
       "    <div class=\"colab-df-container\">\n",
       "      <div>\n",
       "<style scoped>\n",
       "    .dataframe tbody tr th:only-of-type {\n",
       "        vertical-align: middle;\n",
       "    }\n",
       "\n",
       "    .dataframe tbody tr th {\n",
       "        vertical-align: top;\n",
       "    }\n",
       "\n",
       "    .dataframe thead th {\n",
       "        text-align: right;\n",
       "    }\n",
       "</style>\n",
       "<table border=\"1\" class=\"dataframe\">\n",
       "  <thead>\n",
       "    <tr style=\"text-align: right;\">\n",
       "      <th></th>\n",
       "      <th>patient_nbr</th>\n",
       "      <th>race</th>\n",
       "      <th>gender</th>\n",
       "      <th>age</th>\n",
       "      <th>admission_type_id</th>\n",
       "      <th>discharge_disposition_id</th>\n",
       "      <th>admission_source_id</th>\n",
       "      <th>time_in_hospital</th>\n",
       "      <th>num_lab_procedures</th>\n",
       "      <th>num_procedures</th>\n",
       "      <th>...</th>\n",
       "      <th>citoglipton</th>\n",
       "      <th>insulin</th>\n",
       "      <th>glyburide-metformin</th>\n",
       "      <th>glipizide-metformin</th>\n",
       "      <th>glimepiride-pioglitazone</th>\n",
       "      <th>metformin-rosiglitazone</th>\n",
       "      <th>metformin-pioglitazone</th>\n",
       "      <th>change</th>\n",
       "      <th>diabetesMed</th>\n",
       "      <th>readmitted</th>\n",
       "    </tr>\n",
       "  </thead>\n",
       "  <tbody>\n",
       "    <tr>\n",
       "      <th>0</th>\n",
       "      <td>8222157</td>\n",
       "      <td>Caucasian</td>\n",
       "      <td>Female</td>\n",
       "      <td>[0-10)</td>\n",
       "      <td>6</td>\n",
       "      <td>25</td>\n",
       "      <td>1</td>\n",
       "      <td>1</td>\n",
       "      <td>41</td>\n",
       "      <td>0</td>\n",
       "      <td>...</td>\n",
       "      <td>No</td>\n",
       "      <td>No</td>\n",
       "      <td>No</td>\n",
       "      <td>No</td>\n",
       "      <td>No</td>\n",
       "      <td>No</td>\n",
       "      <td>No</td>\n",
       "      <td>No</td>\n",
       "      <td>No</td>\n",
       "      <td>0</td>\n",
       "    </tr>\n",
       "    <tr>\n",
       "      <th>1</th>\n",
       "      <td>55629189</td>\n",
       "      <td>Caucasian</td>\n",
       "      <td>Female</td>\n",
       "      <td>[10-20)</td>\n",
       "      <td>1</td>\n",
       "      <td>1</td>\n",
       "      <td>7</td>\n",
       "      <td>3</td>\n",
       "      <td>59</td>\n",
       "      <td>0</td>\n",
       "      <td>...</td>\n",
       "      <td>No</td>\n",
       "      <td>Up</td>\n",
       "      <td>No</td>\n",
       "      <td>No</td>\n",
       "      <td>No</td>\n",
       "      <td>No</td>\n",
       "      <td>No</td>\n",
       "      <td>Ch</td>\n",
       "      <td>Yes</td>\n",
       "      <td>0</td>\n",
       "    </tr>\n",
       "    <tr>\n",
       "      <th>2</th>\n",
       "      <td>86047875</td>\n",
       "      <td>AfricanAmerican</td>\n",
       "      <td>Female</td>\n",
       "      <td>[20-30)</td>\n",
       "      <td>1</td>\n",
       "      <td>1</td>\n",
       "      <td>7</td>\n",
       "      <td>2</td>\n",
       "      <td>11</td>\n",
       "      <td>5</td>\n",
       "      <td>...</td>\n",
       "      <td>No</td>\n",
       "      <td>No</td>\n",
       "      <td>No</td>\n",
       "      <td>No</td>\n",
       "      <td>No</td>\n",
       "      <td>No</td>\n",
       "      <td>No</td>\n",
       "      <td>No</td>\n",
       "      <td>Yes</td>\n",
       "      <td>0</td>\n",
       "    </tr>\n",
       "    <tr>\n",
       "      <th>3</th>\n",
       "      <td>82442376</td>\n",
       "      <td>Caucasian</td>\n",
       "      <td>Male</td>\n",
       "      <td>[30-40)</td>\n",
       "      <td>1</td>\n",
       "      <td>1</td>\n",
       "      <td>7</td>\n",
       "      <td>2</td>\n",
       "      <td>44</td>\n",
       "      <td>1</td>\n",
       "      <td>...</td>\n",
       "      <td>No</td>\n",
       "      <td>Up</td>\n",
       "      <td>No</td>\n",
       "      <td>No</td>\n",
       "      <td>No</td>\n",
       "      <td>No</td>\n",
       "      <td>No</td>\n",
       "      <td>Ch</td>\n",
       "      <td>Yes</td>\n",
       "      <td>0</td>\n",
       "    </tr>\n",
       "    <tr>\n",
       "      <th>4</th>\n",
       "      <td>42519267</td>\n",
       "      <td>Caucasian</td>\n",
       "      <td>Male</td>\n",
       "      <td>[40-50)</td>\n",
       "      <td>1</td>\n",
       "      <td>1</td>\n",
       "      <td>7</td>\n",
       "      <td>1</td>\n",
       "      <td>51</td>\n",
       "      <td>0</td>\n",
       "      <td>...</td>\n",
       "      <td>No</td>\n",
       "      <td>Steady</td>\n",
       "      <td>No</td>\n",
       "      <td>No</td>\n",
       "      <td>No</td>\n",
       "      <td>No</td>\n",
       "      <td>No</td>\n",
       "      <td>Ch</td>\n",
       "      <td>Yes</td>\n",
       "      <td>0</td>\n",
       "    </tr>\n",
       "    <tr>\n",
       "      <th>...</th>\n",
       "      <td>...</td>\n",
       "      <td>...</td>\n",
       "      <td>...</td>\n",
       "      <td>...</td>\n",
       "      <td>...</td>\n",
       "      <td>...</td>\n",
       "      <td>...</td>\n",
       "      <td>...</td>\n",
       "      <td>...</td>\n",
       "      <td>...</td>\n",
       "      <td>...</td>\n",
       "      <td>...</td>\n",
       "      <td>...</td>\n",
       "      <td>...</td>\n",
       "      <td>...</td>\n",
       "      <td>...</td>\n",
       "      <td>...</td>\n",
       "      <td>...</td>\n",
       "      <td>...</td>\n",
       "      <td>...</td>\n",
       "      <td>...</td>\n",
       "    </tr>\n",
       "    <tr>\n",
       "      <th>101761</th>\n",
       "      <td>100162476</td>\n",
       "      <td>AfricanAmerican</td>\n",
       "      <td>Male</td>\n",
       "      <td>[70-80)</td>\n",
       "      <td>1</td>\n",
       "      <td>3</td>\n",
       "      <td>7</td>\n",
       "      <td>3</td>\n",
       "      <td>51</td>\n",
       "      <td>0</td>\n",
       "      <td>...</td>\n",
       "      <td>No</td>\n",
       "      <td>Down</td>\n",
       "      <td>No</td>\n",
       "      <td>No</td>\n",
       "      <td>No</td>\n",
       "      <td>No</td>\n",
       "      <td>No</td>\n",
       "      <td>Ch</td>\n",
       "      <td>Yes</td>\n",
       "      <td>0</td>\n",
       "    </tr>\n",
       "    <tr>\n",
       "      <th>101762</th>\n",
       "      <td>74694222</td>\n",
       "      <td>AfricanAmerican</td>\n",
       "      <td>Female</td>\n",
       "      <td>[80-90)</td>\n",
       "      <td>1</td>\n",
       "      <td>4</td>\n",
       "      <td>5</td>\n",
       "      <td>5</td>\n",
       "      <td>33</td>\n",
       "      <td>3</td>\n",
       "      <td>...</td>\n",
       "      <td>No</td>\n",
       "      <td>Steady</td>\n",
       "      <td>No</td>\n",
       "      <td>No</td>\n",
       "      <td>No</td>\n",
       "      <td>No</td>\n",
       "      <td>No</td>\n",
       "      <td>No</td>\n",
       "      <td>Yes</td>\n",
       "      <td>0</td>\n",
       "    </tr>\n",
       "    <tr>\n",
       "      <th>101763</th>\n",
       "      <td>41088789</td>\n",
       "      <td>Caucasian</td>\n",
       "      <td>Male</td>\n",
       "      <td>[70-80)</td>\n",
       "      <td>1</td>\n",
       "      <td>1</td>\n",
       "      <td>7</td>\n",
       "      <td>1</td>\n",
       "      <td>53</td>\n",
       "      <td>0</td>\n",
       "      <td>...</td>\n",
       "      <td>No</td>\n",
       "      <td>Down</td>\n",
       "      <td>No</td>\n",
       "      <td>No</td>\n",
       "      <td>No</td>\n",
       "      <td>No</td>\n",
       "      <td>No</td>\n",
       "      <td>Ch</td>\n",
       "      <td>Yes</td>\n",
       "      <td>0</td>\n",
       "    </tr>\n",
       "    <tr>\n",
       "      <th>101764</th>\n",
       "      <td>31693671</td>\n",
       "      <td>Caucasian</td>\n",
       "      <td>Female</td>\n",
       "      <td>[80-90)</td>\n",
       "      <td>2</td>\n",
       "      <td>3</td>\n",
       "      <td>7</td>\n",
       "      <td>10</td>\n",
       "      <td>45</td>\n",
       "      <td>2</td>\n",
       "      <td>...</td>\n",
       "      <td>No</td>\n",
       "      <td>Up</td>\n",
       "      <td>No</td>\n",
       "      <td>No</td>\n",
       "      <td>No</td>\n",
       "      <td>No</td>\n",
       "      <td>No</td>\n",
       "      <td>Ch</td>\n",
       "      <td>Yes</td>\n",
       "      <td>0</td>\n",
       "    </tr>\n",
       "    <tr>\n",
       "      <th>101765</th>\n",
       "      <td>175429310</td>\n",
       "      <td>Caucasian</td>\n",
       "      <td>Male</td>\n",
       "      <td>[70-80)</td>\n",
       "      <td>1</td>\n",
       "      <td>1</td>\n",
       "      <td>7</td>\n",
       "      <td>6</td>\n",
       "      <td>13</td>\n",
       "      <td>3</td>\n",
       "      <td>...</td>\n",
       "      <td>No</td>\n",
       "      <td>No</td>\n",
       "      <td>No</td>\n",
       "      <td>No</td>\n",
       "      <td>No</td>\n",
       "      <td>No</td>\n",
       "      <td>No</td>\n",
       "      <td>No</td>\n",
       "      <td>No</td>\n",
       "      <td>0</td>\n",
       "    </tr>\n",
       "  </tbody>\n",
       "</table>\n",
       "<p>101766 rows × 46 columns</p>\n",
       "</div>\n",
       "      <button class=\"colab-df-convert\" onclick=\"convertToInteractive('df-99a06955-3574-40da-9470-d95e3a45efce')\"\n",
       "              title=\"Convert this dataframe to an interactive table.\"\n",
       "              style=\"display:none;\">\n",
       "        \n",
       "  <svg xmlns=\"http://www.w3.org/2000/svg\" height=\"24px\"viewBox=\"0 0 24 24\"\n",
       "       width=\"24px\">\n",
       "    <path d=\"M0 0h24v24H0V0z\" fill=\"none\"/>\n",
       "    <path d=\"M18.56 5.44l.94 2.06.94-2.06 2.06-.94-2.06-.94-.94-2.06-.94 2.06-2.06.94zm-11 1L8.5 8.5l.94-2.06 2.06-.94-2.06-.94L8.5 2.5l-.94 2.06-2.06.94zm10 10l.94 2.06.94-2.06 2.06-.94-2.06-.94-.94-2.06-.94 2.06-2.06.94z\"/><path d=\"M17.41 7.96l-1.37-1.37c-.4-.4-.92-.59-1.43-.59-.52 0-1.04.2-1.43.59L10.3 9.45l-7.72 7.72c-.78.78-.78 2.05 0 2.83L4 21.41c.39.39.9.59 1.41.59.51 0 1.02-.2 1.41-.59l7.78-7.78 2.81-2.81c.8-.78.8-2.07 0-2.86zM5.41 20L4 18.59l7.72-7.72 1.47 1.35L5.41 20z\"/>\n",
       "  </svg>\n",
       "      </button>\n",
       "      \n",
       "  <style>\n",
       "    .colab-df-container {\n",
       "      display:flex;\n",
       "      flex-wrap:wrap;\n",
       "      gap: 12px;\n",
       "    }\n",
       "\n",
       "    .colab-df-convert {\n",
       "      background-color: #E8F0FE;\n",
       "      border: none;\n",
       "      border-radius: 50%;\n",
       "      cursor: pointer;\n",
       "      display: none;\n",
       "      fill: #1967D2;\n",
       "      height: 32px;\n",
       "      padding: 0 0 0 0;\n",
       "      width: 32px;\n",
       "    }\n",
       "\n",
       "    .colab-df-convert:hover {\n",
       "      background-color: #E2EBFA;\n",
       "      box-shadow: 0px 1px 2px rgba(60, 64, 67, 0.3), 0px 1px 3px 1px rgba(60, 64, 67, 0.15);\n",
       "      fill: #174EA6;\n",
       "    }\n",
       "\n",
       "    [theme=dark] .colab-df-convert {\n",
       "      background-color: #3B4455;\n",
       "      fill: #D2E3FC;\n",
       "    }\n",
       "\n",
       "    [theme=dark] .colab-df-convert:hover {\n",
       "      background-color: #434B5C;\n",
       "      box-shadow: 0px 1px 3px 1px rgba(0, 0, 0, 0.15);\n",
       "      filter: drop-shadow(0px 1px 2px rgba(0, 0, 0, 0.3));\n",
       "      fill: #FFFFFF;\n",
       "    }\n",
       "  </style>\n",
       "\n",
       "      <script>\n",
       "        const buttonEl =\n",
       "          document.querySelector('#df-99a06955-3574-40da-9470-d95e3a45efce button.colab-df-convert');\n",
       "        buttonEl.style.display =\n",
       "          google.colab.kernel.accessAllowed ? 'block' : 'none';\n",
       "\n",
       "        async function convertToInteractive(key) {\n",
       "          const element = document.querySelector('#df-99a06955-3574-40da-9470-d95e3a45efce');\n",
       "          const dataTable =\n",
       "            await google.colab.kernel.invokeFunction('convertToInteractive',\n",
       "                                                     [key], {});\n",
       "          if (!dataTable) return;\n",
       "\n",
       "          const docLinkHtml = 'Like what you see? Visit the ' +\n",
       "            '<a target=\"_blank\" href=https://colab.research.google.com/notebooks/data_table.ipynb>data table notebook</a>'\n",
       "            + ' to learn more about interactive tables.';\n",
       "          element.innerHTML = '';\n",
       "          dataTable['output_type'] = 'display_data';\n",
       "          await google.colab.output.renderOutput(dataTable, element);\n",
       "          const docLink = document.createElement('div');\n",
       "          docLink.innerHTML = docLinkHtml;\n",
       "          element.appendChild(docLink);\n",
       "        }\n",
       "      </script>\n",
       "    </div>\n",
       "  </div>\n",
       "  "
      ],
      "text/plain": [
       "        patient_nbr             race  gender      age  admission_type_id  \\\n",
       "0           8222157        Caucasian  Female   [0-10)                  6   \n",
       "1          55629189        Caucasian  Female  [10-20)                  1   \n",
       "2          86047875  AfricanAmerican  Female  [20-30)                  1   \n",
       "3          82442376        Caucasian    Male  [30-40)                  1   \n",
       "4          42519267        Caucasian    Male  [40-50)                  1   \n",
       "...             ...              ...     ...      ...                ...   \n",
       "101761    100162476  AfricanAmerican    Male  [70-80)                  1   \n",
       "101762     74694222  AfricanAmerican  Female  [80-90)                  1   \n",
       "101763     41088789        Caucasian    Male  [70-80)                  1   \n",
       "101764     31693671        Caucasian  Female  [80-90)                  2   \n",
       "101765    175429310        Caucasian    Male  [70-80)                  1   \n",
       "\n",
       "        discharge_disposition_id  admission_source_id  time_in_hospital  \\\n",
       "0                             25                    1                 1   \n",
       "1                              1                    7                 3   \n",
       "2                              1                    7                 2   \n",
       "3                              1                    7                 2   \n",
       "4                              1                    7                 1   \n",
       "...                          ...                  ...               ...   \n",
       "101761                         3                    7                 3   \n",
       "101762                         4                    5                 5   \n",
       "101763                         1                    7                 1   \n",
       "101764                         3                    7                10   \n",
       "101765                         1                    7                 6   \n",
       "\n",
       "        num_lab_procedures  num_procedures  ...  citoglipton  insulin  \\\n",
       "0                       41               0  ...           No       No   \n",
       "1                       59               0  ...           No       Up   \n",
       "2                       11               5  ...           No       No   \n",
       "3                       44               1  ...           No       Up   \n",
       "4                       51               0  ...           No   Steady   \n",
       "...                    ...             ...  ...          ...      ...   \n",
       "101761                  51               0  ...           No     Down   \n",
       "101762                  33               3  ...           No   Steady   \n",
       "101763                  53               0  ...           No     Down   \n",
       "101764                  45               2  ...           No       Up   \n",
       "101765                  13               3  ...           No       No   \n",
       "\n",
       "        glyburide-metformin  glipizide-metformin glimepiride-pioglitazone  \\\n",
       "0                        No                   No                       No   \n",
       "1                        No                   No                       No   \n",
       "2                        No                   No                       No   \n",
       "3                        No                   No                       No   \n",
       "4                        No                   No                       No   \n",
       "...                     ...                  ...                      ...   \n",
       "101761                   No                   No                       No   \n",
       "101762                   No                   No                       No   \n",
       "101763                   No                   No                       No   \n",
       "101764                   No                   No                       No   \n",
       "101765                   No                   No                       No   \n",
       "\n",
       "       metformin-rosiglitazone metformin-pioglitazone  change diabetesMed  \\\n",
       "0                           No                     No      No          No   \n",
       "1                           No                     No      Ch         Yes   \n",
       "2                           No                     No      No         Yes   \n",
       "3                           No                     No      Ch         Yes   \n",
       "4                           No                     No      Ch         Yes   \n",
       "...                        ...                    ...     ...         ...   \n",
       "101761                      No                     No      Ch         Yes   \n",
       "101762                      No                     No      No         Yes   \n",
       "101763                      No                     No      Ch         Yes   \n",
       "101764                      No                     No      Ch         Yes   \n",
       "101765                      No                     No      No          No   \n",
       "\n",
       "       readmitted  \n",
       "0               0  \n",
       "1               0  \n",
       "2               0  \n",
       "3               0  \n",
       "4               0  \n",
       "...           ...  \n",
       "101761          0  \n",
       "101762          0  \n",
       "101763          0  \n",
       "101764          0  \n",
       "101765          0  \n",
       "\n",
       "[101766 rows x 46 columns]"
      ]
     },
     "execution_count": 10,
     "metadata": {},
     "output_type": "execute_result"
    }
   ],
   "source": [
    "#dropping columns with large number of missing values\n",
    "readmit_df = readmit_df.drop(['weight','payer_code','medical_specialty'], axis = 1)\n",
    "\n",
    "\n",
    "#dropping columns encounter_id as they are just unique identifiers and not going to effect model\n",
    "readmit_df = readmit_df.drop(['encounter_id'], axis = 1)\n",
    "readmit_df\n",
    "\n"
   ]
  },
  {
   "cell_type": "markdown",
   "id": "0bO0xjM6aeHf",
   "metadata": {
    "id": "0bO0xjM6aeHf"
   },
   "source": [
    "### 4.5 Dropping variables examide and citoglipton"
   ]
  },
  {
   "cell_type": "markdown",
   "id": "46cbea63-3d3a-455f-acfe-8babe031c5a3",
   "metadata": {
    "id": "46cbea63-3d3a-455f-acfe-8babe031c5a3"
   },
   "source": [
    "All entries have the same value for the variables examide and citoglipton. As a result, they essentially cannot offer any interpreting or discriminating information for predicting readmission, hence we eliminated these two variables."
   ]
  },
  {
   "cell_type": "code",
   "execution_count": null,
   "id": "60f22a52-2b0d-4cea-a904-a58f84f31256",
   "metadata": {
    "colab": {
     "base_uri": "https://localhost:8080/",
     "height": 678
    },
    "id": "60f22a52-2b0d-4cea-a904-a58f84f31256",
    "outputId": "2f93bf43-22f4-4103-d28f-5862f1fa155b"
   },
   "outputs": [
    {
     "data": {
      "text/html": [
       "\n",
       "  <div id=\"df-519449c9-0de2-4037-b758-1e0ea633d41a\">\n",
       "    <div class=\"colab-df-container\">\n",
       "      <div>\n",
       "<style scoped>\n",
       "    .dataframe tbody tr th:only-of-type {\n",
       "        vertical-align: middle;\n",
       "    }\n",
       "\n",
       "    .dataframe tbody tr th {\n",
       "        vertical-align: top;\n",
       "    }\n",
       "\n",
       "    .dataframe thead th {\n",
       "        text-align: right;\n",
       "    }\n",
       "</style>\n",
       "<table border=\"1\" class=\"dataframe\">\n",
       "  <thead>\n",
       "    <tr style=\"text-align: right;\">\n",
       "      <th></th>\n",
       "      <th>patient_nbr</th>\n",
       "      <th>race</th>\n",
       "      <th>gender</th>\n",
       "      <th>age</th>\n",
       "      <th>admission_type_id</th>\n",
       "      <th>discharge_disposition_id</th>\n",
       "      <th>admission_source_id</th>\n",
       "      <th>time_in_hospital</th>\n",
       "      <th>num_lab_procedures</th>\n",
       "      <th>num_procedures</th>\n",
       "      <th>...</th>\n",
       "      <th>tolazamide</th>\n",
       "      <th>insulin</th>\n",
       "      <th>glyburide-metformin</th>\n",
       "      <th>glipizide-metformin</th>\n",
       "      <th>glimepiride-pioglitazone</th>\n",
       "      <th>metformin-rosiglitazone</th>\n",
       "      <th>metformin-pioglitazone</th>\n",
       "      <th>change</th>\n",
       "      <th>diabetesMed</th>\n",
       "      <th>readmitted</th>\n",
       "    </tr>\n",
       "  </thead>\n",
       "  <tbody>\n",
       "    <tr>\n",
       "      <th>0</th>\n",
       "      <td>8222157</td>\n",
       "      <td>Caucasian</td>\n",
       "      <td>Female</td>\n",
       "      <td>[0-10)</td>\n",
       "      <td>6</td>\n",
       "      <td>25</td>\n",
       "      <td>1</td>\n",
       "      <td>1</td>\n",
       "      <td>41</td>\n",
       "      <td>0</td>\n",
       "      <td>...</td>\n",
       "      <td>No</td>\n",
       "      <td>No</td>\n",
       "      <td>No</td>\n",
       "      <td>No</td>\n",
       "      <td>No</td>\n",
       "      <td>No</td>\n",
       "      <td>No</td>\n",
       "      <td>No</td>\n",
       "      <td>No</td>\n",
       "      <td>0</td>\n",
       "    </tr>\n",
       "    <tr>\n",
       "      <th>1</th>\n",
       "      <td>55629189</td>\n",
       "      <td>Caucasian</td>\n",
       "      <td>Female</td>\n",
       "      <td>[10-20)</td>\n",
       "      <td>1</td>\n",
       "      <td>1</td>\n",
       "      <td>7</td>\n",
       "      <td>3</td>\n",
       "      <td>59</td>\n",
       "      <td>0</td>\n",
       "      <td>...</td>\n",
       "      <td>No</td>\n",
       "      <td>Up</td>\n",
       "      <td>No</td>\n",
       "      <td>No</td>\n",
       "      <td>No</td>\n",
       "      <td>No</td>\n",
       "      <td>No</td>\n",
       "      <td>Ch</td>\n",
       "      <td>Yes</td>\n",
       "      <td>0</td>\n",
       "    </tr>\n",
       "    <tr>\n",
       "      <th>2</th>\n",
       "      <td>86047875</td>\n",
       "      <td>AfricanAmerican</td>\n",
       "      <td>Female</td>\n",
       "      <td>[20-30)</td>\n",
       "      <td>1</td>\n",
       "      <td>1</td>\n",
       "      <td>7</td>\n",
       "      <td>2</td>\n",
       "      <td>11</td>\n",
       "      <td>5</td>\n",
       "      <td>...</td>\n",
       "      <td>No</td>\n",
       "      <td>No</td>\n",
       "      <td>No</td>\n",
       "      <td>No</td>\n",
       "      <td>No</td>\n",
       "      <td>No</td>\n",
       "      <td>No</td>\n",
       "      <td>No</td>\n",
       "      <td>Yes</td>\n",
       "      <td>0</td>\n",
       "    </tr>\n",
       "    <tr>\n",
       "      <th>3</th>\n",
       "      <td>82442376</td>\n",
       "      <td>Caucasian</td>\n",
       "      <td>Male</td>\n",
       "      <td>[30-40)</td>\n",
       "      <td>1</td>\n",
       "      <td>1</td>\n",
       "      <td>7</td>\n",
       "      <td>2</td>\n",
       "      <td>44</td>\n",
       "      <td>1</td>\n",
       "      <td>...</td>\n",
       "      <td>No</td>\n",
       "      <td>Up</td>\n",
       "      <td>No</td>\n",
       "      <td>No</td>\n",
       "      <td>No</td>\n",
       "      <td>No</td>\n",
       "      <td>No</td>\n",
       "      <td>Ch</td>\n",
       "      <td>Yes</td>\n",
       "      <td>0</td>\n",
       "    </tr>\n",
       "    <tr>\n",
       "      <th>4</th>\n",
       "      <td>42519267</td>\n",
       "      <td>Caucasian</td>\n",
       "      <td>Male</td>\n",
       "      <td>[40-50)</td>\n",
       "      <td>1</td>\n",
       "      <td>1</td>\n",
       "      <td>7</td>\n",
       "      <td>1</td>\n",
       "      <td>51</td>\n",
       "      <td>0</td>\n",
       "      <td>...</td>\n",
       "      <td>No</td>\n",
       "      <td>Steady</td>\n",
       "      <td>No</td>\n",
       "      <td>No</td>\n",
       "      <td>No</td>\n",
       "      <td>No</td>\n",
       "      <td>No</td>\n",
       "      <td>Ch</td>\n",
       "      <td>Yes</td>\n",
       "      <td>0</td>\n",
       "    </tr>\n",
       "    <tr>\n",
       "      <th>...</th>\n",
       "      <td>...</td>\n",
       "      <td>...</td>\n",
       "      <td>...</td>\n",
       "      <td>...</td>\n",
       "      <td>...</td>\n",
       "      <td>...</td>\n",
       "      <td>...</td>\n",
       "      <td>...</td>\n",
       "      <td>...</td>\n",
       "      <td>...</td>\n",
       "      <td>...</td>\n",
       "      <td>...</td>\n",
       "      <td>...</td>\n",
       "      <td>...</td>\n",
       "      <td>...</td>\n",
       "      <td>...</td>\n",
       "      <td>...</td>\n",
       "      <td>...</td>\n",
       "      <td>...</td>\n",
       "      <td>...</td>\n",
       "      <td>...</td>\n",
       "    </tr>\n",
       "    <tr>\n",
       "      <th>101761</th>\n",
       "      <td>100162476</td>\n",
       "      <td>AfricanAmerican</td>\n",
       "      <td>Male</td>\n",
       "      <td>[70-80)</td>\n",
       "      <td>1</td>\n",
       "      <td>3</td>\n",
       "      <td>7</td>\n",
       "      <td>3</td>\n",
       "      <td>51</td>\n",
       "      <td>0</td>\n",
       "      <td>...</td>\n",
       "      <td>No</td>\n",
       "      <td>Down</td>\n",
       "      <td>No</td>\n",
       "      <td>No</td>\n",
       "      <td>No</td>\n",
       "      <td>No</td>\n",
       "      <td>No</td>\n",
       "      <td>Ch</td>\n",
       "      <td>Yes</td>\n",
       "      <td>0</td>\n",
       "    </tr>\n",
       "    <tr>\n",
       "      <th>101762</th>\n",
       "      <td>74694222</td>\n",
       "      <td>AfricanAmerican</td>\n",
       "      <td>Female</td>\n",
       "      <td>[80-90)</td>\n",
       "      <td>1</td>\n",
       "      <td>4</td>\n",
       "      <td>5</td>\n",
       "      <td>5</td>\n",
       "      <td>33</td>\n",
       "      <td>3</td>\n",
       "      <td>...</td>\n",
       "      <td>No</td>\n",
       "      <td>Steady</td>\n",
       "      <td>No</td>\n",
       "      <td>No</td>\n",
       "      <td>No</td>\n",
       "      <td>No</td>\n",
       "      <td>No</td>\n",
       "      <td>No</td>\n",
       "      <td>Yes</td>\n",
       "      <td>0</td>\n",
       "    </tr>\n",
       "    <tr>\n",
       "      <th>101763</th>\n",
       "      <td>41088789</td>\n",
       "      <td>Caucasian</td>\n",
       "      <td>Male</td>\n",
       "      <td>[70-80)</td>\n",
       "      <td>1</td>\n",
       "      <td>1</td>\n",
       "      <td>7</td>\n",
       "      <td>1</td>\n",
       "      <td>53</td>\n",
       "      <td>0</td>\n",
       "      <td>...</td>\n",
       "      <td>No</td>\n",
       "      <td>Down</td>\n",
       "      <td>No</td>\n",
       "      <td>No</td>\n",
       "      <td>No</td>\n",
       "      <td>No</td>\n",
       "      <td>No</td>\n",
       "      <td>Ch</td>\n",
       "      <td>Yes</td>\n",
       "      <td>0</td>\n",
       "    </tr>\n",
       "    <tr>\n",
       "      <th>101764</th>\n",
       "      <td>31693671</td>\n",
       "      <td>Caucasian</td>\n",
       "      <td>Female</td>\n",
       "      <td>[80-90)</td>\n",
       "      <td>2</td>\n",
       "      <td>3</td>\n",
       "      <td>7</td>\n",
       "      <td>10</td>\n",
       "      <td>45</td>\n",
       "      <td>2</td>\n",
       "      <td>...</td>\n",
       "      <td>No</td>\n",
       "      <td>Up</td>\n",
       "      <td>No</td>\n",
       "      <td>No</td>\n",
       "      <td>No</td>\n",
       "      <td>No</td>\n",
       "      <td>No</td>\n",
       "      <td>Ch</td>\n",
       "      <td>Yes</td>\n",
       "      <td>0</td>\n",
       "    </tr>\n",
       "    <tr>\n",
       "      <th>101765</th>\n",
       "      <td>175429310</td>\n",
       "      <td>Caucasian</td>\n",
       "      <td>Male</td>\n",
       "      <td>[70-80)</td>\n",
       "      <td>1</td>\n",
       "      <td>1</td>\n",
       "      <td>7</td>\n",
       "      <td>6</td>\n",
       "      <td>13</td>\n",
       "      <td>3</td>\n",
       "      <td>...</td>\n",
       "      <td>No</td>\n",
       "      <td>No</td>\n",
       "      <td>No</td>\n",
       "      <td>No</td>\n",
       "      <td>No</td>\n",
       "      <td>No</td>\n",
       "      <td>No</td>\n",
       "      <td>No</td>\n",
       "      <td>No</td>\n",
       "      <td>0</td>\n",
       "    </tr>\n",
       "  </tbody>\n",
       "</table>\n",
       "<p>101766 rows × 44 columns</p>\n",
       "</div>\n",
       "      <button class=\"colab-df-convert\" onclick=\"convertToInteractive('df-519449c9-0de2-4037-b758-1e0ea633d41a')\"\n",
       "              title=\"Convert this dataframe to an interactive table.\"\n",
       "              style=\"display:none;\">\n",
       "        \n",
       "  <svg xmlns=\"http://www.w3.org/2000/svg\" height=\"24px\"viewBox=\"0 0 24 24\"\n",
       "       width=\"24px\">\n",
       "    <path d=\"M0 0h24v24H0V0z\" fill=\"none\"/>\n",
       "    <path d=\"M18.56 5.44l.94 2.06.94-2.06 2.06-.94-2.06-.94-.94-2.06-.94 2.06-2.06.94zm-11 1L8.5 8.5l.94-2.06 2.06-.94-2.06-.94L8.5 2.5l-.94 2.06-2.06.94zm10 10l.94 2.06.94-2.06 2.06-.94-2.06-.94-.94-2.06-.94 2.06-2.06.94z\"/><path d=\"M17.41 7.96l-1.37-1.37c-.4-.4-.92-.59-1.43-.59-.52 0-1.04.2-1.43.59L10.3 9.45l-7.72 7.72c-.78.78-.78 2.05 0 2.83L4 21.41c.39.39.9.59 1.41.59.51 0 1.02-.2 1.41-.59l7.78-7.78 2.81-2.81c.8-.78.8-2.07 0-2.86zM5.41 20L4 18.59l7.72-7.72 1.47 1.35L5.41 20z\"/>\n",
       "  </svg>\n",
       "      </button>\n",
       "      \n",
       "  <style>\n",
       "    .colab-df-container {\n",
       "      display:flex;\n",
       "      flex-wrap:wrap;\n",
       "      gap: 12px;\n",
       "    }\n",
       "\n",
       "    .colab-df-convert {\n",
       "      background-color: #E8F0FE;\n",
       "      border: none;\n",
       "      border-radius: 50%;\n",
       "      cursor: pointer;\n",
       "      display: none;\n",
       "      fill: #1967D2;\n",
       "      height: 32px;\n",
       "      padding: 0 0 0 0;\n",
       "      width: 32px;\n",
       "    }\n",
       "\n",
       "    .colab-df-convert:hover {\n",
       "      background-color: #E2EBFA;\n",
       "      box-shadow: 0px 1px 2px rgba(60, 64, 67, 0.3), 0px 1px 3px 1px rgba(60, 64, 67, 0.15);\n",
       "      fill: #174EA6;\n",
       "    }\n",
       "\n",
       "    [theme=dark] .colab-df-convert {\n",
       "      background-color: #3B4455;\n",
       "      fill: #D2E3FC;\n",
       "    }\n",
       "\n",
       "    [theme=dark] .colab-df-convert:hover {\n",
       "      background-color: #434B5C;\n",
       "      box-shadow: 0px 1px 3px 1px rgba(0, 0, 0, 0.15);\n",
       "      filter: drop-shadow(0px 1px 2px rgba(0, 0, 0, 0.3));\n",
       "      fill: #FFFFFF;\n",
       "    }\n",
       "  </style>\n",
       "\n",
       "      <script>\n",
       "        const buttonEl =\n",
       "          document.querySelector('#df-519449c9-0de2-4037-b758-1e0ea633d41a button.colab-df-convert');\n",
       "        buttonEl.style.display =\n",
       "          google.colab.kernel.accessAllowed ? 'block' : 'none';\n",
       "\n",
       "        async function convertToInteractive(key) {\n",
       "          const element = document.querySelector('#df-519449c9-0de2-4037-b758-1e0ea633d41a');\n",
       "          const dataTable =\n",
       "            await google.colab.kernel.invokeFunction('convertToInteractive',\n",
       "                                                     [key], {});\n",
       "          if (!dataTable) return;\n",
       "\n",
       "          const docLinkHtml = 'Like what you see? Visit the ' +\n",
       "            '<a target=\"_blank\" href=https://colab.research.google.com/notebooks/data_table.ipynb>data table notebook</a>'\n",
       "            + ' to learn more about interactive tables.';\n",
       "          element.innerHTML = '';\n",
       "          dataTable['output_type'] = 'display_data';\n",
       "          await google.colab.output.renderOutput(dataTable, element);\n",
       "          const docLink = document.createElement('div');\n",
       "          docLink.innerHTML = docLinkHtml;\n",
       "          element.appendChild(docLink);\n",
       "        }\n",
       "      </script>\n",
       "    </div>\n",
       "  </div>\n",
       "  "
      ],
      "text/plain": [
       "        patient_nbr             race  gender      age  admission_type_id  \\\n",
       "0           8222157        Caucasian  Female   [0-10)                  6   \n",
       "1          55629189        Caucasian  Female  [10-20)                  1   \n",
       "2          86047875  AfricanAmerican  Female  [20-30)                  1   \n",
       "3          82442376        Caucasian    Male  [30-40)                  1   \n",
       "4          42519267        Caucasian    Male  [40-50)                  1   \n",
       "...             ...              ...     ...      ...                ...   \n",
       "101761    100162476  AfricanAmerican    Male  [70-80)                  1   \n",
       "101762     74694222  AfricanAmerican  Female  [80-90)                  1   \n",
       "101763     41088789        Caucasian    Male  [70-80)                  1   \n",
       "101764     31693671        Caucasian  Female  [80-90)                  2   \n",
       "101765    175429310        Caucasian    Male  [70-80)                  1   \n",
       "\n",
       "        discharge_disposition_id  admission_source_id  time_in_hospital  \\\n",
       "0                             25                    1                 1   \n",
       "1                              1                    7                 3   \n",
       "2                              1                    7                 2   \n",
       "3                              1                    7                 2   \n",
       "4                              1                    7                 1   \n",
       "...                          ...                  ...               ...   \n",
       "101761                         3                    7                 3   \n",
       "101762                         4                    5                 5   \n",
       "101763                         1                    7                 1   \n",
       "101764                         3                    7                10   \n",
       "101765                         1                    7                 6   \n",
       "\n",
       "        num_lab_procedures  num_procedures  ...  tolazamide  insulin  \\\n",
       "0                       41               0  ...          No       No   \n",
       "1                       59               0  ...          No       Up   \n",
       "2                       11               5  ...          No       No   \n",
       "3                       44               1  ...          No       Up   \n",
       "4                       51               0  ...          No   Steady   \n",
       "...                    ...             ...  ...         ...      ...   \n",
       "101761                  51               0  ...          No     Down   \n",
       "101762                  33               3  ...          No   Steady   \n",
       "101763                  53               0  ...          No     Down   \n",
       "101764                  45               2  ...          No       Up   \n",
       "101765                  13               3  ...          No       No   \n",
       "\n",
       "        glyburide-metformin  glipizide-metformin glimepiride-pioglitazone  \\\n",
       "0                        No                   No                       No   \n",
       "1                        No                   No                       No   \n",
       "2                        No                   No                       No   \n",
       "3                        No                   No                       No   \n",
       "4                        No                   No                       No   \n",
       "...                     ...                  ...                      ...   \n",
       "101761                   No                   No                       No   \n",
       "101762                   No                   No                       No   \n",
       "101763                   No                   No                       No   \n",
       "101764                   No                   No                       No   \n",
       "101765                   No                   No                       No   \n",
       "\n",
       "       metformin-rosiglitazone metformin-pioglitazone  change diabetesMed  \\\n",
       "0                           No                     No      No          No   \n",
       "1                           No                     No      Ch         Yes   \n",
       "2                           No                     No      No         Yes   \n",
       "3                           No                     No      Ch         Yes   \n",
       "4                           No                     No      Ch         Yes   \n",
       "...                        ...                    ...     ...         ...   \n",
       "101761                      No                     No      Ch         Yes   \n",
       "101762                      No                     No      No         Yes   \n",
       "101763                      No                     No      Ch         Yes   \n",
       "101764                      No                     No      Ch         Yes   \n",
       "101765                      No                     No      No          No   \n",
       "\n",
       "       readmitted  \n",
       "0               0  \n",
       "1               0  \n",
       "2               0  \n",
       "3               0  \n",
       "4               0  \n",
       "...           ...  \n",
       "101761          0  \n",
       "101762          0  \n",
       "101763          0  \n",
       "101764          0  \n",
       "101765          0  \n",
       "\n",
       "[101766 rows x 44 columns]"
      ]
     },
     "execution_count": 11,
     "metadata": {},
     "output_type": "execute_result"
    }
   ],
   "source": [
    "# Dropping variables examide and citoglipton\n",
    "readmit_df = readmit_df.drop(['citoglipton', 'examide'], axis = 1)\n",
    "readmit_df"
   ]
  },
  {
   "cell_type": "markdown",
   "id": "fq6d9tWKaref",
   "metadata": {
    "id": "fq6d9tWKaref"
   },
   "source": [
    "### 4.6 Handling missing values in Race, diag 1, diag 2, diag 3, and gender variables"
   ]
  },
  {
   "cell_type": "markdown",
   "id": "2ecd321a-2ad6-46bc-8672-0494db6035c8",
   "metadata": {
    "id": "2ecd321a-2ad6-46bc-8672-0494db6035c8"
   },
   "source": [
    "Race, diag 1, diag 2, diag 3, and gender variables all have far less missing values than the other attributes we omitted, therefore we opted to remove those rows."
   ]
  },
  {
   "cell_type": "code",
   "execution_count": null,
   "id": "d728e3bf-a5c6-4403-8915-ebc27d4eec1f",
   "metadata": {
    "id": "d728e3bf-a5c6-4403-8915-ebc27d4eec1f"
   },
   "outputs": [],
   "source": [
    "cleandata = set(readmit_df[(readmit_df['diag_1'] == '?') & (readmit_df['diag_2'] == '?') & (readmit_df['diag_3'] == '?')].index)\n",
    "\n",
    "cleandata = cleandata.union(set(readmit_df['diag_1'][readmit_df['diag_1'] == '?'].index))\n",
    "cleandata = cleandata.union(set(readmit_df['diag_2'][readmit_df['diag_2'] == '?'].index))\n",
    "cleandata = cleandata.union(set(readmit_df['diag_3'][readmit_df['diag_3'] == '?'].index))\n",
    "cleandata = cleandata.union(set(readmit_df['race'][readmit_df['race'] == '?'].index))\n",
    "cleandata = cleandata.union(set(readmit_df[readmit_df['discharge_disposition_id'] == 11].index))\n",
    "cleandata = cleandata.union(set(readmit_df['gender'][readmit_df['gender'] == 'Unknown/Invalid'].index))\n",
    "new_cleandata = list(set(readmit_df.index) - set(cleandata))\n",
    "readmit_df = readmit_df.iloc[new_cleandata]"
   ]
  },
  {
   "cell_type": "code",
   "execution_count": null,
   "id": "986bbc1b-93a9-4575-b954-295883246319",
   "metadata": {
    "colab": {
     "base_uri": "https://localhost:8080/"
    },
    "id": "986bbc1b-93a9-4575-b954-295883246319",
    "outputId": "cdd234ed-a341-4a0b-c77e-a2ced484e962"
   },
   "outputs": [
    {
     "name": "stdout",
     "output_type": "stream",
     "text": [
      "race 0\n",
      "gender 0\n",
      "age 0\n",
      "diag_1 0\n",
      "diag_2 0\n",
      "diag_3 0\n",
      "max_glu_serum 0\n",
      "A1Cresult 0\n",
      "metformin 0\n",
      "repaglinide 0\n",
      "nateglinide 0\n",
      "chlorpropamide 0\n",
      "glimepiride 0\n",
      "acetohexamide 0\n",
      "glipizide 0\n",
      "glyburide 0\n",
      "tolbutamide 0\n",
      "pioglitazone 0\n",
      "rosiglitazone 0\n",
      "acarbose 0\n",
      "miglitol 0\n",
      "troglitazone 0\n",
      "tolazamide 0\n",
      "insulin 0\n",
      "glyburide-metformin 0\n",
      "glipizide-metformin 0\n",
      "glimepiride-pioglitazone 0\n",
      "metformin-rosiglitazone 0\n",
      "metformin-pioglitazone 0\n",
      "change 0\n",
      "diabetesMed 0\n",
      "gender 0\n"
     ]
    }
   ],
   "source": [
    "#Checking for missing values in the data\n",
    "for col in readmit_df.columns:\n",
    "    if readmit_df[col].dtype == object:\n",
    "         print(col,readmit_df[col][readmit_df[col] == '?'].count())\n",
    "            \n",
    "print('gender', readmit_df['gender'][readmit_df['gender'] == 'Unknown/Invalid'].count())   "
   ]
  },
  {
   "cell_type": "markdown",
   "id": "V-T6nt7-bYPx",
   "metadata": {
    "id": "V-T6nt7-bYPx"
   },
   "source": [
    "### 4.7 Handling data related to 23 medications"
   ]
  },
  {
   "cell_type": "markdown",
   "id": "aYjLaKfBf3Pk",
   "metadata": {
    "id": "aYjLaKfBf3Pk"
   },
   "source": [
    "A change in the drug taken during the patient's current hospital stay is indicated for each of the 23 medications in the dataset, which totals 23 medications. Previous research has shown that altering a diabetic patient's medication regimen after admission is associated with a lower readmission rate. We decided that adding up the total number of adjustments performed for each patient would be a new feature. The aim was to simplify the model and investigate the possibilities of finding a correlation between the number of changes and the modified drug."
   ]
  },
  {
   "cell_type": "code",
   "execution_count": null,
   "id": "3ZvICu4CgbH5",
   "metadata": {
    "colab": {
     "base_uri": "https://localhost:8080/"
    },
    "id": "3ZvICu4CgbH5",
    "outputId": "b4b95fba-1e9c-4474-b20c-d0136fa24a78"
   },
   "outputs": [
    {
     "data": {
      "text/plain": [
       "0    70142\n",
       "1    24922\n",
       "2     1271\n",
       "3      106\n",
       "4        5\n",
       "Name: numchange, dtype: int64"
      ]
     },
     "execution_count": 14,
     "metadata": {},
     "output_type": "execute_result"
    }
   ],
   "source": [
    "drugs23 = ['metformin', 'repaglinide', 'nateglinide', 'chlorpropamide', 'glimepiride', 'glipizide', 'glyburide', 'pioglitazone', 'rosiglitazone', 'acarbose', 'miglitol', 'insulin', 'glyburide-metformin', 'tolazamide', 'metformin-pioglitazone','metformin-rosiglitazone', 'glimepiride-pioglitazone', 'glipizide-metformin', 'troglitazone', 'tolbutamide', 'acetohexamide']\n",
    "for col in drugs23:\n",
    "    colname = str(col) + 'temp'\n",
    "    readmit_df[colname] = readmit_df[col].apply(lambda x: 0 if (x == 'No' or x == 'Steady') else 1)\n",
    "readmit_df['numchange'] = 0\n",
    "for col in drugs23:\n",
    "    colname = str(col) + 'temp'\n",
    "    readmit_df['numchange'] = readmit_df['numchange'] + readmit_df[colname]\n",
    "    del readmit_df[colname]\n",
    "    \n",
    "readmit_df['numchange'].value_counts()  "
   ]
  },
  {
   "cell_type": "markdown",
   "id": "j8n4iE2Ac2RL",
   "metadata": {
    "id": "j8n4iE2Ac2RL"
   },
   "source": [
    "### 4.8 Converting admission type, discharge type and admission source are re-encoding into fewer categories based on the mapping details provided in mapping data set and data description"
   ]
  },
  {
   "cell_type": "markdown",
   "id": "2kW9nNq4hjVE",
   "metadata": {
    "id": "2kW9nNq4hjVE"
   },
   "source": [
    "From the mapping dataset that is given, we can derive below:\n"
   ]
  },
  {
   "cell_type": "code",
   "execution_count": null,
   "id": "uGh5Hzq4iBIF",
   "metadata": {
    "id": "uGh5Hzq4iBIF"
   },
   "outputs": [],
   "source": [
    "# admission type, discharge type and admission source are re-encoding into fewer categories\n",
    "\n",
    "readmit_df['admission_type_id'] = readmit_df['admission_type_id'].replace(2,1)\n",
    "readmit_df['admission_type_id'] = readmit_df['admission_type_id'].replace(7,1)\n",
    "readmit_df['admission_type_id'] = readmit_df['admission_type_id'].replace(6,5)\n",
    "readmit_df['admission_type_id'] = readmit_df['admission_type_id'].replace(8,5)\n",
    "\n",
    "readmit_df['discharge_disposition_id'] = readmit_df['discharge_disposition_id'].replace(6,1)\n",
    "readmit_df['discharge_disposition_id'] = readmit_df['discharge_disposition_id'].replace(8,1)\n",
    "readmit_df['discharge_disposition_id'] = readmit_df['discharge_disposition_id'].replace(9,1)\n",
    "readmit_df['discharge_disposition_id'] = readmit_df['discharge_disposition_id'].replace(13,1)\n",
    "readmit_df['discharge_disposition_id'] = readmit_df['discharge_disposition_id'].replace(3,2)\n",
    "readmit_df['discharge_disposition_id'] = readmit_df['discharge_disposition_id'].replace(4,2)\n",
    "readmit_df['discharge_disposition_id'] = readmit_df['discharge_disposition_id'].replace(5,2)\n",
    "readmit_df['discharge_disposition_id'] = readmit_df['discharge_disposition_id'].replace(14,2)\n",
    "readmit_df['discharge_disposition_id'] = readmit_df['discharge_disposition_id'].replace(22,2)\n",
    "readmit_df['discharge_disposition_id'] = readmit_df['discharge_disposition_id'].replace(23,2)\n",
    "readmit_df['discharge_disposition_id'] = readmit_df['discharge_disposition_id'].replace(24,2)\n",
    "readmit_df['discharge_disposition_id'] = readmit_df['discharge_disposition_id'].replace(12,10)\n",
    "readmit_df['discharge_disposition_id'] = readmit_df['discharge_disposition_id'].replace(15,10)\n",
    "readmit_df['discharge_disposition_id'] = readmit_df['discharge_disposition_id'].replace(16,10)\n",
    "readmit_df['discharge_disposition_id'] = readmit_df['discharge_disposition_id'].replace(17,10)\n",
    "readmit_df['discharge_disposition_id'] = readmit_df['discharge_disposition_id'].replace(25,18)\n",
    "readmit_df['discharge_disposition_id'] = readmit_df['discharge_disposition_id'].replace(26,18)\n",
    "\n",
    "readmit_df['admission_source_id'] = readmit_df['admission_source_id'].replace(2,1)\n",
    "readmit_df['admission_source_id'] = readmit_df['admission_source_id'].replace(3,1)\n",
    "readmit_df['admission_source_id'] = readmit_df['admission_source_id'].replace(5,4)\n",
    "readmit_df['admission_source_id'] = readmit_df['admission_source_id'].replace(6,4)\n",
    "readmit_df['admission_source_id'] = readmit_df['admission_source_id'].replace(10,4)\n",
    "readmit_df['admission_source_id'] = readmit_df['admission_source_id'].replace(22,4)\n",
    "readmit_df['admission_source_id'] = readmit_df['admission_source_id'].replace(25,4)\n",
    "readmit_df['admission_source_id'] = readmit_df['admission_source_id'].replace(15,9)\n",
    "readmit_df['admission_source_id'] = readmit_df['admission_source_id'].replace(17,9)\n",
    "readmit_df['admission_source_id'] = readmit_df['admission_source_id'].replace(20,9)\n",
    "readmit_df['admission_source_id'] = readmit_df['admission_source_id'].replace(21,9)\n",
    "readmit_df['admission_source_id'] = readmit_df['admission_source_id'].replace(13,11)\n",
    "readmit_df['admission_source_id'] = readmit_df['admission_source_id'].replace(14,11)"
   ]
  },
  {
   "cell_type": "markdown",
   "id": "BK-cBTHZeMFO",
   "metadata": {
    "id": "BK-cBTHZeMFO"
   },
   "source": [
    "### 4.9 Encoding few variables"
   ]
  },
  {
   "cell_type": "markdown",
   "id": "B0ePlCtQipVU",
   "metadata": {
    "id": "B0ePlCtQipVU"
   },
   "source": [
    "The original dataset used string values for gender, race, medication change, and each of the 23 drugs used. To better reflect their nature and fit them into our model, we interpret the variables as binary variables."
   ]
  },
  {
   "cell_type": "code",
   "execution_count": null,
   "id": "qJ15-B-rjhP9",
   "metadata": {
    "id": "qJ15-B-rjhP9"
   },
   "outputs": [],
   "source": [
    "readmit_df['change'] = readmit_df['change'].replace('Ch', 1)\n",
    "readmit_df['change'] = readmit_df['change'].replace('No', 0)\n",
    "readmit_df['gender'] = readmit_df['gender'].replace('Male', 1)\n",
    "readmit_df['gender'] = readmit_df['gender'].replace('Female', 0)\n",
    "readmit_df['diabetesMed'] = readmit_df['diabetesMed'].replace('Yes', 1)\n",
    "readmit_df['diabetesMed'] = readmit_df['diabetesMed'].replace('No', 0)\n",
    "for col in drugs23:\n",
    "    readmit_df[col] = readmit_df[col].replace('No', 0)\n",
    "    readmit_df[col] = readmit_df[col].replace('Steady', 1)\n",
    "    readmit_df[col] = readmit_df[col].replace('Up', 1)\n",
    "    readmit_df[col] = readmit_df[col].replace('Down', 1)"
   ]
  },
  {
   "cell_type": "markdown",
   "id": "lqaqPLOofCJH",
   "metadata": {
    "id": "lqaqPLOofCJH"
   },
   "source": [
    "### 4.10 Encoding Age vairable"
   ]
  },
  {
   "cell_type": "markdown",
   "id": "zDUGuU-ylZNU",
   "metadata": {
    "id": "zDUGuU-ylZNU"
   },
   "source": [
    "We don't know the precise age of each patient because the dataset only provides age in 10-year increments. Age categories were utilized as nominal variables in the last study on this dataset, but we wanted to be able to understand how being older affected readmission. To achieve that, we assume that the patient's age generally falls in the middle of the age range. For instance, if the patient falls into the 40–50 year age range, we will infer that the patient is 45 years old. Therefore, we transformed age ranges to midpoints, producing a numerical variable"
   ]
  },
  {
   "cell_type": "code",
   "execution_count": null,
   "id": "zBSukBx3lbXU",
   "metadata": {
    "colab": {
     "base_uri": "https://localhost:8080/"
    },
    "id": "zBSukBx3lbXU",
    "outputId": "f33acea5-a95b-4d7c-d465-2a328c25b932"
   },
   "outputs": [
    {
     "data": {
      "text/plain": [
       "8     24815\n",
       "7     21521\n",
       "6     16546\n",
       "9     16223\n",
       "5      9208\n",
       "4      3538\n",
       "10     2594\n",
       "3      1471\n",
       "2       466\n",
       "1        64\n",
       "Name: age, dtype: int64"
      ]
     },
     "execution_count": 17,
     "metadata": {},
     "output_type": "execute_result"
    }
   ],
   "source": [
    "# code for age intervals \n",
    "for i in range(0,10):\n",
    "    readmit_df['age'] = readmit_df['age'].replace('['+str(10*i)+'-'+str(10*(i+1))+')', i+1)\n",
    "readmit_df['age'].value_counts()"
   ]
  },
  {
   "cell_type": "markdown",
   "id": "klFyrx3_fXhm",
   "metadata": {
    "id": "klFyrx3_fXhm"
   },
   "source": [
    "### 4.11 Encoding A1CResult and max_glu_serum"
   ]
  },
  {
   "cell_type": "markdown",
   "id": "npfq3yz3jv-i",
   "metadata": {
    "id": "npfq3yz3jv-i"
   },
   "source": [
    "Also as per the data description,  we divided the results of the A1C test and the glucose serum test into three categories: Normal, Abnormal, and Not tested."
   ]
  },
  {
   "cell_type": "code",
   "execution_count": null,
   "id": "GRSgYwpxkGPP",
   "metadata": {
    "id": "GRSgYwpxkGPP"
   },
   "outputs": [],
   "source": [
    "readmit_df['A1Cresult'] = readmit_df['A1Cresult'].replace('>7', 1)\n",
    "readmit_df['A1Cresult'] = readmit_df['A1Cresult'].replace('>8', 1)\n",
    "readmit_df['A1Cresult'] = readmit_df['A1Cresult'].replace('Norm', 0)\n",
    "readmit_df['A1Cresult'] = readmit_df['A1Cresult'].replace('None', -99)\n",
    "readmit_df['max_glu_serum'] = readmit_df['max_glu_serum'].replace('>200', 1)\n",
    "readmit_df['max_glu_serum'] = readmit_df['max_glu_serum'].replace('>300', 1)\n",
    "readmit_df['max_glu_serum'] = readmit_df['max_glu_serum'].replace('Norm', 0)\n",
    "readmit_df['max_glu_serum'] = readmit_df['max_glu_serum'].replace('None', -99)"
   ]
  },
  {
   "cell_type": "markdown",
   "id": "5diE5wwJf06_",
   "metadata": {
    "id": "5diE5wwJf06_"
   },
   "source": [
    "### 4.12 Handling Multiple encounters"
   ]
  },
  {
   "cell_type": "markdown",
   "id": "Bx2qwh6nmssV",
   "metadata": {
    "id": "Bx2qwh6nmssV"
   },
   "source": [
    "Multiple encounters were had by several patients. We were unable to consider them as separate events because doing so would advantage patients who had numerous encounters. In order to aggregate and consolidate several encounters for the same patient."
   ]
  },
  {
   "cell_type": "code",
   "execution_count": null,
   "id": "zy6VrTfinCzC",
   "metadata": {
    "colab": {
     "base_uri": "https://localhost:8080/"
    },
    "id": "zy6VrTfinCzC",
    "outputId": "3d22955a-b921-4eab-a27b-aa8cdbf37792"
   },
   "outputs": [
    {
     "data": {
      "text/plain": [
       "(67580, 45)"
      ]
     },
     "execution_count": 19,
     "metadata": {},
     "output_type": "execute_result"
    }
   ],
   "source": [
    "readmit_df2 = readmit_df.drop_duplicates(subset= ['patient_nbr'], keep = 'first')\n",
    "readmit_df2.shape"
   ]
  },
  {
   "cell_type": "markdown",
   "id": "54VosXXggDbl",
   "metadata": {
    "id": "54VosXXggDbl"
   },
   "source": [
    "### 4.13 Handling diag_1, diag_2 and diag_3 using icd9 codes"
   ]
  },
  {
   "cell_type": "markdown",
   "id": "2oLAMrbdhQuc",
   "metadata": {
    "id": "2oLAMrbdhQuc"
   },
   "source": [
    "From the previous work done which I mentioned in references the following abbreviations are used for particular icd9 codes: “circulatory” for icd9: 390–459, 785, “digestive” for icd9: 520–579, 787, “genitourinary” for icd9: 580–629, 788, “diabetes” for icd9: 250.xx, “injury” for icd9: 800–999, “musculoskeletal” for icd9: 710–739, “neoplasms” for icd9: 140–239, “respiratory’’ for icd9: 460–519, 786, and “other” for otherwise."
   ]
  },
  {
   "cell_type": "code",
   "execution_count": null,
   "id": "_iLiajOehfHq",
   "metadata": {
    "id": "_iLiajOehfHq"
   },
   "outputs": [],
   "source": [
    "readmit_df['level1_diag1'] = readmit_df['diag_1']\n",
    "readmit_df['level2_diag1'] = readmit_df['diag_1']\n",
    "readmit_df['level1_diag2'] = readmit_df['diag_2']\n",
    "readmit_df['level2_diag2'] = readmit_df['diag_2']\n",
    "readmit_df['level1_diag3'] = readmit_df['diag_3']\n",
    "readmit_df['level2_diag3'] = readmit_df['diag_3']\n",
    "readmit_df.loc[readmit_df['diag_1'].str.contains('V'), ['level1_diag1', 'level2_diag1']] = 0\n",
    "readmit_df.loc[readmit_df['diag_1'].str.contains('E'), ['level1_diag1', 'level2_diag1']] = 0\n",
    "readmit_df.loc[readmit_df['diag_2'].str.contains('V'), ['level1_diag2', 'level2_diag2']] = 0\n",
    "readmit_df.loc[readmit_df['diag_2'].str.contains('E'), ['level1_diag2', 'level2_diag2']] = 0\n",
    "readmit_df.loc[readmit_df['diag_3'].str.contains('V'), ['level1_diag3', 'level2_diag3']] = 0\n",
    "readmit_df.loc[readmit_df['diag_3'].str.contains('E'), ['level1_diag3', 'level2_diag3']] = 0\n",
    "readmit_df['level1_diag1'] = readmit_df['level1_diag1'].replace('?', -1)\n",
    "readmit_df['level2_diag1'] = readmit_df['level2_diag1'].replace('?', -1)\n",
    "readmit_df['level1_diag2'] = readmit_df['level1_diag2'].replace('?', -1)\n",
    "readmit_df['level2_diag2'] = readmit_df['level2_diag2'].replace('?', -1)\n",
    "readmit_df['level1_diag3'] = readmit_df['level1_diag3'].replace('?', -1)\n",
    "readmit_df['level2_diag3'] = readmit_df['level2_diag3'].replace('?', -1)"
   ]
  },
  {
   "cell_type": "code",
   "execution_count": null,
   "id": "b7AZc0j2oR4V",
   "metadata": {
    "id": "b7AZc0j2oR4V"
   },
   "outputs": [],
   "source": [
    "readmit_df['level1_diag1'] = readmit_df['level1_diag1'].astype(float)\n",
    "readmit_df['level2_diag1'] = readmit_df['level2_diag1'].astype(float)\n",
    "readmit_df['level1_diag2'] = readmit_df['level1_diag2'].astype(float)\n",
    "readmit_df['level2_diag2'] = readmit_df['level2_diag2'].astype(float)\n",
    "readmit_df['level1_diag3'] = readmit_df['level1_diag3'].astype(float)\n",
    "readmit_df['level2_diag3'] = readmit_df['level2_diag3'].astype(float)"
   ]
  },
  {
   "cell_type": "code",
   "execution_count": null,
   "id": "R7r9scIMoqBa",
   "metadata": {
    "id": "R7r9scIMoqBa"
   },
   "outputs": [],
   "source": [
    "for index, row in readmit_df.iterrows():\n",
    "    if (row['level1_diag1'] >= 390 and row['level1_diag1'] < 460) or (np.floor(row['level1_diag1']) == 785):\n",
    "        readmit_df.loc[index, 'level1_diag1'] = 1\n",
    "    elif (row['level1_diag1'] >= 460 and row['level1_diag1'] < 520) or (np.floor(row['level1_diag1']) == 786):\n",
    "        readmit_df.loc[index, 'level1_diag1'] = 2\n",
    "    elif (row['level1_diag1'] >= 520 and row['level1_diag1'] < 580) or (np.floor(row['level1_diag1']) == 787):\n",
    "        readmit_df.loc[index, 'level1_diag1'] = 3\n",
    "    elif (np.floor(row['level1_diag1']) == 250):\n",
    "        readmit_df.loc[index, 'level1_diag1'] = 4\n",
    "    elif (row['level1_diag1'] >= 800 and row['level1_diag1'] < 1000):\n",
    "        readmit_df.loc[index, 'level1_diag1'] = 5\n",
    "    elif (row['level1_diag1'] >= 710 and row['level1_diag1'] < 740):\n",
    "        readmit_df.loc[index, 'level1_diag1'] = 6\n",
    "    elif (row['level1_diag1'] >= 580 and row['level1_diag1'] < 630) or (np.floor(row['level1_diag1']) == 788):\n",
    "        readmit_df.loc[index, 'level1_diag1'] = 7\n",
    "    elif (row['level1_diag1'] >= 140 and row['level1_diag1'] < 240):\n",
    "        readmit_df.loc[index, 'level1_diag1'] = 8\n",
    "    else:\n",
    "        readmit_df.loc[index, 'level1_diag1'] = 0\n",
    "        \n",
    "    if (row['level1_diag2'] >= 390 and row['level1_diag2'] < 460) or (np.floor(row['level1_diag2']) == 785):\n",
    "        readmit_df.loc[index, 'level1_diag2'] = 1\n",
    "    elif (row['level1_diag2'] >= 460 and row['level1_diag2'] < 520) or (np.floor(row['level1_diag2']) == 786):\n",
    "        readmit_df.loc[index, 'level1_diag2'] = 2\n",
    "    elif (row['level1_diag2'] >= 520 and row['level1_diag2'] < 580) or (np.floor(row['level1_diag2']) == 787):\n",
    "        readmit_df.loc[index, 'level1_diag2'] = 3\n",
    "    elif (np.floor(row['level1_diag2']) == 250):\n",
    "        readmit_df.loc[index, 'level1_diag2'] = 4\n",
    "    elif (row['level1_diag2'] >= 800 and row['level1_diag2'] < 1000):\n",
    "        readmit_df.loc[index, 'level1_diag2'] = 5\n",
    "    elif (row['level1_diag2'] >= 710 and row['level1_diag2'] < 740):\n",
    "        readmit_df.loc[index, 'level1_diag2'] = 6\n",
    "    elif (row['level1_diag2'] >= 580 and row['level1_diag2'] < 630) or (np.floor(row['level1_diag2']) == 788):\n",
    "        readmit_df.loc[index, 'level1_diag2'] = 7\n",
    "    elif (row['level1_diag2'] >= 140 and row['level1_diag2'] < 240):\n",
    "        readmit_df.loc[index, 'level1_diag2'] = 8\n",
    "    else:\n",
    "        readmit_df.loc[index, 'level1_diag2'] = 0\n",
    "    \n",
    "    if (row['level1_diag3'] >= 390 and row['level1_diag3'] < 460) or (np.floor(row['level1_diag3']) == 785):\n",
    "        readmit_df.loc[index, 'level1_diag3'] = 1\n",
    "    elif (row['level1_diag3'] >= 460 and row['level1_diag3'] < 520) or (np.floor(row['level1_diag3']) == 786):\n",
    "        readmit_df.loc[index, 'level1_diag3'] = 2\n",
    "    elif (row['level1_diag3'] >= 520 and row['level1_diag3'] < 580) or (np.floor(row['level1_diag3']) == 787):\n",
    "        readmit_df.loc[index, 'level1_diag3'] = 3\n",
    "    elif (np.floor(row['level1_diag3']) == 250):\n",
    "        readmit_df.loc[index, 'level1_diag3'] = 4\n",
    "    elif (row['level1_diag3'] >= 800 and row['level1_diag3'] < 1000):\n",
    "        readmit_df.loc[index, 'level1_diag3'] = 5\n",
    "    elif (row['level1_diag3'] >= 710 and row['level1_diag3'] < 740):\n",
    "        readmit_df.loc[index, 'level1_diag3'] = 6\n",
    "    elif (row['level1_diag3'] >= 580 and row['level1_diag3'] < 630) or (np.floor(row['level1_diag3']) == 788):\n",
    "        readmit_df.loc[index, 'level1_diag3'] = 7\n",
    "    elif (row['level1_diag3'] >= 140 and row['level1_diag3'] < 240):\n",
    "        readmit_df.loc[index, 'level1_diag3'] = 8\n",
    "    else:\n",
    "        readmit_df.loc[index, 'level1_diag3'] = 0"
   ]
  },
  {
   "cell_type": "code",
   "execution_count": null,
   "id": "eaDj3Oe2oqQB",
   "metadata": {
    "id": "eaDj3Oe2oqQB"
   },
   "outputs": [],
   "source": [
    "for index, row in readmit_df.iterrows():\n",
    "    if (row['level2_diag1'] >= 390 and row['level2_diag1'] < 399):\n",
    "        readmit_df.loc[index, 'level2_diag1'] = 1\n",
    "    elif (row['level2_diag1'] >= 401 and row['level2_diag1'] < 415):\n",
    "        readmit_df.loc[index, 'level2_diag1'] = 2\n",
    "    elif (row['level2_diag1'] >= 415 and row['level2_diag1'] < 460):\n",
    "        readmit_df.loc[index, 'level2_diag1'] = 3\n",
    "    elif (np.floor(row['level2_diag1']) == 785):\n",
    "        readmit_df.loc[index, 'level2_diag1'] = 4\n",
    "    elif (row['level2_diag1'] >= 460 and row['level2_diag1'] < 489):\n",
    "        readmit_df.loc[index, 'level2_diag1'] = 5\n",
    "    elif (row['level2_diag1'] >= 490 and row['level2_diag1'] < 497):\n",
    "        readmit_df.loc[index, 'level2_diag1'] = 6\n",
    "    elif (row['level2_diag1'] >= 500 and row['level2_diag1'] < 520):\n",
    "        readmit_df.loc[index, 'level2_diag1'] = 7\n",
    "    elif (np.floor(row['level2_diag1']) == 786):\n",
    "        readmit_df.loc[index, 'level2_diag1'] = 8\n",
    "    elif (row['level2_diag1'] >= 520 and row['level2_diag1'] < 530):\n",
    "        readmit_df.loc[index, 'level2_diag1'] = 9\n",
    "    elif (row['level2_diag1'] >= 530 and row['level2_diag1'] < 544):\n",
    "        readmit_df.loc[index, 'level2_diag1'] = 10\n",
    "    elif (row['level2_diag1'] >= 550 and row['level2_diag1'] < 554):\n",
    "        readmit_df.loc[index, 'level2_diag1'] = 11\n",
    "    elif (row['level2_diag1'] >= 555 and row['level2_diag1'] < 580):\n",
    "        readmit_df.loc[index, 'level2_diag1'] = 12\n",
    "    elif (np.floor(row['level2_diag1']) == 787):\n",
    "        readmit_df.loc[index, 'level2_diag1'] = 13\n",
    "    elif (np.floor(row['level2_diag1']) == 250):\n",
    "        readmit_df.loc[index, 'level2_diag1'] = 14\n",
    "    elif (row['level2_diag1'] >= 800 and row['level2_diag1'] < 1000):\n",
    "        readmit_df.loc[index, 'level2_diag1'] = 15\n",
    "    elif (row['level2_diag1'] >= 710 and row['level2_diag1'] < 740):\n",
    "        readmit_df.loc[index, 'level2_diag1'] = 16\n",
    "    elif (row['level2_diag1'] >= 580 and row['level2_diag1'] < 630):\n",
    "        readmit_df.loc[index, 'level2_diag1'] = 17\n",
    "    elif (np.floor(row['level2_diag1']) == 788):\n",
    "        readmit_df.loc[index, 'level2_diag1'] = 18\n",
    "    elif (row['level2_diag1'] >= 140 and row['level2_diag1'] < 240):\n",
    "        readmit_df.loc[index, 'level2_diag1'] = 19\n",
    "    elif row['level2_diag1'] >= 240 and row['level2_diag1'] < 280 and (np.floor(row['level2_diag1']) != 250):\n",
    "        readmit_df.loc[index, 'level2_diag1'] = 20\n",
    "    elif (row['level2_diag1'] >= 680 and row['level2_diag1'] < 710) or (np.floor(row['level2_diag1']) == 782):\n",
    "        readmit_df.loc[index, 'level2_diag1'] = 21\n",
    "    elif (row['level2_diag1'] >= 290 and row['level2_diag1'] < 320):\n",
    "        readmit_df.loc[index, 'level2_diag1'] = 22\n",
    "    else:\n",
    "        readmit_df.loc[index, 'level2_diag1'] = 0\n",
    "        \n",
    "    if (row['level2_diag2'] >= 390 and row['level2_diag2'] < 399):\n",
    "        readmit_df.loc[index, 'level2_diag2'] = 1\n",
    "    elif (row['level2_diag2'] >= 401 and row['level2_diag2'] < 415):\n",
    "        readmit_df.loc[index, 'level2_diag2'] = 2\n",
    "    elif (row['level2_diag2'] >= 415 and row['level2_diag2'] < 460):\n",
    "        readmit_df.loc[index, 'level2_diag2'] = 3\n",
    "    elif (np.floor(row['level2_diag2']) == 785):\n",
    "        readmit_df.loc[index, 'level2_diag2'] = 4\n",
    "    elif (row['level2_diag2'] >= 460 and row['level2_diag2'] < 489):\n",
    "        readmit_df.loc[index, 'level2_diag2'] = 5\n",
    "    elif (row['level2_diag2'] >= 490 and row['level2_diag2'] < 497):\n",
    "        readmit_df.loc[index, 'level2_diag2'] = 6\n",
    "    elif (row['level2_diag2'] >= 500 and row['level2_diag2'] < 520):\n",
    "        readmit_df.loc[index, 'level2_diag2'] = 7\n",
    "    elif (np.floor(row['level2_diag2']) == 786):\n",
    "        readmit_df.loc[index, 'level2_diag2'] = 8\n",
    "    elif (row['level2_diag2'] >= 520 and row['level2_diag2'] < 530):\n",
    "        readmit_df.loc[index, 'level2_diag2'] = 9\n",
    "    elif (row['level2_diag2'] >= 530 and row['level2_diag2'] < 544):\n",
    "        readmit_df.loc[index, 'level2_diag2'] = 10\n",
    "    elif (row['level2_diag2'] >= 550 and row['level2_diag2'] < 554):\n",
    "        readmit_df.loc[index, 'level2_diag2'] = 11\n",
    "    elif (row['level2_diag2'] >= 555 and row['level2_diag2'] < 580):\n",
    "        readmit_df.loc[index, 'level2_diag2'] = 12\n",
    "    elif (np.floor(row['level2_diag2']) == 787):\n",
    "        readmit_df.loc[index, 'level2_diag2'] = 13\n",
    "    elif (np.floor(row['level2_diag2']) == 250):\n",
    "        readmit_df.loc[index, 'level2_diag2'] = 14\n",
    "    elif (row['level2_diag2'] >= 800 and row['level2_diag2'] < 1000):\n",
    "        readmit_df.loc[index, 'level2_diag2'] = 15\n",
    "    elif (row['level2_diag2'] >= 710 and row['level2_diag2'] < 740):\n",
    "        readmit_df.loc[index, 'level2_diag2'] = 16\n",
    "    elif (row['level2_diag2'] >= 580 and row['level2_diag2'] < 630):\n",
    "        readmit_df.loc[index, 'level2_diag2'] = 17\n",
    "    elif (np.floor(row['level2_diag2']) == 788):\n",
    "        readmit_df.loc[index, 'level2_diag2'] = 18\n",
    "    elif (row['level2_diag2'] >= 140 and row['level2_diag2'] < 240):\n",
    "        readmit_df.loc[index, 'level2_diag2'] = 19\n",
    "    elif row['level2_diag2'] >= 240 and row['level2_diag2'] < 280 and (np.floor(row['level2_diag2']) != 250):\n",
    "        readmit_df.loc[index, 'level2_diag2'] = 20\n",
    "    elif (row['level2_diag2'] >= 680 and row['level2_diag2'] < 710) or (np.floor(row['level2_diag2']) == 782):\n",
    "        readmit_df.loc[index, 'level2_diag2'] = 21\n",
    "    elif (row['level2_diag2'] >= 290 and row['level2_diag2'] < 320):\n",
    "        readmit_df.loc[index, 'level2_diag2'] = 22\n",
    "    else:\n",
    "        readmit_df.loc[index, 'level2_diag2'] = 0\n",
    "        \n",
    "        \n",
    "    if (row['level2_diag3'] >= 390 and row['level2_diag3'] < 399):\n",
    "        readmit_df.loc[index, 'level2_diag3'] = 1\n",
    "    elif (row['level2_diag3'] >= 401 and row['level2_diag3'] < 415):\n",
    "        readmit_df.loc[index, 'level2_diag3'] = 2\n",
    "    elif (row['level2_diag3'] >= 415 and row['level2_diag3'] < 460):\n",
    "        readmit_df.loc[index, 'level2_diag3'] = 3\n",
    "    elif (np.floor(row['level2_diag3']) == 785):\n",
    "        readmit_df.loc[index, 'level2_diag3'] = 4\n",
    "    elif (row['level2_diag3'] >= 460 and row['level2_diag3'] < 489):\n",
    "        readmit_df.loc[index, 'level2_diag3'] = 5\n",
    "    elif (row['level2_diag3'] >= 490 and row['level2_diag3'] < 497):\n",
    "        readmit_df.loc[index, 'level2_diag3'] = 6\n",
    "    elif (row['level2_diag3'] >= 500 and row['level2_diag3'] < 520):\n",
    "        readmit_df.loc[index, 'level2_diag3'] = 7\n",
    "    elif (np.floor(row['level2_diag3']) == 786):\n",
    "        readmit_df.loc[index, 'level2_diag3'] = 8\n",
    "    elif (row['level2_diag3'] >= 520 and row['level2_diag3'] < 530):\n",
    "        readmit_df.loc[index, 'level2_diag3'] = 9\n",
    "    elif (row['level2_diag3'] >= 530 and row['level2_diag3'] < 544):\n",
    "        readmit_df.loc[index, 'level2_diag3'] = 10\n",
    "    elif (row['level2_diag3'] >= 550 and row['level2_diag3'] < 554):\n",
    "        readmit_df.loc[index, 'level2_diag3'] = 11\n",
    "    elif (row['level2_diag3'] >= 555 and row['level2_diag3'] < 580):\n",
    "        readmit_df.loc[index, 'level2_diag3'] = 12\n",
    "    elif (np.floor(row['level2_diag3']) == 787):\n",
    "        readmit_df.loc[index, 'level2_diag3'] = 13\n",
    "    elif (np.floor(row['level2_diag3']) == 250):\n",
    "        readmit_df.loc[index, 'level2_diag3'] = 14\n",
    "    elif (row['level2_diag3'] >= 800 and row['level2_diag3'] < 1000):\n",
    "        readmit_df.loc[index, 'level2_diag3'] = 15\n",
    "    elif (row['level2_diag3'] >= 710 and row['level2_diag3'] < 740):\n",
    "        readmit_df.loc[index, 'level2_diag3'] = 16\n",
    "    elif (row['level2_diag3'] >= 580 and row['level2_diag3'] < 630):\n",
    "        readmit_df.loc[index, 'level2_diag3'] = 17\n",
    "    elif (np.floor(row['level2_diag3']) == 788):\n",
    "        readmit_df.loc[index, 'level2_diag3'] = 18\n",
    "    elif (row['level2_diag3'] >= 140 and row['level2_diag3'] < 240):\n",
    "        readmit_df.loc[index, 'level2_diag3'] = 19\n",
    "    elif row['level2_diag3'] >= 240 and row['level2_diag3'] < 280 and (np.floor(row['level2_diag3']) != 250):\n",
    "        readmit_df.loc[index, 'level2_diag3'] = 20\n",
    "    elif (row['level2_diag3'] >= 680 and row['level2_diag3'] < 710) or (np.floor(row['level2_diag3']) == 782):\n",
    "        readmit_df.loc[index, 'level2_diag3'] = 21\n",
    "    elif (row['level2_diag3'] >= 290 and row['level2_diag3'] < 320):\n",
    "        readmit_df.loc[index, 'level2_diag3'] = 22\n",
    "    else:\n",
    "        readmit_df.loc[index, 'level2_diag3'] = 0"
   ]
  },
  {
   "cell_type": "markdown",
   "id": "sjOWz9HlqwXX",
   "metadata": {
    "id": "sjOWz9HlqwXX"
   },
   "source": [
    "We do not want to lose that information by interpreting the age category as a simple categorical variable because it is ordinal rather than just nominal."
   ]
  },
  {
   "cell_type": "code",
   "execution_count": null,
   "id": "Tv4W9N2HpITD",
   "metadata": {
    "colab": {
     "base_uri": "https://localhost:8080/"
    },
    "id": "Tv4W9N2HpITD",
    "outputId": "cc75e768-d179-45cf-f27c-0979260795af"
   },
   "outputs": [
    {
     "name": "stdout",
     "output_type": "stream",
     "text": [
      "8     24815\n",
      "7     21521\n",
      "6     16546\n",
      "9     16223\n",
      "5      9208\n",
      "4      3538\n",
      "10     2594\n",
      "3      1471\n",
      "2       466\n",
      "1        64\n",
      "Name: age, dtype: int64\n",
      "75    24815\n",
      "65    21521\n",
      "55    16546\n",
      "85    16223\n",
      "45     9208\n",
      "35     3538\n",
      "95     2594\n",
      "25     1471\n",
      "15      466\n",
      "5        64\n",
      "Name: age, dtype: int64\n"
     ]
    }
   ],
   "source": [
    "readmit_df['age'] = readmit_df['age'].astype('int64')\n",
    "print(readmit_df.age.value_counts())\n",
    "age_dict = {1:5, 2:15, 3:25, 4:35, 5:45, 6:55, 7:65, 8:75, 9:85, 10:95}\n",
    "readmit_df['age'] = readmit_df.age.map(age_dict)\n",
    "print(readmit_df.age.value_counts())"
   ]
  },
  {
   "cell_type": "markdown",
   "id": "yd7X1SE3gpNO",
   "metadata": {
    "id": "yd7X1SE3gpNO"
   },
   "source": [
    "### 4.14 Converting Nominal features to Object type"
   ]
  },
  {
   "cell_type": "code",
   "execution_count": null,
   "id": "Zl9iNgUGyHhS",
   "metadata": {
    "id": "Zl9iNgUGyHhS"
   },
   "outputs": [],
   "source": [
    "# convert data type of nominal features in dataframe to 'object' type\n",
    "index = [ 'gender', 'admission_type_id', 'discharge_disposition_id', 'admission_source_id',\n",
    "          'age',  'max_glu_serum', 'level1_diag1', 'level1_diag2', 'level1_diag3', 'level2_diag1', 'level2_diag2', 'level2_diag3']\n",
    "\n",
    "readmit_df[index] = readmit_df[index].astype('object')"
   ]
  },
  {
   "cell_type": "markdown",
   "id": "ibaQaal_g9qY",
   "metadata": {
    "id": "ibaQaal_g9qY"
   },
   "source": [
    "### 4.15 Checking patient's overall drug regimen"
   ]
  },
  {
   "cell_type": "markdown",
   "id": "VqanIUb4psgV",
   "metadata": {
    "id": "VqanIUb4psgV"
   },
   "source": [
    "The patient's overall drug regimen is yet another potential issue. By keeping track of the prescriptions taken throughout the contact, we observed it further."
   ]
  },
  {
   "cell_type": "code",
   "execution_count": null,
   "id": "7OL96fv5ptRg",
   "metadata": {
    "colab": {
     "base_uri": "https://localhost:8080/"
    },
    "id": "7OL96fv5ptRg",
    "outputId": "f6e91605-abe7-4c70-937f-f314c1da57a4"
   },
   "outputs": [
    {
     "data": {
      "text/plain": [
       "1    44589\n",
       "0    22156\n",
       "2    20901\n",
       "3     7448\n",
       "4     1290\n",
       "5       57\n",
       "6        5\n",
       "Name: cnt_med, dtype: int64"
      ]
     },
     "execution_count": 26,
     "metadata": {},
     "output_type": "execute_result"
    }
   ],
   "source": [
    "readmit_df['cnt_med'] = 0\n",
    "\n",
    "for col in drugs23:\n",
    "    readmit_df['cnt_med'] = readmit_df['cnt_med'] + readmit_df[col]\n",
    "readmit_df['cnt_med'].value_counts()"
   ]
  },
  {
   "cell_type": "markdown",
   "id": "g0PHd01gh5jC",
   "metadata": {
    "id": "g0PHd01gh5jC"
   },
   "source": [
    "### 4.16 Dropping variables related to individual diagnosis and other levels "
   ]
  },
  {
   "cell_type": "code",
   "execution_count": null,
   "id": "FokKGpJUpIft",
   "metadata": {
    "id": "FokKGpJUpIft"
   },
   "outputs": [],
   "source": [
    "# Remove specific diagnosis columns that contain unnecessary information about the condition.\n",
    "# Drop level 2 classification, Drop level 1 secondary and tertiary diagnoses.\n",
    "readmit_df.drop(['diag_1', 'diag_2', 'diag_3', 'level2_diag1', 'level1_diag2', 'level2_diag2', 'level1_diag3',\n",
    "         'level2_diag3'], axis=1, inplace=True)"
   ]
  },
  {
   "cell_type": "code",
   "execution_count": null,
   "id": "pkKAhqily_rg",
   "metadata": {
    "colab": {
     "base_uri": "https://localhost:8080/"
    },
    "id": "pkKAhqily_rg",
    "outputId": "3730ede7-df0b-42e4-ce0c-16121a2e6dfb"
   },
   "outputs": [
    {
     "name": "stdout",
     "output_type": "stream",
     "text": [
      "<class 'pandas.core.frame.DataFrame'>\n",
      "Int64Index: 96446 entries, 1 to 101765\n",
      "Data columns (total 44 columns):\n",
      " #   Column                    Non-Null Count  Dtype \n",
      "---  ------                    --------------  ----- \n",
      " 0   patient_nbr               96446 non-null  int64 \n",
      " 1   race                      96446 non-null  object\n",
      " 2   gender                    96446 non-null  object\n",
      " 3   age                       96446 non-null  object\n",
      " 4   admission_type_id         96446 non-null  object\n",
      " 5   discharge_disposition_id  96446 non-null  object\n",
      " 6   admission_source_id       96446 non-null  object\n",
      " 7   time_in_hospital          96446 non-null  int64 \n",
      " 8   num_lab_procedures        96446 non-null  int64 \n",
      " 9   num_procedures            96446 non-null  int64 \n",
      " 10  num_medications           96446 non-null  int64 \n",
      " 11  number_outpatient         96446 non-null  int64 \n",
      " 12  number_emergency          96446 non-null  int64 \n",
      " 13  number_inpatient          96446 non-null  int64 \n",
      " 14  number_diagnoses          96446 non-null  int64 \n",
      " 15  max_glu_serum             96446 non-null  object\n",
      " 16  A1Cresult                 96446 non-null  int64 \n",
      " 17  metformin                 96446 non-null  int64 \n",
      " 18  repaglinide               96446 non-null  int64 \n",
      " 19  nateglinide               96446 non-null  int64 \n",
      " 20  chlorpropamide            96446 non-null  int64 \n",
      " 21  glimepiride               96446 non-null  int64 \n",
      " 22  acetohexamide             96446 non-null  int64 \n",
      " 23  glipizide                 96446 non-null  int64 \n",
      " 24  glyburide                 96446 non-null  int64 \n",
      " 25  tolbutamide               96446 non-null  int64 \n",
      " 26  pioglitazone              96446 non-null  int64 \n",
      " 27  rosiglitazone             96446 non-null  int64 \n",
      " 28  acarbose                  96446 non-null  int64 \n",
      " 29  miglitol                  96446 non-null  int64 \n",
      " 30  troglitazone              96446 non-null  int64 \n",
      " 31  tolazamide                96446 non-null  int64 \n",
      " 32  insulin                   96446 non-null  int64 \n",
      " 33  glyburide-metformin       96446 non-null  int64 \n",
      " 34  glipizide-metformin       96446 non-null  int64 \n",
      " 35  glimepiride-pioglitazone  96446 non-null  int64 \n",
      " 36  metformin-rosiglitazone   96446 non-null  int64 \n",
      " 37  metformin-pioglitazone    96446 non-null  int64 \n",
      " 38  change                    96446 non-null  int64 \n",
      " 39  diabetesMed               96446 non-null  int64 \n",
      " 40  readmitted                96446 non-null  int64 \n",
      " 41  numchange                 96446 non-null  int64 \n",
      " 42  level1_diag1              96446 non-null  object\n",
      " 43  cnt_med                   96446 non-null  int64 \n",
      "dtypes: int64(36), object(8)\n",
      "memory usage: 35.1+ MB\n"
     ]
    }
   ],
   "source": [
    "readmit_df.info()"
   ]
  },
  {
   "cell_type": "markdown",
   "id": "U0LnjIzojFLQ",
   "metadata": {
    "id": "U0LnjIzojFLQ"
   },
   "source": [
    "### 4.17 Encoding Categorical Variables"
   ]
  },
  {
   "cell_type": "code",
   "execution_count": null,
   "id": "f8beee26-3682-490b-a496-664ebc7c1540",
   "metadata": {
    "colab": {
     "base_uri": "https://localhost:8080/",
     "height": 505
    },
    "id": "f8beee26-3682-490b-a496-664ebc7c1540",
    "outputId": "345605de-4845-4539-e251-78091c168f4f"
   },
   "outputs": [
    {
     "data": {
      "text/html": [
       "\n",
       "  <div id=\"df-9465e0c8-8623-4949-95ef-c103f1b0e466\">\n",
       "    <div class=\"colab-df-container\">\n",
       "      <div>\n",
       "<style scoped>\n",
       "    .dataframe tbody tr th:only-of-type {\n",
       "        vertical-align: middle;\n",
       "    }\n",
       "\n",
       "    .dataframe tbody tr th {\n",
       "        vertical-align: top;\n",
       "    }\n",
       "\n",
       "    .dataframe thead th {\n",
       "        text-align: right;\n",
       "    }\n",
       "</style>\n",
       "<table border=\"1\" class=\"dataframe\">\n",
       "  <thead>\n",
       "    <tr style=\"text-align: right;\">\n",
       "      <th></th>\n",
       "      <th>patient_nbr</th>\n",
       "      <th>race</th>\n",
       "      <th>gender</th>\n",
       "      <th>age</th>\n",
       "      <th>admission_type_id</th>\n",
       "      <th>discharge_disposition_id</th>\n",
       "      <th>admission_source_id</th>\n",
       "      <th>time_in_hospital</th>\n",
       "      <th>num_lab_procedures</th>\n",
       "      <th>num_procedures</th>\n",
       "      <th>...</th>\n",
       "      <th>glipizide-metformin</th>\n",
       "      <th>glimepiride-pioglitazone</th>\n",
       "      <th>metformin-rosiglitazone</th>\n",
       "      <th>metformin-pioglitazone</th>\n",
       "      <th>change</th>\n",
       "      <th>diabetesMed</th>\n",
       "      <th>readmitted</th>\n",
       "      <th>numchange</th>\n",
       "      <th>level1_diag1</th>\n",
       "      <th>cnt_med</th>\n",
       "    </tr>\n",
       "  </thead>\n",
       "  <tbody>\n",
       "    <tr>\n",
       "      <th>1</th>\n",
       "      <td>55629189</td>\n",
       "      <td>2</td>\n",
       "      <td>0</td>\n",
       "      <td>1</td>\n",
       "      <td>1</td>\n",
       "      <td>0</td>\n",
       "      <td>2</td>\n",
       "      <td>3</td>\n",
       "      <td>59</td>\n",
       "      <td>0</td>\n",
       "      <td>...</td>\n",
       "      <td>0</td>\n",
       "      <td>0</td>\n",
       "      <td>0</td>\n",
       "      <td>0</td>\n",
       "      <td>1</td>\n",
       "      <td>1</td>\n",
       "      <td>0</td>\n",
       "      <td>1</td>\n",
       "      <td>0</td>\n",
       "      <td>1</td>\n",
       "    </tr>\n",
       "    <tr>\n",
       "      <th>2</th>\n",
       "      <td>86047875</td>\n",
       "      <td>0</td>\n",
       "      <td>0</td>\n",
       "      <td>2</td>\n",
       "      <td>1</td>\n",
       "      <td>0</td>\n",
       "      <td>2</td>\n",
       "      <td>2</td>\n",
       "      <td>11</td>\n",
       "      <td>5</td>\n",
       "      <td>...</td>\n",
       "      <td>0</td>\n",
       "      <td>0</td>\n",
       "      <td>0</td>\n",
       "      <td>0</td>\n",
       "      <td>0</td>\n",
       "      <td>1</td>\n",
       "      <td>0</td>\n",
       "      <td>0</td>\n",
       "      <td>0</td>\n",
       "      <td>1</td>\n",
       "    </tr>\n",
       "    <tr>\n",
       "      <th>3</th>\n",
       "      <td>82442376</td>\n",
       "      <td>2</td>\n",
       "      <td>1</td>\n",
       "      <td>3</td>\n",
       "      <td>1</td>\n",
       "      <td>0</td>\n",
       "      <td>2</td>\n",
       "      <td>2</td>\n",
       "      <td>44</td>\n",
       "      <td>1</td>\n",
       "      <td>...</td>\n",
       "      <td>0</td>\n",
       "      <td>0</td>\n",
       "      <td>0</td>\n",
       "      <td>0</td>\n",
       "      <td>1</td>\n",
       "      <td>1</td>\n",
       "      <td>0</td>\n",
       "      <td>1</td>\n",
       "      <td>0</td>\n",
       "      <td>1</td>\n",
       "    </tr>\n",
       "    <tr>\n",
       "      <th>4</th>\n",
       "      <td>42519267</td>\n",
       "      <td>2</td>\n",
       "      <td>1</td>\n",
       "      <td>4</td>\n",
       "      <td>1</td>\n",
       "      <td>0</td>\n",
       "      <td>2</td>\n",
       "      <td>1</td>\n",
       "      <td>51</td>\n",
       "      <td>0</td>\n",
       "      <td>...</td>\n",
       "      <td>0</td>\n",
       "      <td>0</td>\n",
       "      <td>0</td>\n",
       "      <td>0</td>\n",
       "      <td>1</td>\n",
       "      <td>1</td>\n",
       "      <td>0</td>\n",
       "      <td>0</td>\n",
       "      <td>8</td>\n",
       "      <td>2</td>\n",
       "    </tr>\n",
       "    <tr>\n",
       "      <th>5</th>\n",
       "      <td>82637451</td>\n",
       "      <td>2</td>\n",
       "      <td>1</td>\n",
       "      <td>5</td>\n",
       "      <td>1</td>\n",
       "      <td>0</td>\n",
       "      <td>0</td>\n",
       "      <td>3</td>\n",
       "      <td>31</td>\n",
       "      <td>6</td>\n",
       "      <td>...</td>\n",
       "      <td>0</td>\n",
       "      <td>0</td>\n",
       "      <td>0</td>\n",
       "      <td>0</td>\n",
       "      <td>0</td>\n",
       "      <td>1</td>\n",
       "      <td>0</td>\n",
       "      <td>0</td>\n",
       "      <td>1</td>\n",
       "      <td>1</td>\n",
       "    </tr>\n",
       "    <tr>\n",
       "      <th>...</th>\n",
       "      <td>...</td>\n",
       "      <td>...</td>\n",
       "      <td>...</td>\n",
       "      <td>...</td>\n",
       "      <td>...</td>\n",
       "      <td>...</td>\n",
       "      <td>...</td>\n",
       "      <td>...</td>\n",
       "      <td>...</td>\n",
       "      <td>...</td>\n",
       "      <td>...</td>\n",
       "      <td>...</td>\n",
       "      <td>...</td>\n",
       "      <td>...</td>\n",
       "      <td>...</td>\n",
       "      <td>...</td>\n",
       "      <td>...</td>\n",
       "      <td>...</td>\n",
       "      <td>...</td>\n",
       "      <td>...</td>\n",
       "      <td>...</td>\n",
       "    </tr>\n",
       "    <tr>\n",
       "      <th>101761</th>\n",
       "      <td>100162476</td>\n",
       "      <td>0</td>\n",
       "      <td>1</td>\n",
       "      <td>7</td>\n",
       "      <td>1</td>\n",
       "      <td>1</td>\n",
       "      <td>2</td>\n",
       "      <td>3</td>\n",
       "      <td>51</td>\n",
       "      <td>0</td>\n",
       "      <td>...</td>\n",
       "      <td>0</td>\n",
       "      <td>0</td>\n",
       "      <td>0</td>\n",
       "      <td>0</td>\n",
       "      <td>1</td>\n",
       "      <td>1</td>\n",
       "      <td>0</td>\n",
       "      <td>1</td>\n",
       "      <td>4</td>\n",
       "      <td>2</td>\n",
       "    </tr>\n",
       "    <tr>\n",
       "      <th>101762</th>\n",
       "      <td>74694222</td>\n",
       "      <td>0</td>\n",
       "      <td>0</td>\n",
       "      <td>8</td>\n",
       "      <td>1</td>\n",
       "      <td>1</td>\n",
       "      <td>1</td>\n",
       "      <td>5</td>\n",
       "      <td>33</td>\n",
       "      <td>3</td>\n",
       "      <td>...</td>\n",
       "      <td>0</td>\n",
       "      <td>0</td>\n",
       "      <td>0</td>\n",
       "      <td>0</td>\n",
       "      <td>0</td>\n",
       "      <td>1</td>\n",
       "      <td>0</td>\n",
       "      <td>0</td>\n",
       "      <td>3</td>\n",
       "      <td>1</td>\n",
       "    </tr>\n",
       "    <tr>\n",
       "      <th>101763</th>\n",
       "      <td>41088789</td>\n",
       "      <td>2</td>\n",
       "      <td>1</td>\n",
       "      <td>7</td>\n",
       "      <td>1</td>\n",
       "      <td>0</td>\n",
       "      <td>2</td>\n",
       "      <td>1</td>\n",
       "      <td>53</td>\n",
       "      <td>0</td>\n",
       "      <td>...</td>\n",
       "      <td>0</td>\n",
       "      <td>0</td>\n",
       "      <td>0</td>\n",
       "      <td>0</td>\n",
       "      <td>1</td>\n",
       "      <td>1</td>\n",
       "      <td>0</td>\n",
       "      <td>1</td>\n",
       "      <td>0</td>\n",
       "      <td>2</td>\n",
       "    </tr>\n",
       "    <tr>\n",
       "      <th>101764</th>\n",
       "      <td>31693671</td>\n",
       "      <td>2</td>\n",
       "      <td>0</td>\n",
       "      <td>8</td>\n",
       "      <td>1</td>\n",
       "      <td>1</td>\n",
       "      <td>2</td>\n",
       "      <td>10</td>\n",
       "      <td>45</td>\n",
       "      <td>2</td>\n",
       "      <td>...</td>\n",
       "      <td>0</td>\n",
       "      <td>0</td>\n",
       "      <td>0</td>\n",
       "      <td>0</td>\n",
       "      <td>1</td>\n",
       "      <td>1</td>\n",
       "      <td>0</td>\n",
       "      <td>1</td>\n",
       "      <td>5</td>\n",
       "      <td>3</td>\n",
       "    </tr>\n",
       "    <tr>\n",
       "      <th>101765</th>\n",
       "      <td>175429310</td>\n",
       "      <td>2</td>\n",
       "      <td>1</td>\n",
       "      <td>7</td>\n",
       "      <td>1</td>\n",
       "      <td>0</td>\n",
       "      <td>2</td>\n",
       "      <td>6</td>\n",
       "      <td>13</td>\n",
       "      <td>3</td>\n",
       "      <td>...</td>\n",
       "      <td>0</td>\n",
       "      <td>0</td>\n",
       "      <td>0</td>\n",
       "      <td>0</td>\n",
       "      <td>0</td>\n",
       "      <td>0</td>\n",
       "      <td>0</td>\n",
       "      <td>0</td>\n",
       "      <td>3</td>\n",
       "      <td>0</td>\n",
       "    </tr>\n",
       "  </tbody>\n",
       "</table>\n",
       "<p>96446 rows × 44 columns</p>\n",
       "</div>\n",
       "      <button class=\"colab-df-convert\" onclick=\"convertToInteractive('df-9465e0c8-8623-4949-95ef-c103f1b0e466')\"\n",
       "              title=\"Convert this dataframe to an interactive table.\"\n",
       "              style=\"display:none;\">\n",
       "        \n",
       "  <svg xmlns=\"http://www.w3.org/2000/svg\" height=\"24px\"viewBox=\"0 0 24 24\"\n",
       "       width=\"24px\">\n",
       "    <path d=\"M0 0h24v24H0V0z\" fill=\"none\"/>\n",
       "    <path d=\"M18.56 5.44l.94 2.06.94-2.06 2.06-.94-2.06-.94-.94-2.06-.94 2.06-2.06.94zm-11 1L8.5 8.5l.94-2.06 2.06-.94-2.06-.94L8.5 2.5l-.94 2.06-2.06.94zm10 10l.94 2.06.94-2.06 2.06-.94-2.06-.94-.94-2.06-.94 2.06-2.06.94z\"/><path d=\"M17.41 7.96l-1.37-1.37c-.4-.4-.92-.59-1.43-.59-.52 0-1.04.2-1.43.59L10.3 9.45l-7.72 7.72c-.78.78-.78 2.05 0 2.83L4 21.41c.39.39.9.59 1.41.59.51 0 1.02-.2 1.41-.59l7.78-7.78 2.81-2.81c.8-.78.8-2.07 0-2.86zM5.41 20L4 18.59l7.72-7.72 1.47 1.35L5.41 20z\"/>\n",
       "  </svg>\n",
       "      </button>\n",
       "      \n",
       "  <style>\n",
       "    .colab-df-container {\n",
       "      display:flex;\n",
       "      flex-wrap:wrap;\n",
       "      gap: 12px;\n",
       "    }\n",
       "\n",
       "    .colab-df-convert {\n",
       "      background-color: #E8F0FE;\n",
       "      border: none;\n",
       "      border-radius: 50%;\n",
       "      cursor: pointer;\n",
       "      display: none;\n",
       "      fill: #1967D2;\n",
       "      height: 32px;\n",
       "      padding: 0 0 0 0;\n",
       "      width: 32px;\n",
       "    }\n",
       "\n",
       "    .colab-df-convert:hover {\n",
       "      background-color: #E2EBFA;\n",
       "      box-shadow: 0px 1px 2px rgba(60, 64, 67, 0.3), 0px 1px 3px 1px rgba(60, 64, 67, 0.15);\n",
       "      fill: #174EA6;\n",
       "    }\n",
       "\n",
       "    [theme=dark] .colab-df-convert {\n",
       "      background-color: #3B4455;\n",
       "      fill: #D2E3FC;\n",
       "    }\n",
       "\n",
       "    [theme=dark] .colab-df-convert:hover {\n",
       "      background-color: #434B5C;\n",
       "      box-shadow: 0px 1px 3px 1px rgba(0, 0, 0, 0.15);\n",
       "      filter: drop-shadow(0px 1px 2px rgba(0, 0, 0, 0.3));\n",
       "      fill: #FFFFFF;\n",
       "    }\n",
       "  </style>\n",
       "\n",
       "      <script>\n",
       "        const buttonEl =\n",
       "          document.querySelector('#df-9465e0c8-8623-4949-95ef-c103f1b0e466 button.colab-df-convert');\n",
       "        buttonEl.style.display =\n",
       "          google.colab.kernel.accessAllowed ? 'block' : 'none';\n",
       "\n",
       "        async function convertToInteractive(key) {\n",
       "          const element = document.querySelector('#df-9465e0c8-8623-4949-95ef-c103f1b0e466');\n",
       "          const dataTable =\n",
       "            await google.colab.kernel.invokeFunction('convertToInteractive',\n",
       "                                                     [key], {});\n",
       "          if (!dataTable) return;\n",
       "\n",
       "          const docLinkHtml = 'Like what you see? Visit the ' +\n",
       "            '<a target=\"_blank\" href=https://colab.research.google.com/notebooks/data_table.ipynb>data table notebook</a>'\n",
       "            + ' to learn more about interactive tables.';\n",
       "          element.innerHTML = '';\n",
       "          dataTable['output_type'] = 'display_data';\n",
       "          await google.colab.output.renderOutput(dataTable, element);\n",
       "          const docLink = document.createElement('div');\n",
       "          docLink.innerHTML = docLinkHtml;\n",
       "          element.appendChild(docLink);\n",
       "        }\n",
       "      </script>\n",
       "    </div>\n",
       "  </div>\n",
       "  "
      ],
      "text/plain": [
       "        patient_nbr  race  gender  age admission_type_id  \\\n",
       "1          55629189     2       0    1                 1   \n",
       "2          86047875     0       0    2                 1   \n",
       "3          82442376     2       1    3                 1   \n",
       "4          42519267     2       1    4                 1   \n",
       "5          82637451     2       1    5                 1   \n",
       "...             ...   ...     ...  ...               ...   \n",
       "101761    100162476     0       1    7                 1   \n",
       "101762     74694222     0       0    8                 1   \n",
       "101763     41088789     2       1    7                 1   \n",
       "101764     31693671     2       0    8                 1   \n",
       "101765    175429310     2       1    7                 1   \n",
       "\n",
       "        discharge_disposition_id  admission_source_id  time_in_hospital  \\\n",
       "1                              0                    2                 3   \n",
       "2                              0                    2                 2   \n",
       "3                              0                    2                 2   \n",
       "4                              0                    2                 1   \n",
       "5                              0                    0                 3   \n",
       "...                          ...                  ...               ...   \n",
       "101761                         1                    2                 3   \n",
       "101762                         1                    1                 5   \n",
       "101763                         0                    2                 1   \n",
       "101764                         1                    2                10   \n",
       "101765                         0                    2                 6   \n",
       "\n",
       "        num_lab_procedures  num_procedures  ...  glipizide-metformin  \\\n",
       "1                       59               0  ...                    0   \n",
       "2                       11               5  ...                    0   \n",
       "3                       44               1  ...                    0   \n",
       "4                       51               0  ...                    0   \n",
       "5                       31               6  ...                    0   \n",
       "...                    ...             ...  ...                  ...   \n",
       "101761                  51               0  ...                    0   \n",
       "101762                  33               3  ...                    0   \n",
       "101763                  53               0  ...                    0   \n",
       "101764                  45               2  ...                    0   \n",
       "101765                  13               3  ...                    0   \n",
       "\n",
       "        glimepiride-pioglitazone  metformin-rosiglitazone  \\\n",
       "1                              0                        0   \n",
       "2                              0                        0   \n",
       "3                              0                        0   \n",
       "4                              0                        0   \n",
       "5                              0                        0   \n",
       "...                          ...                      ...   \n",
       "101761                         0                        0   \n",
       "101762                         0                        0   \n",
       "101763                         0                        0   \n",
       "101764                         0                        0   \n",
       "101765                         0                        0   \n",
       "\n",
       "        metformin-pioglitazone  change  diabetesMed  readmitted  numchange  \\\n",
       "1                            0       1            1           0          1   \n",
       "2                            0       0            1           0          0   \n",
       "3                            0       1            1           0          1   \n",
       "4                            0       1            1           0          0   \n",
       "5                            0       0            1           0          0   \n",
       "...                        ...     ...          ...         ...        ...   \n",
       "101761                       0       1            1           0          1   \n",
       "101762                       0       0            1           0          0   \n",
       "101763                       0       1            1           0          1   \n",
       "101764                       0       1            1           0          1   \n",
       "101765                       0       0            0           0          0   \n",
       "\n",
       "        level1_diag1  cnt_med  \n",
       "1                  0        1  \n",
       "2                  0        1  \n",
       "3                  0        1  \n",
       "4                  8        2  \n",
       "5                  1        1  \n",
       "...              ...      ...  \n",
       "101761             4        2  \n",
       "101762             3        1  \n",
       "101763             0        2  \n",
       "101764             5        3  \n",
       "101765             3        0  \n",
       "\n",
       "[96446 rows x 44 columns]"
      ]
     },
     "execution_count": 29,
     "metadata": {},
     "output_type": "execute_result"
    }
   ],
   "source": [
    "# Encoding Categorical Variables\n",
    "le = preprocessing.LabelEncoder()\n",
    "readmit_df['race'] = le.fit_transform(readmit_df['race'])\n",
    "readmit_df['gender'] = le.fit_transform(readmit_df['gender'])\n",
    "readmit_df['age'] = le.fit_transform(readmit_df['age'])\n",
    "readmit_df['admission_source_id'] = le.fit_transform(readmit_df['admission_source_id'])\n",
    "readmit_df['discharge_disposition_id'] = le.fit_transform(readmit_df['discharge_disposition_id'])\n",
    "readmit_df['level1_diag1'] = le.fit_transform(readmit_df['level1_diag1'])\n",
    "readmit_df['max_glu_serum'] = le.fit_transform(readmit_df['max_glu_serum'])\n",
    "\n",
    "readmit_df\n",
    "\n",
    "\n"
   ]
  },
  {
   "cell_type": "code",
   "execution_count": null,
   "id": "bZwF-31X3adL",
   "metadata": {
    "colab": {
     "base_uri": "https://localhost:8080/",
     "height": 505
    },
    "id": "bZwF-31X3adL",
    "outputId": "7afbded1-a28a-4c86-f19a-1c10fdf5af4a"
   },
   "outputs": [
    {
     "data": {
      "text/html": [
       "\n",
       "  <div id=\"df-9e2806c3-0306-4ab1-b218-0c2a69bd93e8\">\n",
       "    <div class=\"colab-df-container\">\n",
       "      <div>\n",
       "<style scoped>\n",
       "    .dataframe tbody tr th:only-of-type {\n",
       "        vertical-align: middle;\n",
       "    }\n",
       "\n",
       "    .dataframe tbody tr th {\n",
       "        vertical-align: top;\n",
       "    }\n",
       "\n",
       "    .dataframe thead th {\n",
       "        text-align: right;\n",
       "    }\n",
       "</style>\n",
       "<table border=\"1\" class=\"dataframe\">\n",
       "  <thead>\n",
       "    <tr style=\"text-align: right;\">\n",
       "      <th></th>\n",
       "      <th>patient_nbr</th>\n",
       "      <th>race</th>\n",
       "      <th>gender</th>\n",
       "      <th>age</th>\n",
       "      <th>admission_type_id</th>\n",
       "      <th>discharge_disposition_id</th>\n",
       "      <th>admission_source_id</th>\n",
       "      <th>time_in_hospital</th>\n",
       "      <th>num_lab_procedures</th>\n",
       "      <th>num_procedures</th>\n",
       "      <th>...</th>\n",
       "      <th>glipizide-metformin</th>\n",
       "      <th>glimepiride-pioglitazone</th>\n",
       "      <th>metformin-rosiglitazone</th>\n",
       "      <th>metformin-pioglitazone</th>\n",
       "      <th>change</th>\n",
       "      <th>diabetesMed</th>\n",
       "      <th>readmitted</th>\n",
       "      <th>numchange</th>\n",
       "      <th>level1_diag1</th>\n",
       "      <th>cnt_med</th>\n",
       "    </tr>\n",
       "  </thead>\n",
       "  <tbody>\n",
       "    <tr>\n",
       "      <th>1</th>\n",
       "      <td>55629189</td>\n",
       "      <td>2</td>\n",
       "      <td>0</td>\n",
       "      <td>1</td>\n",
       "      <td>0</td>\n",
       "      <td>0</td>\n",
       "      <td>2</td>\n",
       "      <td>3</td>\n",
       "      <td>59</td>\n",
       "      <td>0</td>\n",
       "      <td>...</td>\n",
       "      <td>0</td>\n",
       "      <td>0</td>\n",
       "      <td>0</td>\n",
       "      <td>0</td>\n",
       "      <td>1</td>\n",
       "      <td>1</td>\n",
       "      <td>0</td>\n",
       "      <td>1</td>\n",
       "      <td>0</td>\n",
       "      <td>1</td>\n",
       "    </tr>\n",
       "    <tr>\n",
       "      <th>2</th>\n",
       "      <td>86047875</td>\n",
       "      <td>0</td>\n",
       "      <td>0</td>\n",
       "      <td>2</td>\n",
       "      <td>0</td>\n",
       "      <td>0</td>\n",
       "      <td>2</td>\n",
       "      <td>2</td>\n",
       "      <td>11</td>\n",
       "      <td>5</td>\n",
       "      <td>...</td>\n",
       "      <td>0</td>\n",
       "      <td>0</td>\n",
       "      <td>0</td>\n",
       "      <td>0</td>\n",
       "      <td>0</td>\n",
       "      <td>1</td>\n",
       "      <td>0</td>\n",
       "      <td>0</td>\n",
       "      <td>0</td>\n",
       "      <td>1</td>\n",
       "    </tr>\n",
       "    <tr>\n",
       "      <th>3</th>\n",
       "      <td>82442376</td>\n",
       "      <td>2</td>\n",
       "      <td>1</td>\n",
       "      <td>3</td>\n",
       "      <td>0</td>\n",
       "      <td>0</td>\n",
       "      <td>2</td>\n",
       "      <td>2</td>\n",
       "      <td>44</td>\n",
       "      <td>1</td>\n",
       "      <td>...</td>\n",
       "      <td>0</td>\n",
       "      <td>0</td>\n",
       "      <td>0</td>\n",
       "      <td>0</td>\n",
       "      <td>1</td>\n",
       "      <td>1</td>\n",
       "      <td>0</td>\n",
       "      <td>1</td>\n",
       "      <td>0</td>\n",
       "      <td>1</td>\n",
       "    </tr>\n",
       "    <tr>\n",
       "      <th>4</th>\n",
       "      <td>42519267</td>\n",
       "      <td>2</td>\n",
       "      <td>1</td>\n",
       "      <td>4</td>\n",
       "      <td>0</td>\n",
       "      <td>0</td>\n",
       "      <td>2</td>\n",
       "      <td>1</td>\n",
       "      <td>51</td>\n",
       "      <td>0</td>\n",
       "      <td>...</td>\n",
       "      <td>0</td>\n",
       "      <td>0</td>\n",
       "      <td>0</td>\n",
       "      <td>0</td>\n",
       "      <td>1</td>\n",
       "      <td>1</td>\n",
       "      <td>0</td>\n",
       "      <td>0</td>\n",
       "      <td>8</td>\n",
       "      <td>2</td>\n",
       "    </tr>\n",
       "    <tr>\n",
       "      <th>5</th>\n",
       "      <td>82637451</td>\n",
       "      <td>2</td>\n",
       "      <td>1</td>\n",
       "      <td>5</td>\n",
       "      <td>0</td>\n",
       "      <td>0</td>\n",
       "      <td>0</td>\n",
       "      <td>3</td>\n",
       "      <td>31</td>\n",
       "      <td>6</td>\n",
       "      <td>...</td>\n",
       "      <td>0</td>\n",
       "      <td>0</td>\n",
       "      <td>0</td>\n",
       "      <td>0</td>\n",
       "      <td>0</td>\n",
       "      <td>1</td>\n",
       "      <td>0</td>\n",
       "      <td>0</td>\n",
       "      <td>1</td>\n",
       "      <td>1</td>\n",
       "    </tr>\n",
       "    <tr>\n",
       "      <th>...</th>\n",
       "      <td>...</td>\n",
       "      <td>...</td>\n",
       "      <td>...</td>\n",
       "      <td>...</td>\n",
       "      <td>...</td>\n",
       "      <td>...</td>\n",
       "      <td>...</td>\n",
       "      <td>...</td>\n",
       "      <td>...</td>\n",
       "      <td>...</td>\n",
       "      <td>...</td>\n",
       "      <td>...</td>\n",
       "      <td>...</td>\n",
       "      <td>...</td>\n",
       "      <td>...</td>\n",
       "      <td>...</td>\n",
       "      <td>...</td>\n",
       "      <td>...</td>\n",
       "      <td>...</td>\n",
       "      <td>...</td>\n",
       "      <td>...</td>\n",
       "    </tr>\n",
       "    <tr>\n",
       "      <th>101761</th>\n",
       "      <td>100162476</td>\n",
       "      <td>0</td>\n",
       "      <td>1</td>\n",
       "      <td>7</td>\n",
       "      <td>0</td>\n",
       "      <td>1</td>\n",
       "      <td>2</td>\n",
       "      <td>3</td>\n",
       "      <td>51</td>\n",
       "      <td>0</td>\n",
       "      <td>...</td>\n",
       "      <td>0</td>\n",
       "      <td>0</td>\n",
       "      <td>0</td>\n",
       "      <td>0</td>\n",
       "      <td>1</td>\n",
       "      <td>1</td>\n",
       "      <td>0</td>\n",
       "      <td>1</td>\n",
       "      <td>4</td>\n",
       "      <td>2</td>\n",
       "    </tr>\n",
       "    <tr>\n",
       "      <th>101762</th>\n",
       "      <td>74694222</td>\n",
       "      <td>0</td>\n",
       "      <td>0</td>\n",
       "      <td>8</td>\n",
       "      <td>0</td>\n",
       "      <td>1</td>\n",
       "      <td>1</td>\n",
       "      <td>5</td>\n",
       "      <td>33</td>\n",
       "      <td>3</td>\n",
       "      <td>...</td>\n",
       "      <td>0</td>\n",
       "      <td>0</td>\n",
       "      <td>0</td>\n",
       "      <td>0</td>\n",
       "      <td>0</td>\n",
       "      <td>1</td>\n",
       "      <td>0</td>\n",
       "      <td>0</td>\n",
       "      <td>3</td>\n",
       "      <td>1</td>\n",
       "    </tr>\n",
       "    <tr>\n",
       "      <th>101763</th>\n",
       "      <td>41088789</td>\n",
       "      <td>2</td>\n",
       "      <td>1</td>\n",
       "      <td>7</td>\n",
       "      <td>0</td>\n",
       "      <td>0</td>\n",
       "      <td>2</td>\n",
       "      <td>1</td>\n",
       "      <td>53</td>\n",
       "      <td>0</td>\n",
       "      <td>...</td>\n",
       "      <td>0</td>\n",
       "      <td>0</td>\n",
       "      <td>0</td>\n",
       "      <td>0</td>\n",
       "      <td>1</td>\n",
       "      <td>1</td>\n",
       "      <td>0</td>\n",
       "      <td>1</td>\n",
       "      <td>0</td>\n",
       "      <td>2</td>\n",
       "    </tr>\n",
       "    <tr>\n",
       "      <th>101764</th>\n",
       "      <td>31693671</td>\n",
       "      <td>2</td>\n",
       "      <td>0</td>\n",
       "      <td>8</td>\n",
       "      <td>0</td>\n",
       "      <td>1</td>\n",
       "      <td>2</td>\n",
       "      <td>10</td>\n",
       "      <td>45</td>\n",
       "      <td>2</td>\n",
       "      <td>...</td>\n",
       "      <td>0</td>\n",
       "      <td>0</td>\n",
       "      <td>0</td>\n",
       "      <td>0</td>\n",
       "      <td>1</td>\n",
       "      <td>1</td>\n",
       "      <td>0</td>\n",
       "      <td>1</td>\n",
       "      <td>5</td>\n",
       "      <td>3</td>\n",
       "    </tr>\n",
       "    <tr>\n",
       "      <th>101765</th>\n",
       "      <td>175429310</td>\n",
       "      <td>2</td>\n",
       "      <td>1</td>\n",
       "      <td>7</td>\n",
       "      <td>0</td>\n",
       "      <td>0</td>\n",
       "      <td>2</td>\n",
       "      <td>6</td>\n",
       "      <td>13</td>\n",
       "      <td>3</td>\n",
       "      <td>...</td>\n",
       "      <td>0</td>\n",
       "      <td>0</td>\n",
       "      <td>0</td>\n",
       "      <td>0</td>\n",
       "      <td>0</td>\n",
       "      <td>0</td>\n",
       "      <td>0</td>\n",
       "      <td>0</td>\n",
       "      <td>3</td>\n",
       "      <td>0</td>\n",
       "    </tr>\n",
       "  </tbody>\n",
       "</table>\n",
       "<p>96446 rows × 44 columns</p>\n",
       "</div>\n",
       "      <button class=\"colab-df-convert\" onclick=\"convertToInteractive('df-9e2806c3-0306-4ab1-b218-0c2a69bd93e8')\"\n",
       "              title=\"Convert this dataframe to an interactive table.\"\n",
       "              style=\"display:none;\">\n",
       "        \n",
       "  <svg xmlns=\"http://www.w3.org/2000/svg\" height=\"24px\"viewBox=\"0 0 24 24\"\n",
       "       width=\"24px\">\n",
       "    <path d=\"M0 0h24v24H0V0z\" fill=\"none\"/>\n",
       "    <path d=\"M18.56 5.44l.94 2.06.94-2.06 2.06-.94-2.06-.94-.94-2.06-.94 2.06-2.06.94zm-11 1L8.5 8.5l.94-2.06 2.06-.94-2.06-.94L8.5 2.5l-.94 2.06-2.06.94zm10 10l.94 2.06.94-2.06 2.06-.94-2.06-.94-.94-2.06-.94 2.06-2.06.94z\"/><path d=\"M17.41 7.96l-1.37-1.37c-.4-.4-.92-.59-1.43-.59-.52 0-1.04.2-1.43.59L10.3 9.45l-7.72 7.72c-.78.78-.78 2.05 0 2.83L4 21.41c.39.39.9.59 1.41.59.51 0 1.02-.2 1.41-.59l7.78-7.78 2.81-2.81c.8-.78.8-2.07 0-2.86zM5.41 20L4 18.59l7.72-7.72 1.47 1.35L5.41 20z\"/>\n",
       "  </svg>\n",
       "      </button>\n",
       "      \n",
       "  <style>\n",
       "    .colab-df-container {\n",
       "      display:flex;\n",
       "      flex-wrap:wrap;\n",
       "      gap: 12px;\n",
       "    }\n",
       "\n",
       "    .colab-df-convert {\n",
       "      background-color: #E8F0FE;\n",
       "      border: none;\n",
       "      border-radius: 50%;\n",
       "      cursor: pointer;\n",
       "      display: none;\n",
       "      fill: #1967D2;\n",
       "      height: 32px;\n",
       "      padding: 0 0 0 0;\n",
       "      width: 32px;\n",
       "    }\n",
       "\n",
       "    .colab-df-convert:hover {\n",
       "      background-color: #E2EBFA;\n",
       "      box-shadow: 0px 1px 2px rgba(60, 64, 67, 0.3), 0px 1px 3px 1px rgba(60, 64, 67, 0.15);\n",
       "      fill: #174EA6;\n",
       "    }\n",
       "\n",
       "    [theme=dark] .colab-df-convert {\n",
       "      background-color: #3B4455;\n",
       "      fill: #D2E3FC;\n",
       "    }\n",
       "\n",
       "    [theme=dark] .colab-df-convert:hover {\n",
       "      background-color: #434B5C;\n",
       "      box-shadow: 0px 1px 3px 1px rgba(0, 0, 0, 0.15);\n",
       "      filter: drop-shadow(0px 1px 2px rgba(0, 0, 0, 0.3));\n",
       "      fill: #FFFFFF;\n",
       "    }\n",
       "  </style>\n",
       "\n",
       "      <script>\n",
       "        const buttonEl =\n",
       "          document.querySelector('#df-9e2806c3-0306-4ab1-b218-0c2a69bd93e8 button.colab-df-convert');\n",
       "        buttonEl.style.display =\n",
       "          google.colab.kernel.accessAllowed ? 'block' : 'none';\n",
       "\n",
       "        async function convertToInteractive(key) {\n",
       "          const element = document.querySelector('#df-9e2806c3-0306-4ab1-b218-0c2a69bd93e8');\n",
       "          const dataTable =\n",
       "            await google.colab.kernel.invokeFunction('convertToInteractive',\n",
       "                                                     [key], {});\n",
       "          if (!dataTable) return;\n",
       "\n",
       "          const docLinkHtml = 'Like what you see? Visit the ' +\n",
       "            '<a target=\"_blank\" href=https://colab.research.google.com/notebooks/data_table.ipynb>data table notebook</a>'\n",
       "            + ' to learn more about interactive tables.';\n",
       "          element.innerHTML = '';\n",
       "          dataTable['output_type'] = 'display_data';\n",
       "          await google.colab.output.renderOutput(dataTable, element);\n",
       "          const docLink = document.createElement('div');\n",
       "          docLink.innerHTML = docLinkHtml;\n",
       "          element.appendChild(docLink);\n",
       "        }\n",
       "      </script>\n",
       "    </div>\n",
       "  </div>\n",
       "  "
      ],
      "text/plain": [
       "        patient_nbr  race  gender  age  admission_type_id  \\\n",
       "1          55629189     2       0    1                  0   \n",
       "2          86047875     0       0    2                  0   \n",
       "3          82442376     2       1    3                  0   \n",
       "4          42519267     2       1    4                  0   \n",
       "5          82637451     2       1    5                  0   \n",
       "...             ...   ...     ...  ...                ...   \n",
       "101761    100162476     0       1    7                  0   \n",
       "101762     74694222     0       0    8                  0   \n",
       "101763     41088789     2       1    7                  0   \n",
       "101764     31693671     2       0    8                  0   \n",
       "101765    175429310     2       1    7                  0   \n",
       "\n",
       "        discharge_disposition_id  admission_source_id  time_in_hospital  \\\n",
       "1                              0                    2                 3   \n",
       "2                              0                    2                 2   \n",
       "3                              0                    2                 2   \n",
       "4                              0                    2                 1   \n",
       "5                              0                    0                 3   \n",
       "...                          ...                  ...               ...   \n",
       "101761                         1                    2                 3   \n",
       "101762                         1                    1                 5   \n",
       "101763                         0                    2                 1   \n",
       "101764                         1                    2                10   \n",
       "101765                         0                    2                 6   \n",
       "\n",
       "        num_lab_procedures  num_procedures  ...  glipizide-metformin  \\\n",
       "1                       59               0  ...                    0   \n",
       "2                       11               5  ...                    0   \n",
       "3                       44               1  ...                    0   \n",
       "4                       51               0  ...                    0   \n",
       "5                       31               6  ...                    0   \n",
       "...                    ...             ...  ...                  ...   \n",
       "101761                  51               0  ...                    0   \n",
       "101762                  33               3  ...                    0   \n",
       "101763                  53               0  ...                    0   \n",
       "101764                  45               2  ...                    0   \n",
       "101765                  13               3  ...                    0   \n",
       "\n",
       "        glimepiride-pioglitazone  metformin-rosiglitazone  \\\n",
       "1                              0                        0   \n",
       "2                              0                        0   \n",
       "3                              0                        0   \n",
       "4                              0                        0   \n",
       "5                              0                        0   \n",
       "...                          ...                      ...   \n",
       "101761                         0                        0   \n",
       "101762                         0                        0   \n",
       "101763                         0                        0   \n",
       "101764                         0                        0   \n",
       "101765                         0                        0   \n",
       "\n",
       "        metformin-pioglitazone  change  diabetesMed  readmitted  numchange  \\\n",
       "1                            0       1            1           0          1   \n",
       "2                            0       0            1           0          0   \n",
       "3                            0       1            1           0          1   \n",
       "4                            0       1            1           0          0   \n",
       "5                            0       0            1           0          0   \n",
       "...                        ...     ...          ...         ...        ...   \n",
       "101761                       0       1            1           0          1   \n",
       "101762                       0       0            1           0          0   \n",
       "101763                       0       1            1           0          1   \n",
       "101764                       0       1            1           0          1   \n",
       "101765                       0       0            0           0          0   \n",
       "\n",
       "        level1_diag1  cnt_med  \n",
       "1                  0        1  \n",
       "2                  0        1  \n",
       "3                  0        1  \n",
       "4                  8        2  \n",
       "5                  1        1  \n",
       "...              ...      ...  \n",
       "101761             4        2  \n",
       "101762             3        1  \n",
       "101763             0        2  \n",
       "101764             5        3  \n",
       "101765             3        0  \n",
       "\n",
       "[96446 rows x 44 columns]"
      ]
     },
     "execution_count": 30,
     "metadata": {},
     "output_type": "execute_result"
    }
   ],
   "source": [
    "# Encoding Categorical Variables\n",
    "le = preprocessing.LabelEncoder()\n",
    "readmit_df['admission_type_id'] = le.fit_transform(readmit_df['admission_type_id'])\n",
    "\n",
    "\n",
    "readmit_df"
   ]
  },
  {
   "cell_type": "markdown",
   "id": "N8nNs3lPjeyJ",
   "metadata": {
    "id": "N8nNs3lPjeyJ"
   },
   "source": [
    "### 4.18 Checking highly correlated columns"
   ]
  },
  {
   "cell_type": "code",
   "execution_count": null,
   "id": "d2a64730-5b58-4046-bbbb-03e90e3d2366",
   "metadata": {
    "colab": {
     "base_uri": "https://localhost:8080/",
     "height": 1000
    },
    "id": "d2a64730-5b58-4046-bbbb-03e90e3d2366",
    "outputId": "51c59014-6855-4a1a-dbf1-0d9b9dcfa4fc"
   },
   "outputs": [
    {
     "data": {
      "image/png": "[encoded data removed]",
      "text/plain": [
       "<Figure size 1944x1800 with 2 Axes>"
      ]
     },
     "metadata": {
      "needs_background": "light"
     },
     "output_type": "display_data"
    }
   ],
   "source": [
    "# Lets findout which columns are highly correlated.\n",
    "\n",
    "plt.figure(figsize=(27,25))\n",
    "ax = sns.heatmap(readmit_df.corr(), square=True, annot=True, fmt='.2f')\n",
    "ax.set_xticklabels(ax.get_xticklabels(), rotation=90)          \n",
    "plt.show()"
   ]
  },
  {
   "cell_type": "markdown",
   "id": "e0dacb2e-af1f-4981-ae37-e8c097879f54",
   "metadata": {
    "id": "e0dacb2e-af1f-4981-ae37-e8c097879f54"
   },
   "source": [
    "Based on the above heat map, we dont see any highly correlated variables so we couldnt remove any variables"
   ]
  },
  {
   "cell_type": "code",
   "execution_count": null,
   "id": "2db15a9f-9bb9-4f21-b606-5c4ae1ae0861",
   "metadata": {
    "colab": {
     "base_uri": "https://localhost:8080/"
    },
    "id": "2db15a9f-9bb9-4f21-b606-5c4ae1ae0861",
    "outputId": "7a83944e-4910-4ab0-c77e-dd9d7c648e2d"
   },
   "outputs": [
    {
     "name": "stdout",
     "output_type": "stream",
     "text": [
      "<class 'pandas.core.frame.DataFrame'>\n",
      "Int64Index: 96446 entries, 1 to 101765\n",
      "Data columns (total 44 columns):\n",
      " #   Column                    Non-Null Count  Dtype\n",
      "---  ------                    --------------  -----\n",
      " 0   patient_nbr               96446 non-null  int64\n",
      " 1   race                      96446 non-null  int64\n",
      " 2   gender                    96446 non-null  int64\n",
      " 3   age                       96446 non-null  int64\n",
      " 4   admission_type_id         96446 non-null  int64\n",
      " 5   discharge_disposition_id  96446 non-null  int64\n",
      " 6   admission_source_id       96446 non-null  int64\n",
      " 7   time_in_hospital          96446 non-null  int64\n",
      " 8   num_lab_procedures        96446 non-null  int64\n",
      " 9   num_procedures            96446 non-null  int64\n",
      " 10  num_medications           96446 non-null  int64\n",
      " 11  number_outpatient         96446 non-null  int64\n",
      " 12  number_emergency          96446 non-null  int64\n",
      " 13  number_inpatient          96446 non-null  int64\n",
      " 14  number_diagnoses          96446 non-null  int64\n",
      " 15  max_glu_serum             96446 non-null  int64\n",
      " 16  A1Cresult                 96446 non-null  int64\n",
      " 17  metformin                 96446 non-null  int64\n",
      " 18  repaglinide               96446 non-null  int64\n",
      " 19  nateglinide               96446 non-null  int64\n",
      " 20  chlorpropamide            96446 non-null  int64\n",
      " 21  glimepiride               96446 non-null  int64\n",
      " 22  acetohexamide             96446 non-null  int64\n",
      " 23  glipizide                 96446 non-null  int64\n",
      " 24  glyburide                 96446 non-null  int64\n",
      " 25  tolbutamide               96446 non-null  int64\n",
      " 26  pioglitazone              96446 non-null  int64\n",
      " 27  rosiglitazone             96446 non-null  int64\n",
      " 28  acarbose                  96446 non-null  int64\n",
      " 29  miglitol                  96446 non-null  int64\n",
      " 30  troglitazone              96446 non-null  int64\n",
      " 31  tolazamide                96446 non-null  int64\n",
      " 32  insulin                   96446 non-null  int64\n",
      " 33  glyburide-metformin       96446 non-null  int64\n",
      " 34  glipizide-metformin       96446 non-null  int64\n",
      " 35  glimepiride-pioglitazone  96446 non-null  int64\n",
      " 36  metformin-rosiglitazone   96446 non-null  int64\n",
      " 37  metformin-pioglitazone    96446 non-null  int64\n",
      " 38  change                    96446 non-null  int64\n",
      " 39  diabetesMed               96446 non-null  int64\n",
      " 40  readmitted                96446 non-null  int64\n",
      " 41  numchange                 96446 non-null  int64\n",
      " 42  level1_diag1              96446 non-null  int64\n",
      " 43  cnt_med                   96446 non-null  int64\n",
      "dtypes: int64(44)\n",
      "memory usage: 35.1 MB\n"
     ]
    }
   ],
   "source": [
    "readmit_df.info()"
   ]
  },
  {
   "cell_type": "markdown",
   "id": "3_9b2TX-jonM",
   "metadata": {
    "id": "3_9b2TX-jonM"
   },
   "source": [
    "### 4.19 Checking Data Imbalance"
   ]
  },
  {
   "cell_type": "code",
   "execution_count": null,
   "id": "24427b82",
   "metadata": {
    "colab": {
     "base_uri": "https://localhost:8080/",
     "height": 351
    },
    "id": "24427b82",
    "outputId": "111551b1-e187-48fa-9323-94abdc1cf35a"
   },
   "outputs": [
    {
     "data": {
      "text/plain": [
       "<matplotlib.axes._subplots.AxesSubplot at 0x7f4637653e10>"
      ]
     },
     "execution_count": 32,
     "metadata": {},
     "output_type": "execute_result"
    },
    {
     "data": {
      "image/png": "[encoded data removed]",
      "text/plain": [
       "<Figure size 360x360 with 1 Axes>"
      ]
     },
     "metadata": {
      "needs_background": "light"
     },
     "output_type": "display_data"
    }
   ],
   "source": [
    "# Checking Data Imbalance in Target Variable\n",
    "plt.figure(figsize=(5,5))\n",
    "sns.countplot(data=readmit_df,x='readmitted')"
   ]
  },
  {
   "cell_type": "markdown",
   "id": "dead9111-1950-4a45-8ca2-d78319a84c62",
   "metadata": {
    "id": "dead9111-1950-4a45-8ca2-d78319a84c62"
   },
   "source": [
    "From the above figure we can conclude that data is highly imbalanced and we need to handle it."
   ]
  },
  {
   "cell_type": "markdown",
   "id": "a95b1848-bb4a-4c42-bca9-29803d3a9caf",
   "metadata": {
    "id": "a95b1848-bb4a-4c42-bca9-29803d3a9caf"
   },
   "source": [
    "## Step 5: Partition data into training and test sets"
   ]
  },
  {
   "cell_type": "code",
   "execution_count": null,
   "id": "3aa36163-1286-47be-becb-65cdfd12377b",
   "metadata": {
    "id": "3aa36163-1286-47be-becb-65cdfd12377b"
   },
   "outputs": [],
   "source": [
    "# Splitting Train Data & Test Data\n",
    "\n",
    "train_df, validation_df = train_test_split(readmit_df, test_size=0.3, random_state=1)"
   ]
  },
  {
   "cell_type": "markdown",
   "id": "adf8af9e-8084-4d22-8eeb-5560b6002f9e",
   "metadata": {
    "id": "adf8af9e-8084-4d22-8eeb-5560b6002f9e"
   },
   "source": [
    "## Step 6: Address any data imbalances and scaling\n",
    "\n",
    "We will utilize an oversampling technique to address data balancing."
   ]
  },
  {
   "cell_type": "code",
   "execution_count": null,
   "id": "e57ee10d-b7f6-486d-b672-0ea816351038",
   "metadata": {
    "colab": {
     "base_uri": "https://localhost:8080/"
    },
    "id": "e57ee10d-b7f6-486d-b672-0ea816351038",
    "outputId": "9a81322b-cd1b-446a-c0e7-4dcec584c0da"
   },
   "outputs": [
    {
     "name": "stdout",
     "output_type": "stream",
     "text": [
      "59764 7748\n"
     ]
    }
   ],
   "source": [
    "#Checking Counts of Train Data & Test Data\n",
    "no_count, yes_count = train_df.readmitted.value_counts()\n",
    "print(no_count, yes_count)"
   ]
  },
  {
   "cell_type": "code",
   "execution_count": null,
   "id": "0b3a22b4-b22f-4462-bf88-520bdded1734",
   "metadata": {
    "colab": {
     "base_uri": "https://localhost:8080/"
    },
    "id": "0b3a22b4-b22f-4462-bf88-520bdded1734",
    "outputId": "2ab8a981-e25c-43ab-b2c1-75a869fd5551"
   },
   "outputs": [
    {
     "data": {
      "text/plain": [
       "0    59764\n",
       "1    59764\n",
       "Name: readmitted, dtype: int64"
      ]
     },
     "execution_count": 35,
     "metadata": {},
     "output_type": "execute_result"
    }
   ],
   "source": [
    "#Handling Data Imbalance using Over Sampling\n",
    "readmitted_target_df  = train_df.loc[train_df.readmitted==1]\n",
    "df_oversampled = readmitted_target_df.sample(n=(no_count-yes_count),replace=True)\n",
    "\n",
    "train_df = pd.concat([train_df, df_oversampled], ignore_index=True)\n",
    "train_df.readmitted.value_counts()"
   ]
  },
  {
   "cell_type": "markdown",
   "id": "t2iiKVccsOvT",
   "metadata": {
    "id": "t2iiKVccsOvT"
   },
   "source": [
    "Scaling\n",
    "\n",
    "\n",
    "\n"
   ]
  },
  {
   "cell_type": "code",
   "execution_count": null,
   "id": "2de664ed-0ef3-4928-a917-081c61078743",
   "metadata": {
    "id": "2de664ed-0ef3-4928-a917-081c61078743"
   },
   "outputs": [],
   "source": [
    "#Scaling \n",
    "target = 'readmitted'\n",
    "predictors = list(readmit_df.columns)\n",
    "predictors.remove(target)\n",
    "\n",
    "# create a standard scaler and fit it to the training set of predictors\n",
    "scaler = preprocessing.StandardScaler()\n",
    "scaler.fit(readmit_df[predictors])\n",
    "\n",
    "# Transform the predictors of training and validation sets\n",
    "train_predictors = scaler.transform(train_df[predictors]) # train_predictors is not a numpy array\n",
    "train_target = train_df[target] # train_target is now a series object\n",
    "\n",
    "validation_predictors = scaler.transform(validation_df[predictors]) # validation_target is now a series object\n",
    "validation_target = validation_df[target] # validation_target is now a series object"
   ]
  },
  {
   "cell_type": "markdown",
   "id": "9d2307f3-45b1-4189-b467-17927b33e12c",
   "metadata": {},
   "source": [
    "## 6.1 Best Metric\n",
    "In our case, below are our equations for False Negatives and False Positives. \n",
    "FN: Patient Readmitted but model predicted as not readmitted (More Damage)\n",
    "FP: Patient didn’t readmit but predicted as readmitted (Less damage)\n",
    "Here after thorough brainstorming, we could see that FN has more weightage, we will consider Recall as our metric and will evaluate models based on that.\n"
   ]
  },
  {
   "cell_type": "markdown",
   "id": "910a2b3c-b9f3-45bf-8f98-6fc8f3dead25",
   "metadata": {
    "id": "910a2b3c-b9f3-45bf-8f98-6fc8f3dead25"
   },
   "source": [
    "## Step 7: Train our models"
   ]
  },
  {
   "cell_type": "markdown",
   "id": "2ba9e957-155c-4e44-866a-bd8e644d9bd5",
   "metadata": {
    "id": "2ba9e957-155c-4e44-866a-bd8e644d9bd5"
   },
   "source": [
    "## 7.1 Logistic regression model"
   ]
  },
  {
   "cell_type": "code",
   "execution_count": null,
   "id": "4d382d78-5592-4aa6-bda3-da6b76ee2a24",
   "metadata": {
    "colab": {
     "base_uri": "https://localhost:8080/"
    },
    "id": "4d382d78-5592-4aa6-bda3-da6b76ee2a24",
    "outputId": "c11be058-8d8d-47ab-ce7e-b2bd5c2fc1db"
   },
   "outputs": [
    {
     "data": {
      "text/plain": [
       "LogisticRegression(random_state=0)"
      ]
     },
     "execution_count": 109,
     "metadata": {},
     "output_type": "execute_result"
    }
   ],
   "source": [
    "# train a logistic regression model on the training set\n",
    "from sklearn.linear_model import LogisticRegression\n",
    "\n",
    "# instantiate the model\n",
    "logreg = LogisticRegression( random_state=0)\n",
    "\n",
    "# fit the model\n",
    "logreg.fit(train_predictors, train_target)"
   ]
  },
  {
   "cell_type": "markdown",
   "id": "9e10ed7d-36a4-41ae-85e9-57d368ecea98",
   "metadata": {
    "id": "9e10ed7d-36a4-41ae-85e9-57d368ecea98"
   },
   "source": [
    "### 7.1.1 Measure performance of model on validation data"
   ]
  },
  {
   "cell_type": "code",
   "execution_count": null,
   "id": "9beea66a-40d9-49c9-9393-912afb9f2d3e",
   "metadata": {
    "colab": {
     "base_uri": "https://localhost:8080/"
    },
    "id": "9beea66a-40d9-49c9-9393-912afb9f2d3e",
    "outputId": "b3711040-e2e9-44b6-b158-058498ff7afd"
   },
   "outputs": [
    {
     "data": {
      "text/plain": [
       "array([1, 1, 0, ..., 0, 1, 0])"
      ]
     },
     "execution_count": 110,
     "metadata": {},
     "output_type": "execute_result"
    }
   ],
   "source": [
    "y_pred_test = logreg.predict(validation_predictors)\n",
    "\n",
    "y_pred_test"
   ]
  },
  {
   "cell_type": "markdown",
   "id": "653c6570-52fa-48af-b3dc-e1a1b478df6b",
   "metadata": {
    "id": "653c6570-52fa-48af-b3dc-e1a1b478df6b"
   },
   "source": [
    "### 7.1.2 Using predict_proba method\n",
    "predict_proba method gives the probabilities for the target variable(0 and 1). \n",
    "0 is for probability of no readmission and 1 is for probability of readmission."
   ]
  },
  {
   "cell_type": "code",
   "execution_count": null,
   "id": "a31b6a2c-38f7-4c01-be9c-dea1c0cf2697",
   "metadata": {
    "colab": {
     "base_uri": "https://localhost:8080/"
    },
    "id": "a31b6a2c-38f7-4c01-be9c-dea1c0cf2697",
    "outputId": "8307eede-d467-46ff-adf7-b80dd4602f0c"
   },
   "outputs": [
    {
     "data": {
      "text/plain": [
       "array([0.37785432, 0.26827575, 0.65012832, ..., 0.5417669 , 0.39892133,\n",
       "       0.57176442])"
      ]
     },
     "execution_count": 111,
     "metadata": {},
     "output_type": "execute_result"
    }
   ],
   "source": [
    "# probability of getting output as 0 (no readmission)\n",
    "\n",
    "logreg.predict_proba(validation_predictors)[:,0]"
   ]
  },
  {
   "cell_type": "code",
   "execution_count": null,
   "id": "233a7794-32ae-4862-9f95-82319ed1cc89",
   "metadata": {
    "colab": {
     "base_uri": "https://localhost:8080/"
    },
    "id": "233a7794-32ae-4862-9f95-82319ed1cc89",
    "outputId": "45676f34-825a-4a7c-d2a8-4a5c37c4d151"
   },
   "outputs": [
    {
     "data": {
      "text/plain": [
       "array([0.62214568, 0.73172425, 0.34987168, ..., 0.4582331 , 0.60107867,\n",
       "       0.42823558])"
      ]
     },
     "execution_count": 112,
     "metadata": {},
     "output_type": "execute_result"
    }
   ],
   "source": [
    "# probability of getting output as 1 (readmission)\n",
    "\n",
    "logreg.predict_proba(validation_predictors)[:,1]"
   ]
  },
  {
   "cell_type": "markdown",
   "id": "1a2705c3-25d7-45e9-8edf-37bb160e6ee7",
   "metadata": {
    "id": "1a2705c3-25d7-45e9-8edf-37bb160e6ee7"
   },
   "source": [
    "### 7.1.3 Accuracy score on train set"
   ]
  },
  {
   "cell_type": "code",
   "execution_count": null,
   "id": "6d6118f0-4a22-4681-a40d-f2df79945f33",
   "metadata": {
    "colab": {
     "base_uri": "https://localhost:8080/"
    },
    "id": "6d6118f0-4a22-4681-a40d-f2df79945f33",
    "outputId": "78848959-c51c-4943-a822-6c047f7dcfa8",
    "tags": []
   },
   "outputs": [
    {
     "data": {
      "text/plain": [
       "array([0, 1, 0, ..., 0, 0, 0])"
      ]
     },
     "execution_count": 113,
     "metadata": {},
     "output_type": "execute_result"
    }
   ],
   "source": [
    "y_pred_train = logreg.predict(train_predictors)\n",
    "\n",
    "y_pred_train"
   ]
  },
  {
   "cell_type": "code",
   "execution_count": null,
   "id": "10651854-cb8d-49a2-97f5-94cd17d5618c",
   "metadata": {
    "colab": {
     "base_uri": "https://localhost:8080/"
    },
    "id": "10651854-cb8d-49a2-97f5-94cd17d5618c",
    "outputId": "08b76c8c-8e95-4aa6-e512-c2f9e938c00f"
   },
   "outputs": [
    {
     "name": "stdout",
     "output_type": "stream",
     "text": [
      "Model Accuracy score on Training set: 0.6014\n"
     ]
    }
   ],
   "source": [
    "print('Model Accuracy score on Training set: {0:0.4f}'. format(accuracy_score(train_target, y_pred_train)))"
   ]
  },
  {
   "cell_type": "markdown",
   "id": "82b01600-85cd-45ee-80e9-834386f9f07b",
   "metadata": {
    "id": "82b01600-85cd-45ee-80e9-834386f9f07b"
   },
   "source": [
    "### 7.1.4 Accuracy score on test data"
   ]
  },
  {
   "cell_type": "code",
   "execution_count": null,
   "id": "a5c0402f-1596-44fc-9eaa-4c46ee5e3953",
   "metadata": {
    "colab": {
     "base_uri": "https://localhost:8080/"
    },
    "id": "a5c0402f-1596-44fc-9eaa-4c46ee5e3953",
    "outputId": "5b5139ec-ce62-481d-92cf-8de6f789b2d0"
   },
   "outputs": [
    {
     "name": "stdout",
     "output_type": "stream",
     "text": [
      "Model accuracy score on Test set: 0.6606\n"
     ]
    }
   ],
   "source": [
    "print('Model accuracy score on Test set: {0:0.4f}'. format(accuracy_score(validation_target, y_pred_test)))\n",
    "# This gives the model accuracy on test data"
   ]
  },
  {
   "cell_type": "markdown",
   "id": "3db84da5-d075-4334-9018-bc1504e08ff0",
   "metadata": {
    "id": "3db84da5-d075-4334-9018-bc1504e08ff0"
   },
   "source": [
    "### 7.1.5 Comparing score on training data and test data"
   ]
  },
  {
   "cell_type": "code",
   "execution_count": null,
   "id": "9d594b12-d32c-4ba4-b8c4-de3fb897a087",
   "metadata": {
    "colab": {
     "base_uri": "https://localhost:8080/"
    },
    "id": "9d594b12-d32c-4ba4-b8c4-de3fb897a087",
    "outputId": "1726ae5e-3b32-4089-832a-4c42b544bac5"
   },
   "outputs": [
    {
     "name": "stdout",
     "output_type": "stream",
     "text": [
      "Training set score: 0.6014\n",
      "Test set score: 0.6606\n"
     ]
    }
   ],
   "source": [
    "print('Training set score: {:.4f}'.format(logreg.score(train_predictors, train_target)))\n",
    "\n",
    "print('Test set score: {:.4f}'.format(logreg.score(validation_predictors, validation_target)))"
   ]
  },
  {
   "cell_type": "markdown",
   "id": "e53eab3b-b724-4696-8137-b8083675d75b",
   "metadata": {
    "id": "e53eab3b-b724-4696-8137-b8083675d75b",
    "tags": []
   },
   "source": [
    "### 7.1.6 Confusion matrix"
   ]
  },
  {
   "cell_type": "code",
   "execution_count": null,
   "id": "8f578aba-ec01-4913-8c42-9617332a0de9",
   "metadata": {
    "colab": {
     "base_uri": "https://localhost:8080/"
    },
    "id": "8f578aba-ec01-4913-8c42-9617332a0de9",
    "outputId": "09209908-a7d2-47c4-fac9-65367af9efbc"
   },
   "outputs": [
    {
     "name": "stdout",
     "output_type": "stream",
     "text": [
      "[[17438  8178]\n",
      " [ 1643  1675]]\n",
      "Confusion matrix\n",
      "\n",
      " [[17438  8178]\n",
      " [ 1643  1675]]\n",
      "\n",
      "True Positives(TP) =  1675\n",
      "\n",
      "True Negatives(TN) =  17438\n",
      "\n",
      "False Positives(FP) =  8178\n",
      "\n",
      "False Negatives(FN) =  1643\n",
      "***********************\n",
      "Recall Score:     0.505\n",
      "***********************\n",
      "Accuracy Score:   0.661\n",
      "***********************\n",
      "Precision Score:  0.170\n",
      "***********************\n",
      "F1 Score:         0.254\n",
      "***********************\n"
     ]
    }
   ],
   "source": [
    "cm = confusion_matrix(validation_target, y_pred_test)\n",
    "print(confusion_matrix(validation_target, y_pred_test))\n",
    "\n",
    "print('Confusion matrix\\n\\n', cm)\n",
    "\n",
    "print('\\nTrue Positives(TP) = ', cm[1,1])\n",
    "\n",
    "print('\\nTrue Negatives(TN) = ', cm[0,0])\n",
    "\n",
    "print('\\nFalse Positives(FP) = ', cm[0,1])\n",
    "\n",
    "print('\\nFalse Negatives(FN) = ', cm[1,0])\n",
    "\n",
    "TP = cm[1,1]\n",
    "TN = cm[0,0]\n",
    "FP = cm[0,1]\n",
    "FN = cm[1,0]\n",
    "\n",
    "print(\"***********************\")\n",
    "print(f\"{'Recall Score:':18}{recall_score(validation_target, y_pred_test):.3f}\")\n",
    "print(\"***********************\")\n",
    "print(f\"{'Accuracy Score: ':18}{accuracy_score(validation_target, y_pred_test):.3f}\")\n",
    "print(\"***********************\")\n",
    "print(f\"{'Precision Score: ':18}{precision_score(validation_target, y_pred_test):.3f}\")\n",
    "print(\"***********************\")\n",
    "print(f\"{'F1 Score: ':18}{f1_score(validation_target, y_pred_test):.3f}\")\n",
    "print(\"***********************\")\n"
   ]
  },
  {
   "cell_type": "markdown",
   "id": "00ad48f8-0d26-4644-b5b8-ecaac2164514",
   "metadata": {
    "id": "00ad48f8-0d26-4644-b5b8-ecaac2164514"
   },
   "source": [
    "### 7.1.7 Adjusting threshold level"
   ]
  },
  {
   "cell_type": "code",
   "execution_count": null,
   "id": "d2962ac5-4168-4a37-a77d-c75996d2e545",
   "metadata": {
    "colab": {
     "base_uri": "https://localhost:8080/"
    },
    "id": "d2962ac5-4168-4a37-a77d-c75996d2e545",
    "outputId": "4ee12449-ed46-46fc-a6f5-8ec4f64fb060"
   },
   "outputs": [
    {
     "data": {
      "text/plain": [
       "array([[0.37785432, 0.62214568],\n",
       "       [0.26827575, 0.73172425],\n",
       "       [0.65012832, 0.34987168],\n",
       "       [0.39422548, 0.60577452],\n",
       "       [0.49400781, 0.50599219],\n",
       "       [0.34292794, 0.65707206],\n",
       "       [0.48170154, 0.51829846],\n",
       "       [0.48889276, 0.51110724],\n",
       "       [0.25939215, 0.74060785],\n",
       "       [0.70300976, 0.29699024]])"
      ]
     },
     "execution_count": 118,
     "metadata": {},
     "output_type": "execute_result"
    }
   ],
   "source": [
    "# print the first 10 predicted probabilities of two classes 0 and 1\n",
    "y_pred_prob = logreg.predict_proba(validation_predictors)\n",
    "y_pred_prob[0:10]"
   ]
  },
  {
   "cell_type": "code",
   "execution_count": null,
   "id": "85110bba-eec9-411c-bf2e-34f6af16d126",
   "metadata": {
    "id": "85110bba-eec9-411c-bf2e-34f6af16d126"
   },
   "outputs": [],
   "source": [
    "# Class 0: no readmission.\n",
    "# Class 1: readmission."
   ]
  },
  {
   "cell_type": "markdown",
   "id": "63ead529-e095-43a5-b00f-9aad523dbe8c",
   "metadata": {
    "id": "63ead529-e095-43a5-b00f-9aad523dbe8c"
   },
   "source": [
    "Classification threshold level\n",
    "Class 1 is the probability of readmission is predicted if probability > 0.5.\n",
    "Class 0 is the probability of no readmission is predicted if probability < 0.5."
   ]
  },
  {
   "cell_type": "code",
   "execution_count": null,
   "id": "6190c247-3011-490c-812f-3c06f1da1cc3",
   "metadata": {
    "colab": {
     "base_uri": "https://localhost:8080/",
     "height": 363
    },
    "id": "6190c247-3011-490c-812f-3c06f1da1cc3",
    "outputId": "f12bb3e0-28ad-4711-b8fe-987d384e490f"
   },
   "outputs": [
    {
     "data": {
      "text/html": [
       "\n",
       "  <div id=\"df-eda1c06f-6ca0-4625-b172-66dc0ee8635c\">\n",
       "    <div class=\"colab-df-container\">\n",
       "      <div>\n",
       "<style scoped>\n",
       "    .dataframe tbody tr th:only-of-type {\n",
       "        vertical-align: middle;\n",
       "    }\n",
       "\n",
       "    .dataframe tbody tr th {\n",
       "        vertical-align: top;\n",
       "    }\n",
       "\n",
       "    .dataframe thead th {\n",
       "        text-align: right;\n",
       "    }\n",
       "</style>\n",
       "<table border=\"1\" class=\"dataframe\">\n",
       "  <thead>\n",
       "    <tr style=\"text-align: right;\">\n",
       "      <th></th>\n",
       "      <th>Prob of - No readmission (0)</th>\n",
       "      <th>Prob of - readmission  (1)</th>\n",
       "    </tr>\n",
       "  </thead>\n",
       "  <tbody>\n",
       "    <tr>\n",
       "      <th>0</th>\n",
       "      <td>0.377854</td>\n",
       "      <td>0.622146</td>\n",
       "    </tr>\n",
       "    <tr>\n",
       "      <th>1</th>\n",
       "      <td>0.268276</td>\n",
       "      <td>0.731724</td>\n",
       "    </tr>\n",
       "    <tr>\n",
       "      <th>2</th>\n",
       "      <td>0.650128</td>\n",
       "      <td>0.349872</td>\n",
       "    </tr>\n",
       "    <tr>\n",
       "      <th>3</th>\n",
       "      <td>0.394225</td>\n",
       "      <td>0.605775</td>\n",
       "    </tr>\n",
       "    <tr>\n",
       "      <th>4</th>\n",
       "      <td>0.494008</td>\n",
       "      <td>0.505992</td>\n",
       "    </tr>\n",
       "    <tr>\n",
       "      <th>5</th>\n",
       "      <td>0.342928</td>\n",
       "      <td>0.657072</td>\n",
       "    </tr>\n",
       "    <tr>\n",
       "      <th>6</th>\n",
       "      <td>0.481702</td>\n",
       "      <td>0.518298</td>\n",
       "    </tr>\n",
       "    <tr>\n",
       "      <th>7</th>\n",
       "      <td>0.488893</td>\n",
       "      <td>0.511107</td>\n",
       "    </tr>\n",
       "    <tr>\n",
       "      <th>8</th>\n",
       "      <td>0.259392</td>\n",
       "      <td>0.740608</td>\n",
       "    </tr>\n",
       "    <tr>\n",
       "      <th>9</th>\n",
       "      <td>0.703010</td>\n",
       "      <td>0.296990</td>\n",
       "    </tr>\n",
       "  </tbody>\n",
       "</table>\n",
       "</div>\n",
       "      <button class=\"colab-df-convert\" onclick=\"convertToInteractive('df-eda1c06f-6ca0-4625-b172-66dc0ee8635c')\"\n",
       "              title=\"Convert this dataframe to an interactive table.\"\n",
       "              style=\"display:none;\">\n",
       "        \n",
       "  <svg xmlns=\"http://www.w3.org/2000/svg\" height=\"24px\"viewBox=\"0 0 24 24\"\n",
       "       width=\"24px\">\n",
       "    <path d=\"M0 0h24v24H0V0z\" fill=\"none\"/>\n",
       "    <path d=\"M18.56 5.44l.94 2.06.94-2.06 2.06-.94-2.06-.94-.94-2.06-.94 2.06-2.06.94zm-11 1L8.5 8.5l.94-2.06 2.06-.94-2.06-.94L8.5 2.5l-.94 2.06-2.06.94zm10 10l.94 2.06.94-2.06 2.06-.94-2.06-.94-.94-2.06-.94 2.06-2.06.94z\"/><path d=\"M17.41 7.96l-1.37-1.37c-.4-.4-.92-.59-1.43-.59-.52 0-1.04.2-1.43.59L10.3 9.45l-7.72 7.72c-.78.78-.78 2.05 0 2.83L4 21.41c.39.39.9.59 1.41.59.51 0 1.02-.2 1.41-.59l7.78-7.78 2.81-2.81c.8-.78.8-2.07 0-2.86zM5.41 20L4 18.59l7.72-7.72 1.47 1.35L5.41 20z\"/>\n",
       "  </svg>\n",
       "      </button>\n",
       "      \n",
       "  <style>\n",
       "    .colab-df-container {\n",
       "      display:flex;\n",
       "      flex-wrap:wrap;\n",
       "      gap: 12px;\n",
       "    }\n",
       "\n",
       "    .colab-df-convert {\n",
       "      background-color: #E8F0FE;\n",
       "      border: none;\n",
       "      border-radius: 50%;\n",
       "      cursor: pointer;\n",
       "      display: none;\n",
       "      fill: #1967D2;\n",
       "      height: 32px;\n",
       "      padding: 0 0 0 0;\n",
       "      width: 32px;\n",
       "    }\n",
       "\n",
       "    .colab-df-convert:hover {\n",
       "      background-color: #E2EBFA;\n",
       "      box-shadow: 0px 1px 2px rgba(60, 64, 67, 0.3), 0px 1px 3px 1px rgba(60, 64, 67, 0.15);\n",
       "      fill: #174EA6;\n",
       "    }\n",
       "\n",
       "    [theme=dark] .colab-df-convert {\n",
       "      background-color: #3B4455;\n",
       "      fill: #D2E3FC;\n",
       "    }\n",
       "\n",
       "    [theme=dark] .colab-df-convert:hover {\n",
       "      background-color: #434B5C;\n",
       "      box-shadow: 0px 1px 3px 1px rgba(0, 0, 0, 0.15);\n",
       "      filter: drop-shadow(0px 1px 2px rgba(0, 0, 0, 0.3));\n",
       "      fill: #FFFFFF;\n",
       "    }\n",
       "  </style>\n",
       "\n",
       "      <script>\n",
       "        const buttonEl =\n",
       "          document.querySelector('#df-eda1c06f-6ca0-4625-b172-66dc0ee8635c button.colab-df-convert');\n",
       "        buttonEl.style.display =\n",
       "          google.colab.kernel.accessAllowed ? 'block' : 'none';\n",
       "\n",
       "        async function convertToInteractive(key) {\n",
       "          const element = document.querySelector('#df-eda1c06f-6ca0-4625-b172-66dc0ee8635c');\n",
       "          const dataTable =\n",
       "            await google.colab.kernel.invokeFunction('convertToInteractive',\n",
       "                                                     [key], {});\n",
       "          if (!dataTable) return;\n",
       "\n",
       "          const docLinkHtml = 'Like what you see? Visit the ' +\n",
       "            '<a target=\"_blank\" href=https://colab.research.google.com/notebooks/data_table.ipynb>data table notebook</a>'\n",
       "            + ' to learn more about interactive tables.';\n",
       "          element.innerHTML = '';\n",
       "          dataTable['output_type'] = 'display_data';\n",
       "          await google.colab.output.renderOutput(dataTable, element);\n",
       "          const docLink = document.createElement('div');\n",
       "          docLink.innerHTML = docLinkHtml;\n",
       "          element.appendChild(docLink);\n",
       "        }\n",
       "      </script>\n",
       "    </div>\n",
       "  </div>\n",
       "  "
      ],
      "text/plain": [
       "   Prob of - No readmission (0)  Prob of - readmission  (1)\n",
       "0                      0.377854                    0.622146\n",
       "1                      0.268276                    0.731724\n",
       "2                      0.650128                    0.349872\n",
       "3                      0.394225                    0.605775\n",
       "4                      0.494008                    0.505992\n",
       "5                      0.342928                    0.657072\n",
       "6                      0.481702                    0.518298\n",
       "7                      0.488893                    0.511107\n",
       "8                      0.259392                    0.740608\n",
       "9                      0.703010                    0.296990"
      ]
     },
     "execution_count": 120,
     "metadata": {},
     "output_type": "execute_result"
    }
   ],
   "source": [
    "# store the probabilities in dataframe\n",
    "y_pred_prob_df = pd.DataFrame(data=y_pred_prob, columns=['Prob of - No readmission (0)', 'Prob of - readmission  (1)'])\n",
    "y_pred_prob_df.head(10)\n",
    "\n"
   ]
  },
  {
   "cell_type": "code",
   "execution_count": null,
   "id": "2b57976e-bd7e-4316-9a36-0942f93bef99",
   "metadata": {
    "id": "2b57976e-bd7e-4316-9a36-0942f93bef99"
   },
   "outputs": [],
   "source": [
    "# storing the predicted probabilities for class1\n",
    "y_pred1 = logreg.predict_proba(validation_predictors)[:, 1]"
   ]
  },
  {
   "cell_type": "code",
   "execution_count": null,
   "id": "fa02d8c0-e649-427b-b9d9-cca1635fd523",
   "metadata": {
    "colab": {
     "base_uri": "https://localhost:8080/",
     "height": 446
    },
    "id": "fa02d8c0-e649-427b-b9d9-cca1635fd523",
    "outputId": "f5b70906-84bb-4e7c-a0fc-e16923ea4eb1"
   },
   "outputs": [
    {
     "name": "stdout",
     "output_type": "stream",
     "text": [
      "0    25616\n",
      "1     3318\n",
      "Name: readmitted, dtype: int64\n"
     ]
    },
    {
     "data": {
      "text/html": [
       "\n",
       "  <div id=\"df-fa7d2180-73be-4bcd-82e7-fd701c609c62\">\n",
       "    <div class=\"colab-df-container\">\n",
       "      <div>\n",
       "<style scoped>\n",
       "    .dataframe tbody tr th:only-of-type {\n",
       "        vertical-align: middle;\n",
       "    }\n",
       "\n",
       "    .dataframe tbody tr th {\n",
       "        vertical-align: top;\n",
       "    }\n",
       "\n",
       "    .dataframe thead th {\n",
       "        text-align: right;\n",
       "    }\n",
       "</style>\n",
       "<table border=\"1\" class=\"dataframe\">\n",
       "  <thead>\n",
       "    <tr style=\"text-align: right;\">\n",
       "      <th></th>\n",
       "      <th>Threshold</th>\n",
       "      <th>TP</th>\n",
       "      <th>FP</th>\n",
       "      <th>TN</th>\n",
       "      <th>FN</th>\n",
       "      <th>FPR</th>\n",
       "      <th>TPR</th>\n",
       "      <th>Precision</th>\n",
       "      <th>Recall</th>\n",
       "      <th>Accuracy</th>\n",
       "    </tr>\n",
       "  </thead>\n",
       "  <tbody>\n",
       "    <tr>\n",
       "      <th>0</th>\n",
       "      <td>0.0</td>\n",
       "      <td>3318</td>\n",
       "      <td>25616</td>\n",
       "      <td>0</td>\n",
       "      <td>0</td>\n",
       "      <td>1.000000</td>\n",
       "      <td>1.000000</td>\n",
       "      <td>0.114675</td>\n",
       "      <td>1.000000</td>\n",
       "      <td>0.114675</td>\n",
       "    </tr>\n",
       "    <tr>\n",
       "      <th>1</th>\n",
       "      <td>0.1</td>\n",
       "      <td>3317</td>\n",
       "      <td>25611</td>\n",
       "      <td>5</td>\n",
       "      <td>1</td>\n",
       "      <td>0.999805</td>\n",
       "      <td>0.999699</td>\n",
       "      <td>0.114664</td>\n",
       "      <td>0.999699</td>\n",
       "      <td>0.114813</td>\n",
       "    </tr>\n",
       "    <tr>\n",
       "      <th>2</th>\n",
       "      <td>0.2</td>\n",
       "      <td>3317</td>\n",
       "      <td>25609</td>\n",
       "      <td>7</td>\n",
       "      <td>1</td>\n",
       "      <td>0.999727</td>\n",
       "      <td>0.999699</td>\n",
       "      <td>0.114672</td>\n",
       "      <td>0.999699</td>\n",
       "      <td>0.114882</td>\n",
       "    </tr>\n",
       "    <tr>\n",
       "      <th>3</th>\n",
       "      <td>0.3</td>\n",
       "      <td>3309</td>\n",
       "      <td>25320</td>\n",
       "      <td>296</td>\n",
       "      <td>9</td>\n",
       "      <td>0.988445</td>\n",
       "      <td>0.997288</td>\n",
       "      <td>0.115582</td>\n",
       "      <td>0.997288</td>\n",
       "      <td>0.124594</td>\n",
       "    </tr>\n",
       "    <tr>\n",
       "      <th>4</th>\n",
       "      <td>0.4</td>\n",
       "      <td>2877</td>\n",
       "      <td>18608</td>\n",
       "      <td>7008</td>\n",
       "      <td>441</td>\n",
       "      <td>0.726421</td>\n",
       "      <td>0.867089</td>\n",
       "      <td>0.133907</td>\n",
       "      <td>0.867089</td>\n",
       "      <td>0.341640</td>\n",
       "    </tr>\n",
       "    <tr>\n",
       "      <th>5</th>\n",
       "      <td>0.5</td>\n",
       "      <td>1675</td>\n",
       "      <td>8178</td>\n",
       "      <td>17438</td>\n",
       "      <td>1643</td>\n",
       "      <td>0.319254</td>\n",
       "      <td>0.504822</td>\n",
       "      <td>0.169999</td>\n",
       "      <td>0.504822</td>\n",
       "      <td>0.660572</td>\n",
       "    </tr>\n",
       "    <tr>\n",
       "      <th>6</th>\n",
       "      <td>0.6</td>\n",
       "      <td>824</td>\n",
       "      <td>2890</td>\n",
       "      <td>22726</td>\n",
       "      <td>2494</td>\n",
       "      <td>0.112820</td>\n",
       "      <td>0.248342</td>\n",
       "      <td>0.221863</td>\n",
       "      <td>0.248342</td>\n",
       "      <td>0.813921</td>\n",
       "    </tr>\n",
       "    <tr>\n",
       "      <th>7</th>\n",
       "      <td>0.7</td>\n",
       "      <td>376</td>\n",
       "      <td>953</td>\n",
       "      <td>24663</td>\n",
       "      <td>2942</td>\n",
       "      <td>0.037203</td>\n",
       "      <td>0.113321</td>\n",
       "      <td>0.282919</td>\n",
       "      <td>0.113321</td>\n",
       "      <td>0.865383</td>\n",
       "    </tr>\n",
       "    <tr>\n",
       "      <th>8</th>\n",
       "      <td>0.8</td>\n",
       "      <td>156</td>\n",
       "      <td>284</td>\n",
       "      <td>25332</td>\n",
       "      <td>3162</td>\n",
       "      <td>0.011087</td>\n",
       "      <td>0.047016</td>\n",
       "      <td>0.354545</td>\n",
       "      <td>0.047016</td>\n",
       "      <td>0.880901</td>\n",
       "    </tr>\n",
       "    <tr>\n",
       "      <th>9</th>\n",
       "      <td>0.9</td>\n",
       "      <td>51</td>\n",
       "      <td>64</td>\n",
       "      <td>25552</td>\n",
       "      <td>3267</td>\n",
       "      <td>0.002498</td>\n",
       "      <td>0.015371</td>\n",
       "      <td>0.443478</td>\n",
       "      <td>0.015371</td>\n",
       "      <td>0.884876</td>\n",
       "    </tr>\n",
       "    <tr>\n",
       "      <th>10</th>\n",
       "      <td>1.0</td>\n",
       "      <td>0</td>\n",
       "      <td>0</td>\n",
       "      <td>25616</td>\n",
       "      <td>3318</td>\n",
       "      <td>0.000000</td>\n",
       "      <td>0.000000</td>\n",
       "      <td>NaN</td>\n",
       "      <td>0.000000</td>\n",
       "      <td>0.885325</td>\n",
       "    </tr>\n",
       "  </tbody>\n",
       "</table>\n",
       "</div>\n",
       "      <button class=\"colab-df-convert\" onclick=\"convertToInteractive('df-fa7d2180-73be-4bcd-82e7-fd701c609c62')\"\n",
       "              title=\"Convert this dataframe to an interactive table.\"\n",
       "              style=\"display:none;\">\n",
       "        \n",
       "  <svg xmlns=\"http://www.w3.org/2000/svg\" height=\"24px\"viewBox=\"0 0 24 24\"\n",
       "       width=\"24px\">\n",
       "    <path d=\"M0 0h24v24H0V0z\" fill=\"none\"/>\n",
       "    <path d=\"M18.56 5.44l.94 2.06.94-2.06 2.06-.94-2.06-.94-.94-2.06-.94 2.06-2.06.94zm-11 1L8.5 8.5l.94-2.06 2.06-.94-2.06-.94L8.5 2.5l-.94 2.06-2.06.94zm10 10l.94 2.06.94-2.06 2.06-.94-2.06-.94-.94-2.06-.94 2.06-2.06.94z\"/><path d=\"M17.41 7.96l-1.37-1.37c-.4-.4-.92-.59-1.43-.59-.52 0-1.04.2-1.43.59L10.3 9.45l-7.72 7.72c-.78.78-.78 2.05 0 2.83L4 21.41c.39.39.9.59 1.41.59.51 0 1.02-.2 1.41-.59l7.78-7.78 2.81-2.81c.8-.78.8-2.07 0-2.86zM5.41 20L4 18.59l7.72-7.72 1.47 1.35L5.41 20z\"/>\n",
       "  </svg>\n",
       "      </button>\n",
       "      \n",
       "  <style>\n",
       "    .colab-df-container {\n",
       "      display:flex;\n",
       "      flex-wrap:wrap;\n",
       "      gap: 12px;\n",
       "    }\n",
       "\n",
       "    .colab-df-convert {\n",
       "      background-color: #E8F0FE;\n",
       "      border: none;\n",
       "      border-radius: 50%;\n",
       "      cursor: pointer;\n",
       "      display: none;\n",
       "      fill: #1967D2;\n",
       "      height: 32px;\n",
       "      padding: 0 0 0 0;\n",
       "      width: 32px;\n",
       "    }\n",
       "\n",
       "    .colab-df-convert:hover {\n",
       "      background-color: #E2EBFA;\n",
       "      box-shadow: 0px 1px 2px rgba(60, 64, 67, 0.3), 0px 1px 3px 1px rgba(60, 64, 67, 0.15);\n",
       "      fill: #174EA6;\n",
       "    }\n",
       "\n",
       "    [theme=dark] .colab-df-convert {\n",
       "      background-color: #3B4455;\n",
       "      fill: #D2E3FC;\n",
       "    }\n",
       "\n",
       "    [theme=dark] .colab-df-convert:hover {\n",
       "      background-color: #434B5C;\n",
       "      box-shadow: 0px 1px 3px 1px rgba(0, 0, 0, 0.15);\n",
       "      filter: drop-shadow(0px 1px 2px rgba(0, 0, 0, 0.3));\n",
       "      fill: #FFFFFF;\n",
       "    }\n",
       "  </style>\n",
       "\n",
       "      <script>\n",
       "        const buttonEl =\n",
       "          document.querySelector('#df-fa7d2180-73be-4bcd-82e7-fd701c609c62 button.colab-df-convert');\n",
       "        buttonEl.style.display =\n",
       "          google.colab.kernel.accessAllowed ? 'block' : 'none';\n",
       "\n",
       "        async function convertToInteractive(key) {\n",
       "          const element = document.querySelector('#df-fa7d2180-73be-4bcd-82e7-fd701c609c62');\n",
       "          const dataTable =\n",
       "            await google.colab.kernel.invokeFunction('convertToInteractive',\n",
       "                                                     [key], {});\n",
       "          if (!dataTable) return;\n",
       "\n",
       "          const docLinkHtml = 'Like what you see? Visit the ' +\n",
       "            '<a target=\"_blank\" href=https://colab.research.google.com/notebooks/data_table.ipynb>data table notebook</a>'\n",
       "            + ' to learn more about interactive tables.';\n",
       "          element.innerHTML = '';\n",
       "          dataTable['output_type'] = 'display_data';\n",
       "          await google.colab.output.renderOutput(dataTable, element);\n",
       "          const docLink = document.createElement('div');\n",
       "          docLink.innerHTML = docLinkHtml;\n",
       "          element.appendChild(docLink);\n",
       "        }\n",
       "      </script>\n",
       "    </div>\n",
       "  </div>\n",
       "  "
      ],
      "text/plain": [
       "   Threshold    TP     FP     TN    FN       FPR       TPR  Precision  \\\n",
       "0        0.0  3318  25616      0     0  1.000000  1.000000   0.114675   \n",
       "1        0.1  3317  25611      5     1  0.999805  0.999699   0.114664   \n",
       "2        0.2  3317  25609      7     1  0.999727  0.999699   0.114672   \n",
       "3        0.3  3309  25320    296     9  0.988445  0.997288   0.115582   \n",
       "4        0.4  2877  18608   7008   441  0.726421  0.867089   0.133907   \n",
       "5        0.5  1675   8178  17438  1643  0.319254  0.504822   0.169999   \n",
       "6        0.6   824   2890  22726  2494  0.112820  0.248342   0.221863   \n",
       "7        0.7   376    953  24663  2942  0.037203  0.113321   0.282919   \n",
       "8        0.8   156    284  25332  3162  0.011087  0.047016   0.354545   \n",
       "9        0.9    51     64  25552  3267  0.002498  0.015371   0.443478   \n",
       "10       1.0     0      0  25616  3318  0.000000  0.000000        NaN   \n",
       "\n",
       "      Recall  Accuracy  \n",
       "0   1.000000  0.114675  \n",
       "1   0.999699  0.114813  \n",
       "2   0.999699  0.114882  \n",
       "3   0.997288  0.124594  \n",
       "4   0.867089  0.341640  \n",
       "5   0.504822  0.660572  \n",
       "6   0.248342  0.813921  \n",
       "7   0.113321  0.865383  \n",
       "8   0.047016  0.880901  \n",
       "9   0.015371  0.884876  \n",
       "10  0.000000  0.885325  "
      ]
     },
     "execution_count": 122,
     "metadata": {},
     "output_type": "execute_result"
    }
   ],
   "source": [
    "# Classification metrics for different threshold levels\n",
    "logreg = LogisticRegression(random_state=0)\n",
    "\n",
    "# fit the model\n",
    "logreg.fit(train_predictors, train_target)\n",
    "\n",
    "tps = []\n",
    "fps = []\n",
    "tns = []\n",
    "fns = []  \n",
    "precs = []\n",
    "recls = []\n",
    "accur = []\n",
    "\n",
    "tprs = []\n",
    "fprs = []\n",
    "thres = []\n",
    "for threshold in np.arange(0.0,1.1, 0.1):  \n",
    "    y_pred1 = logreg.predict_proba(validation_predictors)[:,1]>=threshold\n",
    "    cm = confusion_matrix(validation_target, y_pred1)\n",
    "    TP = cm[1,1]\n",
    "    TN = cm[0,0]\n",
    "    FP = cm[0,1]\n",
    "    FN = cm[1,0]\n",
    "    TPR = TP/(TP+FN)\n",
    "    FPR = FP/(FP+TN)\n",
    "    recall = TP / (TP+FN)\n",
    "    precision = TP / (TP+FP)\n",
    "    accuracy =  (TP + TN)/ (TP + FN + TN + FP)\n",
    "    tps.append(TP)\n",
    "    fps.append(FP)\n",
    "    tns.append(TN)\n",
    "    fns.append(FN)\n",
    "    tprs.append(TPR)\n",
    "    fprs.append(FPR)\n",
    "    recls.append(recall)\n",
    "    precs.append(precision)\n",
    "    accur.append(accuracy)\n",
    "    thres.append(str(round(threshold,2)))\n",
    "\n",
    "print(validation_target.value_counts())\n",
    "df = pd.DataFrame(list(zip(thres, tps, fps, tns, fns, fprs, tprs, precs, recls,accur)), columns=['Threshold', 'TP', 'FP', 'TN', 'FN', 'FPR', 'TPR', 'Precision', 'Recall','Accuracy'])\n",
    "df\n",
    "\n",
    "    \n"
   ]
  },
  {
   "cell_type": "markdown",
   "id": "d9eed51e-512b-4054-b0ba-e79ee4f76dd5",
   "metadata": {
    "id": "d9eed51e-512b-4054-b0ba-e79ee4f76dd5",
    "tags": []
   },
   "source": [
    "## 7.2 Logestic Regression - Hyperparameter Tuning of using GridSearch CV"
   ]
  },
  {
   "cell_type": "code",
   "execution_count": null,
   "id": "88ed13cd-e289-4edc-a4f9-86a4e7e613e2",
   "metadata": {
    "colab": {
     "base_uri": "https://localhost:8080/"
    },
    "id": "88ed13cd-e289-4edc-a4f9-86a4e7e613e2",
    "outputId": "9d64c128-cb43-494a-8521-5e9c682462a8",
    "tags": []
   },
   "outputs": [
    {
     "data": {
      "text/plain": [
       "GridSearchCV(cv=5, estimator=LogisticRegression(random_state=0),\n",
       "             param_grid={'C': [100, 10, 1.0, 0.1, 0.01], 'max_iter': [500000],\n",
       "                         'penalty': ['l1', 'l2', 'none'],\n",
       "                         'solver': ['newton-cg', 'lbfgs', 'liblinear', 'sag',\n",
       "                                    'saga']},\n",
       "             scoring='accuracy')"
      ]
     },
     "execution_count": 123,
     "metadata": {},
     "output_type": "execute_result"
    }
   ],
   "source": [
    "parameters = { 'solver': ['newton-cg', 'lbfgs', 'liblinear', 'sag', 'saga'],\n",
    "                      'penalty': ['l1', 'l2', 'none'], # NOTE: 'elasticnet' is only supported by 'saga' solver\n",
    "                      'C': [100, 10, 1.0, 0.1, 0.01],\n",
    "                      'max_iter': [500000] # number of iterations to converge (sometimes the default is not enough - and sometimes, it will never converge)\n",
    "                     }\n",
    "\n",
    "\n",
    "grid_search = GridSearchCV(estimator = logreg,  \n",
    "                           param_grid = parameters,\n",
    "                           scoring = 'accuracy',\n",
    "                           cv = 5,\n",
    "                           verbose=0)\n",
    "\n",
    "\n",
    "grid_search.fit(train_predictors, train_target)"
   ]
  },
  {
   "cell_type": "code",
   "execution_count": null,
   "id": "d17e2953-83d5-44fb-8345-78896c0acd8a",
   "metadata": {
    "colab": {
     "base_uri": "https://localhost:8080/"
    },
    "id": "d17e2953-83d5-44fb-8345-78896c0acd8a",
    "outputId": "23c9837e-a498-4103-ac07-5df4fe9e6b28"
   },
   "outputs": [
    {
     "name": "stdout",
     "output_type": "stream",
     "text": [
      "GridSearch CV best score : 0.6008\n",
      "\n",
      "\n",
      "Parameters that give the best results : \n",
      "\n",
      " {'C': 0.01, 'max_iter': 500000, 'penalty': 'l1', 'solver': 'liblinear'}\n",
      "\n",
      "\n",
      "Estimator that was chosen by the search : \n",
      "\n",
      " LogisticRegression(C=0.01, max_iter=500000, penalty='l1', random_state=0,\n",
      "                   solver='liblinear')\n"
     ]
    }
   ],
   "source": [
    "# best score achieved during the GridSearchCV\n",
    "print('GridSearch CV best score : {:.4f}\\n\\n'.format(grid_search.best_score_))\n",
    "\n",
    "# print parameters that give the best results\n",
    "print('Parameters that give the best results :','\\n\\n', (grid_search.best_params_))\n",
    "\n",
    "# print estimator that was chosen by the GridSearch\n",
    "print('\\n\\nEstimator that was chosen by the search :','\\n\\n', (grid_search.best_estimator_))\n",
    "best_logreg = grid_search.best_estimator_"
   ]
  },
  {
   "cell_type": "code",
   "execution_count": null,
   "id": "226e39de-409f-4e70-a456-cc457278cbb2",
   "metadata": {
    "colab": {
     "base_uri": "https://localhost:8080/"
    },
    "id": "226e39de-409f-4e70-a456-cc457278cbb2",
    "outputId": "9cd247f6-40e1-4e18-c3ec-9809b0a125eb"
   },
   "outputs": [
    {
     "name": "stdout",
     "output_type": "stream",
     "text": [
      "***********************\n",
      "Recall Score:     0.503\n",
      "***********************\n",
      "Accuracy Score:   0.662\n",
      "Precision Score:  0.170\n",
      "F1 Score:         0.254\n",
      "***********************\n"
     ]
    }
   ],
   "source": [
    "# calculate GridSearch CV score on test set\n",
    "\n",
    "y_pred_lr = best_logreg.predict(validation_predictors)\n",
    "print(\"***********************\")\n",
    "print(f\"{'Recall Score:':18}{recall_score(validation_target, y_pred_lr):.3f}\")\n",
    "print(\"***********************\")\n",
    "print(f\"{'Accuracy Score: ':18}{accuracy_score(validation_target, y_pred_lr):.3f}\")\n",
    "print(f\"{'Precision Score: ':18}{precision_score(validation_target, y_pred_lr):.3f}\")\n",
    "print(f\"{'F1 Score: ':18}{f1_score(validation_target, y_pred_lr):.3f}\")\n",
    "print(\"***********************\")\n",
    "\n"
   ]
  },
  {
   "cell_type": "code",
   "execution_count": null,
   "id": "_Y4vLzRV5Cpy",
   "metadata": {
    "id": "_Y4vLzRV5Cpy"
   },
   "outputs": [],
   "source": [
    "accuracy_logreg = accuracy_score(validation_target, y_pred_lr)\n",
    "precision_logreg = precision_score(validation_target, y_pred_lr)\n",
    "recall_logreg = recall_score(validation_target, y_pred_lr)"
   ]
  },
  {
   "cell_type": "markdown",
   "id": "29ae9045-8af0-40bb-9574-cba3d7b68da2",
   "metadata": {
    "id": "29ae9045-8af0-40bb-9574-cba3d7b68da2",
    "tags": []
   },
   "source": [
    "Our original model test accuracy and recall are 0.661 and 0.505 respectively. After hyperparameter tuning with GridSearch CV the accuracy and recall are 0.662 and 0.503 respectively.\n",
    "We can see that the performance of the original model is very close to the performace after tuning with GridSearch CV."
   ]
  },
  {
   "cell_type": "markdown",
   "id": "ujQV-3FePqUX",
   "metadata": {
    "id": "ujQV-3FePqUX"
   },
   "source": [
    "## 7.3 Decision Tree (using default parameters)\n"
   ]
  },
  {
   "cell_type": "code",
   "execution_count": null,
   "id": "MevYIBstPnhM",
   "metadata": {
    "id": "MevYIBstPnhM"
   },
   "outputs": [],
   "source": [
    "dtree=DecisionTreeClassifier(random_state=seed)"
   ]
  },
  {
   "cell_type": "markdown",
   "id": "_QdRu41IPnBM",
   "metadata": {
    "id": "_QdRu41IPnBM"
   },
   "source": [
    "Fit the model to the training data"
   ]
  },
  {
   "cell_type": "code",
   "execution_count": null,
   "id": "XUVhyIjoPmOR",
   "metadata": {
    "colab": {
     "base_uri": "https://localhost:8080/"
    },
    "id": "XUVhyIjoPmOR",
    "outputId": "ba700128-af48-4247-a3aa-685d767efd68"
   },
   "outputs": [
    {
     "data": {
      "text/plain": [
       "DecisionTreeClassifier(random_state=42)"
      ]
     },
     "execution_count": 131,
     "metadata": {},
     "output_type": "execute_result"
    }
   ],
   "source": [
    "dtree.fit(train_predictors, train_target)"
   ]
  },
  {
   "cell_type": "markdown",
   "id": "zlCeeJ7-QNC1",
   "metadata": {
    "id": "zlCeeJ7-QNC1"
   },
   "source": [
    "Review of the performance of the model on the validation/test data"
   ]
  },
  {
   "cell_type": "code",
   "execution_count": null,
   "id": "8813b903-431c-466d-a273-6d3374aa7f41",
   "metadata": {
    "id": "8813b903-431c-466d-a273-6d3374aa7f41"
   },
   "outputs": [],
   "source": [
    "y_pred_dt = dtree.predict(validation_predictors)"
   ]
  },
  {
   "cell_type": "code",
   "execution_count": null,
   "id": "8Ve_4LdpQXLr",
   "metadata": {
    "colab": {
     "base_uri": "https://localhost:8080/"
    },
    "id": "8Ve_4LdpQXLr",
    "outputId": "ebd0b47f-149e-4f94-8f0e-f56e0db82e4c"
   },
   "outputs": [
    {
     "name": "stdout",
     "output_type": "stream",
     "text": [
      "      Model             Score       \n",
      "************************************\n",
      "Recall Score:     0.175\n",
      "Accuracy Score:   0.802\n",
      "Precision Score:  0.163\n",
      "F1 Score:         0.169\n"
     ]
    }
   ],
   "source": [
    "print(f\"{'Model':^18}{'Score':^18}\")\n",
    "print(\"************************************\")\n",
    "print(f\"{'Recall Score:':18}{recall_score(validation_target, y_pred_dt):.3f}\")\n",
    "print(f\"{'Accuracy Score: ':18}{accuracy_score(validation_target, y_pred_dt):.3f}\")\n",
    "print(f\"{'Precision Score: ':18}{precision_score(validation_target, y_pred_dt):.3f}\")\n",
    "print(f\"{'F1 Score: ':18}{f1_score(validation_target, y_pred_dt):.3f}\")\n",
    "\n"
   ]
  },
  {
   "cell_type": "markdown",
   "id": "DwY95ZE9d01p",
   "metadata": {
    "id": "DwY95ZE9d01p"
   },
   "source": [
    "## 7.4 Decision Tree (using hyperparameter tuning)\n"
   ]
  },
  {
   "cell_type": "markdown",
   "id": "jPx9TfYueAKs",
   "metadata": {
    "id": "jPx9TfYueAKs"
   },
   "source": [
    "Both best_random_search_modelCV and best_grid_search_modelCV test different model parameters. These help to determine the parameters that produce the best performing model."
   ]
  },
  {
   "cell_type": "markdown",
   "id": "8wykY4DAd-Os",
   "metadata": {
    "id": "8wykY4DAd-Os"
   },
   "source": [
    "### Determine the parameters that can be \"tuned\"\n",
    "\n",
    "After reviewing these parameters (while also understanding something about DecisionTrees), we can identify the following parameters that could affect model fit. \n",
    "\n",
    "* criterion\n",
    "* max_depth\n",
    "* min_samples_split\n",
    "* min_samples_leaf\n",
    "* max_leaf_nodes\n",
    "* min_impurity_decrease\n"
   ]
  },
  {
   "cell_type": "markdown",
   "id": "9b_UEPRoeYsU",
   "metadata": {
    "id": "9b_UEPRoeYsU"
   },
   "source": [
    "### Create an initial 'wide' range of possible hyperparameter values"
   ]
  },
  {
   "cell_type": "code",
   "execution_count": null,
   "id": "IOt0jK-_ekGZ",
   "metadata": {
    "id": "IOt0jK-_ekGZ"
   },
   "outputs": [],
   "source": [
    "# Criterion used to guide data splits\n",
    "criterion = ['gini', 'entropy', 'log_loss']\n",
    "\n",
    "# Maximum number of levels in tree. If None, then nodes are expanded until all leaves are pure or until all \n",
    "# leaves contain less than min_samples_split samples.\n",
    "# default = None\n",
    "max_depth = [int(x) for x in np.linspace(1, 20, 2)]\n",
    "#max_depth.append(None)\n",
    "\n",
    "# Minimum number of samples required to split a node\n",
    "# default is 2\n",
    "min_samples_split = [int(x) for x in np.linspace(1000, 1500, 50)]\n",
    "\n",
    "# Minimum number of samples required at each leaf node\n",
    "# default = 1 \n",
    "min_samples_leaf = [int(x) for x in np.linspace(500, 1000, 50)]\n",
    "\n",
    "# max_leaf_nodes  - Grow trees with max_leaf_nodes in best-first fashion.\n",
    "# If None then unlimited number of leaf nodes.\n",
    "# default=None \n",
    "max_leaf_nodes = [int(x) for x in np.linspace(100, 1000, 100)]\n",
    "#max_leaf_nodes.append(None)\n",
    "\n",
    "# min_impurity_decrease - A node will be split if this split induces a decrease of the impurity greater than or equal to this value.\n",
    "# default=0.0\n",
    "min_impurity_decrease = [x for x in np.arange(0.0, 0.01, 0.0001).round(5)]\n",
    "\n",
    "# Create the random grid\n",
    "param_grid_random = { 'criterion': criterion,\n",
    "                      'max_depth': max_depth,\n",
    "                      'min_samples_split': min_samples_split,\n",
    "                      'min_samples_leaf' : min_samples_leaf,\n",
    "                      'max_leaf_nodes' : max_leaf_nodes,\n",
    "                      'min_impurity_decrease' : min_impurity_decrease,\n",
    "                     }\n",
    "\n"
   ]
  },
  {
   "cell_type": "markdown",
   "id": "uflgtSx8ezss",
   "metadata": {
    "id": "uflgtSx8ezss"
   },
   "source": [
    "###  Use Randomize Search to narrow the possible range of parameter values\n"
   ]
  },
  {
   "cell_type": "code",
   "execution_count": null,
   "id": "pDSKDgpld4DD",
   "metadata": {
    "id": "pDSKDgpld4DD"
   },
   "outputs": [],
   "source": [
    "dtree_default = DecisionTreeClassifier(random_state=seed)\n",
    "best_random_search_model = RandomizedSearchCV(\n",
    "        estimator=DecisionTreeClassifier(random_state=seed), \n",
    "        scoring='recall', \n",
    "        param_distributions=param_grid_random, \n",
    "        n_iter = 200, \n",
    "        cv=10, \n",
    "        verbose=0, \n",
    "        n_jobs = -1\n",
    "    )\n",
    "_ = best_random_search_model.fit(train_predictors, train_target)"
   ]
  },
  {
   "cell_type": "code",
   "execution_count": null,
   "id": "niubzYkle4fI",
   "metadata": {
    "colab": {
     "base_uri": "https://localhost:8080/"
    },
    "id": "niubzYkle4fI",
    "outputId": "f4876d6b-e431-4490-c1a7-c3ef76af6ae0"
   },
   "outputs": [
    {
     "name": "stdout",
     "output_type": "stream",
     "text": [
      "Best parameters found:  {'min_samples_split': 1316, 'min_samples_leaf': 693, 'min_impurity_decrease': 0.0025, 'max_leaf_nodes': 381, 'max_depth': 20, 'criterion': 'gini'}\n"
     ]
    }
   ],
   "source": [
    "random_search_best_params = best_random_search_model.best_params_\n",
    "print('Best parameters found: ', random_search_best_params)"
   ]
  },
  {
   "cell_type": "markdown",
   "id": "dwQ7txgwe8oT",
   "metadata": {
    "id": "dwQ7txgwe8oT"
   },
   "source": [
    "###  Test the performance of the selected parameters"
   ]
  },
  {
   "cell_type": "code",
   "execution_count": null,
   "id": "lGFuKNx2e4iO",
   "metadata": {
    "colab": {
     "base_uri": "https://localhost:8080/"
    },
    "id": "lGFuKNx2e4iO",
    "outputId": "35b91ec9-c8ae-4d45-9aaf-e34e5d5164e9"
   },
   "outputs": [
    {
     "name": "stdout",
     "output_type": "stream",
     "text": [
      "************************************\n",
      "Recall Score:     0.6904761904761905\n",
      "************************************\n",
      "Accuracy Score:   0.5360475565079146\n",
      "Precision Score:  0.15597766884531591\n",
      "F1 Score:         0.25447073197822945\n",
      "************************************\n"
     ]
    }
   ],
   "source": [
    "y_pred_dt_rs = best_random_search_model.predict(validation_predictors)\n",
    "print(\"************************************\")\n",
    "print(f\"{'Recall Score:':18}{recall_score(validation_target, y_pred_dt_rs)}\")\n",
    "print(\"************************************\")\n",
    "print(f\"{'Accuracy Score: ':18}{accuracy_score(validation_target, y_pred_dt_rs)}\")\n",
    "print(f\"{'Precision Score: ':18}{precision_score(validation_target, y_pred_dt_rs)}\")\n",
    "print(f\"{'F1 Score: ':18}{f1_score(validation_target, y_pred_dt_rs)}\")\n",
    "print(\"************************************\")"
   ]
  },
  {
   "cell_type": "markdown",
   "id": "v70BFv6CfPSN",
   "metadata": {
    "id": "v70BFv6CfPSN"
   },
   "source": [
    "The best parameters found using RandomizedSearchCV were:"
   ]
  },
  {
   "cell_type": "code",
   "execution_count": null,
   "id": "I-k2gjPbe4lV",
   "metadata": {
    "colab": {
     "base_uri": "https://localhost:8080/"
    },
    "id": "I-k2gjPbe4lV",
    "outputId": "6dbd8f7b-3e3b-44f8-8909-12388d338c8a"
   },
   "outputs": [
    {
     "data": {
      "text/plain": [
       "{'min_samples_split': 1316,\n",
       " 'min_samples_leaf': 693,\n",
       " 'min_impurity_decrease': 0.0025,\n",
       " 'max_leaf_nodes': 381,\n",
       " 'max_depth': 20,\n",
       " 'criterion': 'gini'}"
      ]
     },
     "execution_count": 166,
     "metadata": {},
     "output_type": "execute_result"
    }
   ],
   "source": [
    "random_search_best_params"
   ]
  },
  {
   "cell_type": "markdown",
   "id": "y8BY6vDyhNrg",
   "metadata": {
    "id": "y8BY6vDyhNrg"
   },
   "source": [
    "Let's now use these current best parameters as a starting point for a more refined grid search. We'll use the same parameters as before, but we'll use a much smaller range of values for each parameter."
   ]
  },
  {
   "cell_type": "code",
   "execution_count": null,
   "id": "iU2ayVaPe4oB",
   "metadata": {
    "id": "iU2ayVaPe4oB"
   },
   "outputs": [],
   "source": [
    "plus_minus = 10 \n",
    "increment = 100\n",
    "\n",
    "param_grid = { 'min_samples_split': [x for x in range(random_search_best_params['min_samples_split']-plus_minus, random_search_best_params['min_samples_split']+plus_minus,increment) if x >= 100],       \n",
    "              'min_samples_leaf': [x for x in range(random_search_best_params['min_samples_leaf']-plus_minus , random_search_best_params['min_samples_leaf']+plus_minus,increment) if x > 300],\n",
    "              'min_impurity_decrease': [x for x in np.arange(random_search_best_params['min_impurity_decrease']-0.001, random_search_best_params['min_impurity_decrease']+0.001,.0001).round(5) if x >= 0.000],\n",
    "              'max_leaf_nodes':[x for x in range(random_search_best_params['max_leaf_nodes']-plus_minus , random_search_best_params['max_leaf_nodes']+plus_minus, increment) if x > 100],  \n",
    "              'max_depth': [x for x in range(random_search_best_params['max_depth']-plus_minus , random_search_best_params['max_depth']+plus_minus, 2) if x > 2],\n",
    "              'criterion': [random_search_best_params['criterion']]\n",
    "              }\n",
    "\n",
    "best_grid_search_model = GridSearchCV(estimator=DecisionTreeClassifier(random_state=seed), \n",
    "                                    scoring='recall', param_grid=param_grid, cv=10, verbose=0,  n_jobs = -1)\n",
    "_ = best_grid_search_model.fit(train_predictors, train_target)"
   ]
  },
  {
   "cell_type": "code",
   "execution_count": null,
   "id": "9sUVnxmHe4rO",
   "metadata": {
    "colab": {
     "base_uri": "https://localhost:8080/"
    },
    "id": "9sUVnxmHe4rO",
    "outputId": "866f65b9-bf7a-4e3c-de10-87b697a3db80"
   },
   "outputs": [
    {
     "name": "stdout",
     "output_type": "stream",
     "text": [
      "Best parameters found:  {'criterion': 'gini', 'max_depth': 10, 'max_leaf_nodes': 371, 'min_impurity_decrease': 0.0015, 'min_samples_leaf': 683, 'min_samples_split': 1306}\n"
     ]
    }
   ],
   "source": [
    "print('Best parameters found: ', best_grid_search_model.best_params_)"
   ]
  },
  {
   "cell_type": "markdown",
   "id": "jFI_wtLwhhpk",
   "metadata": {
    "id": "jFI_wtLwhhpk"
   },
   "source": [
    "Test the performance of the model using identified parameters"
   ]
  },
  {
   "cell_type": "code",
   "execution_count": null,
   "id": "Ph4IAU6Ahoud",
   "metadata": {
    "colab": {
     "base_uri": "https://localhost:8080/"
    },
    "id": "Ph4IAU6Ahoud",
    "outputId": "544020d1-1dad-45ac-d7db-9185d219bd5a"
   },
   "outputs": [
    {
     "name": "stdout",
     "output_type": "stream",
     "text": [
      "************************************\n",
      "Recall Score:     0.6904761904761905\n",
      "************************************\n",
      "Accuracy Score:   0.5360475565079146\n",
      "Precision Score:  0.15597766884531591\n",
      "F1 Score:         0.25447073197822945\n",
      "************************************\n"
     ]
    }
   ],
   "source": [
    "y_pred_dt_gs = best_grid_search_model.predict(validation_predictors)\n",
    "print(\"************************************\")\n",
    "print(f\"{'Recall Score:':18}{recall_score(validation_target, y_pred_dt_gs)}\")\n",
    "print(\"************************************\")\n",
    "print(f\"{'Accuracy Score: ':18}{accuracy_score(validation_target, y_pred_dt_gs)}\")\n",
    "print(f\"{'Precision Score: ':18}{precision_score(validation_target, y_pred_dt_gs)}\")\n",
    "print(f\"{'F1 Score: ':18}{f1_score(validation_target, y_pred_dt_gs)}\")\n",
    "print(\"************************************\")"
   ]
  },
  {
   "cell_type": "code",
   "execution_count": null,
   "id": "LuVsSZxPe4vw",
   "metadata": {
    "id": "LuVsSZxPe4vw"
   },
   "outputs": [],
   "source": [
    "accuracy_dt_gs = accuracy_score(validation_target, y_pred_dt_gs)\n",
    "precision_dt_gs = precision_score(validation_target, y_pred_dt_gs)\n",
    "recall_dt_gs = recall_score(validation_target, y_pred_dt_gs)"
   ]
  },
  {
   "cell_type": "markdown",
   "id": "QaKBzZpFQary",
   "metadata": {
    "id": "QaKBzZpFQary"
   },
   "source": [
    "## 7.5 RandomForest (using default parameters)\n"
   ]
  },
  {
   "cell_type": "code",
   "execution_count": null,
   "id": "c558e1a5-dd39-44a8-b728-c925525ebe5b",
   "metadata": {
    "id": "c558e1a5-dd39-44a8-b728-c925525ebe5b"
   },
   "outputs": [],
   "source": [
    "rforest = RandomForestClassifier(random_state=seed)"
   ]
  },
  {
   "cell_type": "code",
   "execution_count": null,
   "id": "oTfnt-nrQdm4",
   "metadata": {
    "id": "oTfnt-nrQdm4"
   },
   "outputs": [],
   "source": [
    "_ = rforest.fit(train_predictors, train_target)"
   ]
  },
  {
   "cell_type": "code",
   "execution_count": null,
   "id": "L4v5Z39pQeHj",
   "metadata": {
    "id": "L4v5Z39pQeHj"
   },
   "outputs": [],
   "source": [
    "y_pred_Rf = rforest.predict(validation_predictors)"
   ]
  },
  {
   "cell_type": "code",
   "execution_count": null,
   "id": "jrVzSG5oQcVe",
   "metadata": {
    "colab": {
     "base_uri": "https://localhost:8080/"
    },
    "id": "jrVzSG5oQcVe",
    "outputId": "27ed076e-1c57-4791-a265-10d09053a1d3"
   },
   "outputs": [
    {
     "name": "stdout",
     "output_type": "stream",
     "text": [
      "      Model             Score       \n",
      "************************************\n",
      ">> Recall Score:  0.024412296564195298\n",
      "Accuracy Score:   0.8839427662957074\n",
      "Precision Score:  0.400990099009901\n",
      "F1 Score:         0.04602272727272727\n"
     ]
    }
   ],
   "source": [
    "print(f\"{'Model':^18}{'Score':^18}\")\n",
    "print(\"************************************\")\n",
    "print(f\"{'>> Recall Score:':18}{recall_score(validation_target, y_pred_Rf)}\")\n",
    "print(f\"{'Accuracy Score: ':18}{accuracy_score(validation_target, y_pred_Rf)}\")\n",
    "print(f\"{'Precision Score: ':18}{precision_score(validation_target, y_pred_Rf)}\")\n",
    "print(f\"{'F1 Score: ':18}{f1_score(validation_target, y_pred_Rf)}\")"
   ]
  },
  {
   "cell_type": "markdown",
   "id": "-JIVwAysQqSn",
   "metadata": {
    "id": "-JIVwAysQqSn"
   },
   "source": [
    "Save the recall result from this model"
   ]
  },
  {
   "cell_type": "code",
   "execution_count": null,
   "id": "XGa7kJpUQcb2",
   "metadata": {
    "id": "XGa7kJpUQcb2"
   },
   "outputs": [],
   "source": [
    "rforest_recall = recall_score(validation_target, y_pred_Rf)"
   ]
  },
  {
   "cell_type": "markdown",
   "id": "FLO2I9a8sj1H",
   "metadata": {
    "id": "FLO2I9a8sj1H"
   },
   "source": [
    "## 7.6 RandomForest (HyperParam tuning)"
   ]
  },
  {
   "cell_type": "code",
   "execution_count": null,
   "id": "0kKZdmfdQcYf",
   "metadata": {
    "id": "0kKZdmfdQcYf"
   },
   "outputs": [],
   "source": [
    "rf_param = {'n_estimators':list(range(100,200,10)) , \n",
    "         'max_depth':list(range(1,10)) , \n",
    "         'criterion':['gini','entropy'] ,\n",
    "         'max_samples':list(range(1,10))    \n",
    "}"
   ]
  },
  {
   "cell_type": "code",
   "execution_count": null,
   "id": "0JGRyzX9spJs",
   "metadata": {
    "id": "0JGRyzX9spJs"
   },
   "outputs": [],
   "source": [
    "rscv = RandomizedSearchCV(rforest ,param_distributions=rf_param ,  cv =5 , n_iter=25 , scoring = 'recall',n_jobs =-1 , verbose =10)"
   ]
  },
  {
   "cell_type": "code",
   "execution_count": null,
   "id": "rz9oVsbEstG2",
   "metadata": {
    "colab": {
     "base_uri": "https://localhost:8080/"
    },
    "id": "rz9oVsbEstG2",
    "outputId": "b65d8a57-b149-4170-b421-d07978ec7c84"
   },
   "outputs": [
    {
     "name": "stdout",
     "output_type": "stream",
     "text": [
      "Fitting 5 folds for each of 25 candidates, totalling 125 fits\n"
     ]
    },
    {
     "data": {
      "text/plain": [
       "RandomizedSearchCV(cv=5, estimator=RandomForestClassifier(random_state=42),\n",
       "                   n_iter=25, n_jobs=-1,\n",
       "                   param_distributions={'criterion': ['gini', 'entropy'],\n",
       "                                        'max_depth': [1, 2, 3, 4, 5, 6, 7, 8,\n",
       "                                                      9],\n",
       "                                        'max_samples': [1, 2, 3, 4, 5, 6, 7, 8,\n",
       "                                                        9],\n",
       "                                        'n_estimators': [100, 110, 120, 130,\n",
       "                                                         140, 150, 160, 170,\n",
       "                                                         180, 190]},\n",
       "                   scoring='recall', verbose=10)"
      ]
     },
     "execution_count": 186,
     "metadata": {},
     "output_type": "execute_result"
    }
   ],
   "source": [
    "rscv.fit(train_predictors, train_target)"
   ]
  },
  {
   "cell_type": "code",
   "execution_count": null,
   "id": "Rrlv--mDsyNT",
   "metadata": {
    "colab": {
     "base_uri": "https://localhost:8080/"
    },
    "id": "Rrlv--mDsyNT",
    "outputId": "4013304a-7b16-444f-db7f-da5cfaa5d12e"
   },
   "outputs": [
    {
     "name": "stdout",
     "output_type": "stream",
     "text": [
      "0.8145547218573952\n",
      "RandomForestClassifier(criterion='entropy', max_depth=4, max_samples=3,\n",
      "                       n_estimators=150, random_state=42)\n",
      "8\n",
      "{'n_estimators': 150, 'max_samples': 3, 'max_depth': 4, 'criterion': 'entropy'}\n"
     ]
    }
   ],
   "source": [
    "print(rscv.best_score_)\n",
    "print(rscv.best_estimator_)\n",
    "print(rscv.best_index_)\n",
    "print(rscv.best_params_)"
   ]
  },
  {
   "cell_type": "code",
   "execution_count": null,
   "id": "T3goYJIQyMvC",
   "metadata": {
    "colab": {
     "base_uri": "https://localhost:8080/"
    },
    "id": "T3goYJIQyMvC",
    "outputId": "68fe069b-1d05-4845-f02f-259e6a7a9f18"
   },
   "outputs": [
    {
     "name": "stdout",
     "output_type": "stream",
     "text": [
      "RandomForestClassifier(criterion='entropy', max_depth=4, max_samples=3,\n",
      "                       n_estimators=150, random_state=42)\n",
      "Accuracy score of RF after tuning is : 0.35439275592728275\n"
     ]
    }
   ],
   "source": [
    "# Fit and predict\n",
    "rf = RandomForestClassifier(criterion='entropy', max_depth=4, max_samples=3,\n",
    "                       n_estimators=150,random_state=42)\n",
    "print(rf.fit(train_predictors, train_target))\n",
    "print(\"Accuracy score of RF after tuning is :\", accuracy_score(rf.predict(validation_predictors) , validation_target))\n",
    "bestrf_pred = rf.predict(validation_predictors)"
   ]
  },
  {
   "cell_type": "code",
   "execution_count": null,
   "id": "ID_DolREi6LM",
   "metadata": {
    "colab": {
     "base_uri": "https://localhost:8080/"
    },
    "id": "ID_DolREi6LM",
    "outputId": "5197725a-5243-4804-d061-79d525d26ad0"
   },
   "outputs": [
    {
     "name": "stdout",
     "output_type": "stream",
     "text": [
      "      Model             Score       \n",
      "************************************\n",
      ">> Recall Score:  0.7992766726943942\n",
      "Accuracy Score:   0.35439275592728275\n",
      "Precision Score:  0.12832672021678118\n",
      "F1 Score:         0.22114743162108072\n"
     ]
    }
   ],
   "source": [
    "print(f\"{'Model':^18}{'Score':^18}\")\n",
    "print(\"************************************\")\n",
    "print(f\"{'>> Recall Score:':18}{recall_score(validation_target, bestrf_pred)}\")\n",
    "print(f\"{'Accuracy Score: ':18}{accuracy_score(validation_target, bestrf_pred)}\")\n",
    "print(f\"{'Precision Score: ':18}{precision_score(validation_target, bestrf_pred)}\")\n",
    "print(f\"{'F1 Score: ':18}{f1_score(validation_target, bestrf_pred)}\")"
   ]
  },
  {
   "cell_type": "code",
   "execution_count": null,
   "id": "MQrYHnsC9QuH",
   "metadata": {
    "id": "MQrYHnsC9QuH"
   },
   "outputs": [],
   "source": [
    "accuracy_rf_ht = accuracy_score(validation_target, bestrf_pred)\n",
    "precision_rf_ht = precision_score(validation_target, bestrf_pred)\n",
    "recall_rf_ht = recall_score(validation_target, bestrf_pred)"
   ]
  },
  {
   "cell_type": "markdown",
   "id": "BCsq2r7UR5wW",
   "metadata": {
    "id": "BCsq2r7UR5wW"
   },
   "source": [
    "## 7.7 ADABoost (using default parameters)"
   ]
  },
  {
   "cell_type": "code",
   "execution_count": null,
   "id": "aaEvVYcqR7Y4",
   "metadata": {
    "id": "aaEvVYcqR7Y4"
   },
   "outputs": [],
   "source": [
    "aboost = AdaBoostClassifier(random_state=seed)\n",
    "\n",
    "# as with most classifiers, you can experiment with the parameter values\n",
    "#aboost = AdaBoostClassifier(random_state=random_seed, base_estimator=DecisionTreeClassifier(max_depth=4, random_state=random_seed))\n",
    "#aboost = AdaBoostClassifier(random_state=random_seed, n_estimators=1000)"
   ]
  },
  {
   "cell_type": "code",
   "execution_count": null,
   "id": "mnvkBnwmSDak",
   "metadata": {
    "id": "mnvkBnwmSDak"
   },
   "outputs": [],
   "source": [
    "_ = aboost.fit(train_predictors, train_target)"
   ]
  },
  {
   "cell_type": "code",
   "execution_count": null,
   "id": "MWCMTY5iSEOX",
   "metadata": {
    "id": "MWCMTY5iSEOX"
   },
   "outputs": [],
   "source": [
    "y_pred_ada = aboost.predict(validation_predictors)"
   ]
  },
  {
   "cell_type": "code",
   "execution_count": null,
   "id": "YVRAfTyzSG64",
   "metadata": {
    "colab": {
     "base_uri": "https://localhost:8080/"
    },
    "id": "YVRAfTyzSG64",
    "outputId": "c79ea3d7-746b-4aa5-f7c5-af3381dd16f9"
   },
   "outputs": [
    {
     "name": "stdout",
     "output_type": "stream",
     "text": [
      "      Model             Score       \n",
      "************************************\n",
      ">> Recall Score:  0.5632911392405063\n",
      "Accuracy Score:   0.6534872468376305\n",
      "Precision Score:  0.17892016082711085\n",
      "F1 Score:         0.2715780296425458\n"
     ]
    }
   ],
   "source": [
    "print(f\"{'Model':^18}{'Score':^18}\")\n",
    "print(\"************************************\")\n",
    "print(f\"{'>> Recall Score:':18}{recall_score(validation_target, y_pred_ada)}\")\n",
    "print(f\"{'Accuracy Score: ':18}{accuracy_score(validation_target, y_pred_ada)}\")\n",
    "print(f\"{'Precision Score: ':18}{precision_score(validation_target, y_pred_ada)}\")\n",
    "print(f\"{'F1 Score: ':18}{f1_score(validation_target, y_pred_ada)}\")"
   ]
  },
  {
   "cell_type": "markdown",
   "id": "owwIq3S1SY6l",
   "metadata": {
    "id": "owwIq3S1SY6l"
   },
   "source": [
    "Save the recall result from this model"
   ]
  },
  {
   "cell_type": "code",
   "execution_count": null,
   "id": "n-Ab-47mQch8",
   "metadata": {
    "id": "n-Ab-47mQch8"
   },
   "outputs": [],
   "source": [
    "aboost_recall = recall_score(validation_target, y_pred_ada)"
   ]
  },
  {
   "cell_type": "code",
   "execution_count": null,
   "id": "2ZDvve3MvAql",
   "metadata": {
    "id": "2ZDvve3MvAql"
   },
   "outputs": [],
   "source": [
    "accuracy_ada = accuracy_score(validation_target, y_pred_ada)\n",
    "precision_ada = precision_score(validation_target, y_pred_ada)\n",
    "recall_ada = recall_score(validation_target, y_pred_ada)"
   ]
  },
  {
   "cell_type": "markdown",
   "id": "8-z8yvUGTM5r",
   "metadata": {
    "id": "8-z8yvUGTM5r"
   },
   "source": [
    "## 7.8 GradientBoostingClassifier (using default parameters)"
   ]
  },
  {
   "cell_type": "code",
   "execution_count": null,
   "id": "D_Qj-DzWTOiW",
   "metadata": {
    "id": "D_Qj-DzWTOiW"
   },
   "outputs": [],
   "source": [
    "gboost = GradientBoostingClassifier(random_state=seed)"
   ]
  },
  {
   "cell_type": "code",
   "execution_count": null,
   "id": "pbjZTwtbTOlM",
   "metadata": {
    "id": "pbjZTwtbTOlM"
   },
   "outputs": [],
   "source": [
    "_ = gboost.fit(train_predictors, train_target)"
   ]
  },
  {
   "cell_type": "code",
   "execution_count": null,
   "id": "Em0D6NpATOoY",
   "metadata": {
    "id": "Em0D6NpATOoY"
   },
   "outputs": [],
   "source": [
    "y_pred_gb = gboost.predict(validation_predictors)"
   ]
  },
  {
   "cell_type": "code",
   "execution_count": null,
   "id": "9L04OX8TTOsA",
   "metadata": {
    "colab": {
     "base_uri": "https://localhost:8080/"
    },
    "id": "9L04OX8TTOsA",
    "outputId": "a5e2a148-e0c9-4c7a-a6c0-65bdb750a652"
   },
   "outputs": [
    {
     "name": "stdout",
     "output_type": "stream",
     "text": [
      "      Model             Score       \n",
      "************************************\n",
      ">> Recall Score:  0.6000602772754672\n",
      "Accuracy Score:   0.6318518006497547\n",
      "Precision Score:  0.17594556380346413\n",
      "F1 Score:         0.2721060543938773\n"
     ]
    }
   ],
   "source": [
    "print(f\"{'Model':^18}{'Score':^18}\")\n",
    "print(\"************************************\")\n",
    "print(f\"{'>> Recall Score:':18}{recall_score(validation_target, y_pred_gb)}\")\n",
    "print(f\"{'Accuracy Score: ':18}{accuracy_score(validation_target, y_pred_gb)}\")\n",
    "print(f\"{'Precision Score: ':18}{precision_score(validation_target, y_pred_gb)}\")\n",
    "print(f\"{'F1 Score: ':18}{f1_score(validation_target, y_pred_gb)}\")"
   ]
  },
  {
   "cell_type": "markdown",
   "id": "mHoYOS4STg5u",
   "metadata": {
    "id": "mHoYOS4STg5u"
   },
   "source": [
    "Save the recall result from this model"
   ]
  },
  {
   "cell_type": "code",
   "execution_count": null,
   "id": "LjpreloJTiEp",
   "metadata": {
    "id": "LjpreloJTiEp"
   },
   "outputs": [],
   "source": [
    "gboost_recall = recall_score(validation_target, y_pred_gb)"
   ]
  },
  {
   "cell_type": "code",
   "execution_count": null,
   "id": "u2MNUFbovaJZ",
   "metadata": {
    "id": "u2MNUFbovaJZ"
   },
   "outputs": [],
   "source": [
    "accuracy_gboost = accuracy_score(validation_target, y_pred_gb)\n",
    "precision_gboost = precision_score(validation_target, y_pred_gb)\n",
    "recall_gboost = recall_score(validation_target, y_pred_gb)"
   ]
  },
  {
   "cell_type": "markdown",
   "id": "M7blIoM1JGF8",
   "metadata": {
    "id": "M7blIoM1JGF8"
   },
   "source": [
    "### 7.8.1 Classification metrics for different threshold levels (GradientBoostingClassifier)"
   ]
  },
  {
   "cell_type": "code",
   "execution_count": null,
   "id": "jgk30T9EHDFE",
   "metadata": {
    "colab": {
     "base_uri": "https://localhost:8080/",
     "height": 446
    },
    "id": "jgk30T9EHDFE",
    "outputId": "7ca0edec-03a1-44ec-9c74-5e03aa73330c"
   },
   "outputs": [
    {
     "name": "stdout",
     "output_type": "stream",
     "text": [
      "0    25616\n",
      "1     3318\n",
      "Name: readmitted, dtype: int64\n"
     ]
    },
    {
     "data": {
      "text/html": [
       "\n",
       "  <div id=\"df-f2b378e4-3f10-460f-8768-a4106e0a0d39\">\n",
       "    <div class=\"colab-df-container\">\n",
       "      <div>\n",
       "<style scoped>\n",
       "    .dataframe tbody tr th:only-of-type {\n",
       "        vertical-align: middle;\n",
       "    }\n",
       "\n",
       "    .dataframe tbody tr th {\n",
       "        vertical-align: top;\n",
       "    }\n",
       "\n",
       "    .dataframe thead th {\n",
       "        text-align: right;\n",
       "    }\n",
       "</style>\n",
       "<table border=\"1\" class=\"dataframe\">\n",
       "  <thead>\n",
       "    <tr style=\"text-align: right;\">\n",
       "      <th></th>\n",
       "      <th>Threshold</th>\n",
       "      <th>TP</th>\n",
       "      <th>FP</th>\n",
       "      <th>TN</th>\n",
       "      <th>FN</th>\n",
       "      <th>FPR</th>\n",
       "      <th>TPR</th>\n",
       "      <th>Precision</th>\n",
       "      <th>Recall</th>\n",
       "      <th>Accuracy</th>\n",
       "    </tr>\n",
       "  </thead>\n",
       "  <tbody>\n",
       "    <tr>\n",
       "      <th>0</th>\n",
       "      <td>0.0</td>\n",
       "      <td>3318</td>\n",
       "      <td>25616</td>\n",
       "      <td>0</td>\n",
       "      <td>0</td>\n",
       "      <td>1.000000</td>\n",
       "      <td>1.000000</td>\n",
       "      <td>0.114675</td>\n",
       "      <td>1.000000</td>\n",
       "      <td>0.114675</td>\n",
       "    </tr>\n",
       "    <tr>\n",
       "      <th>1</th>\n",
       "      <td>0.1</td>\n",
       "      <td>3318</td>\n",
       "      <td>25616</td>\n",
       "      <td>0</td>\n",
       "      <td>0</td>\n",
       "      <td>1.000000</td>\n",
       "      <td>1.000000</td>\n",
       "      <td>0.114675</td>\n",
       "      <td>1.000000</td>\n",
       "      <td>0.114675</td>\n",
       "    </tr>\n",
       "    <tr>\n",
       "      <th>2</th>\n",
       "      <td>0.2</td>\n",
       "      <td>3315</td>\n",
       "      <td>25581</td>\n",
       "      <td>35</td>\n",
       "      <td>3</td>\n",
       "      <td>0.998634</td>\n",
       "      <td>0.999096</td>\n",
       "      <td>0.114722</td>\n",
       "      <td>0.999096</td>\n",
       "      <td>0.115781</td>\n",
       "    </tr>\n",
       "    <tr>\n",
       "      <th>3</th>\n",
       "      <td>0.3</td>\n",
       "      <td>3258</td>\n",
       "      <td>24113</td>\n",
       "      <td>1503</td>\n",
       "      <td>60</td>\n",
       "      <td>0.941326</td>\n",
       "      <td>0.981917</td>\n",
       "      <td>0.119031</td>\n",
       "      <td>0.981917</td>\n",
       "      <td>0.164547</td>\n",
       "    </tr>\n",
       "    <tr>\n",
       "      <th>4</th>\n",
       "      <td>0.4</td>\n",
       "      <td>2702</td>\n",
       "      <td>16356</td>\n",
       "      <td>9260</td>\n",
       "      <td>616</td>\n",
       "      <td>0.638507</td>\n",
       "      <td>0.814346</td>\n",
       "      <td>0.141778</td>\n",
       "      <td>0.814346</td>\n",
       "      <td>0.413424</td>\n",
       "    </tr>\n",
       "    <tr>\n",
       "      <th>5</th>\n",
       "      <td>0.5</td>\n",
       "      <td>1960</td>\n",
       "      <td>9178</td>\n",
       "      <td>16438</td>\n",
       "      <td>1358</td>\n",
       "      <td>0.358292</td>\n",
       "      <td>0.590717</td>\n",
       "      <td>0.175974</td>\n",
       "      <td>0.590717</td>\n",
       "      <td>0.635861</td>\n",
       "    </tr>\n",
       "    <tr>\n",
       "      <th>6</th>\n",
       "      <td>0.6</td>\n",
       "      <td>995</td>\n",
       "      <td>3513</td>\n",
       "      <td>22103</td>\n",
       "      <td>2323</td>\n",
       "      <td>0.137141</td>\n",
       "      <td>0.299879</td>\n",
       "      <td>0.220719</td>\n",
       "      <td>0.299879</td>\n",
       "      <td>0.798300</td>\n",
       "    </tr>\n",
       "    <tr>\n",
       "      <th>7</th>\n",
       "      <td>0.7</td>\n",
       "      <td>329</td>\n",
       "      <td>776</td>\n",
       "      <td>24840</td>\n",
       "      <td>2989</td>\n",
       "      <td>0.030294</td>\n",
       "      <td>0.099156</td>\n",
       "      <td>0.297738</td>\n",
       "      <td>0.099156</td>\n",
       "      <td>0.869876</td>\n",
       "    </tr>\n",
       "    <tr>\n",
       "      <th>8</th>\n",
       "      <td>0.8</td>\n",
       "      <td>107</td>\n",
       "      <td>169</td>\n",
       "      <td>25447</td>\n",
       "      <td>3211</td>\n",
       "      <td>0.006597</td>\n",
       "      <td>0.032248</td>\n",
       "      <td>0.387681</td>\n",
       "      <td>0.032248</td>\n",
       "      <td>0.883182</td>\n",
       "    </tr>\n",
       "    <tr>\n",
       "      <th>9</th>\n",
       "      <td>0.9</td>\n",
       "      <td>5</td>\n",
       "      <td>6</td>\n",
       "      <td>25610</td>\n",
       "      <td>3313</td>\n",
       "      <td>0.000234</td>\n",
       "      <td>0.001507</td>\n",
       "      <td>0.454545</td>\n",
       "      <td>0.001507</td>\n",
       "      <td>0.885291</td>\n",
       "    </tr>\n",
       "    <tr>\n",
       "      <th>10</th>\n",
       "      <td>1.0</td>\n",
       "      <td>0</td>\n",
       "      <td>0</td>\n",
       "      <td>25616</td>\n",
       "      <td>3318</td>\n",
       "      <td>0.000000</td>\n",
       "      <td>0.000000</td>\n",
       "      <td>NaN</td>\n",
       "      <td>0.000000</td>\n",
       "      <td>0.885325</td>\n",
       "    </tr>\n",
       "  </tbody>\n",
       "</table>\n",
       "</div>\n",
       "      <button class=\"colab-df-convert\" onclick=\"convertToInteractive('df-f2b378e4-3f10-460f-8768-a4106e0a0d39')\"\n",
       "              title=\"Convert this dataframe to an interactive table.\"\n",
       "              style=\"display:none;\">\n",
       "        \n",
       "  <svg xmlns=\"http://www.w3.org/2000/svg\" height=\"24px\"viewBox=\"0 0 24 24\"\n",
       "       width=\"24px\">\n",
       "    <path d=\"M0 0h24v24H0V0z\" fill=\"none\"/>\n",
       "    <path d=\"M18.56 5.44l.94 2.06.94-2.06 2.06-.94-2.06-.94-.94-2.06-.94 2.06-2.06.94zm-11 1L8.5 8.5l.94-2.06 2.06-.94-2.06-.94L8.5 2.5l-.94 2.06-2.06.94zm10 10l.94 2.06.94-2.06 2.06-.94-2.06-.94-.94-2.06-.94 2.06-2.06.94z\"/><path d=\"M17.41 7.96l-1.37-1.37c-.4-.4-.92-.59-1.43-.59-.52 0-1.04.2-1.43.59L10.3 9.45l-7.72 7.72c-.78.78-.78 2.05 0 2.83L4 21.41c.39.39.9.59 1.41.59.51 0 1.02-.2 1.41-.59l7.78-7.78 2.81-2.81c.8-.78.8-2.07 0-2.86zM5.41 20L4 18.59l7.72-7.72 1.47 1.35L5.41 20z\"/>\n",
       "  </svg>\n",
       "      </button>\n",
       "      \n",
       "  <style>\n",
       "    .colab-df-container {\n",
       "      display:flex;\n",
       "      flex-wrap:wrap;\n",
       "      gap: 12px;\n",
       "    }\n",
       "\n",
       "    .colab-df-convert {\n",
       "      background-color: #E8F0FE;\n",
       "      border: none;\n",
       "      border-radius: 50%;\n",
       "      cursor: pointer;\n",
       "      display: none;\n",
       "      fill: #1967D2;\n",
       "      height: 32px;\n",
       "      padding: 0 0 0 0;\n",
       "      width: 32px;\n",
       "    }\n",
       "\n",
       "    .colab-df-convert:hover {\n",
       "      background-color: #E2EBFA;\n",
       "      box-shadow: 0px 1px 2px rgba(60, 64, 67, 0.3), 0px 1px 3px 1px rgba(60, 64, 67, 0.15);\n",
       "      fill: #174EA6;\n",
       "    }\n",
       "\n",
       "    [theme=dark] .colab-df-convert {\n",
       "      background-color: #3B4455;\n",
       "      fill: #D2E3FC;\n",
       "    }\n",
       "\n",
       "    [theme=dark] .colab-df-convert:hover {\n",
       "      background-color: #434B5C;\n",
       "      box-shadow: 0px 1px 3px 1px rgba(0, 0, 0, 0.15);\n",
       "      filter: drop-shadow(0px 1px 2px rgba(0, 0, 0, 0.3));\n",
       "      fill: #FFFFFF;\n",
       "    }\n",
       "  </style>\n",
       "\n",
       "      <script>\n",
       "        const buttonEl =\n",
       "          document.querySelector('#df-f2b378e4-3f10-460f-8768-a4106e0a0d39 button.colab-df-convert');\n",
       "        buttonEl.style.display =\n",
       "          google.colab.kernel.accessAllowed ? 'block' : 'none';\n",
       "\n",
       "        async function convertToInteractive(key) {\n",
       "          const element = document.querySelector('#df-f2b378e4-3f10-460f-8768-a4106e0a0d39');\n",
       "          const dataTable =\n",
       "            await google.colab.kernel.invokeFunction('convertToInteractive',\n",
       "                                                     [key], {});\n",
       "          if (!dataTable) return;\n",
       "\n",
       "          const docLinkHtml = 'Like what you see? Visit the ' +\n",
       "            '<a target=\"_blank\" href=https://colab.research.google.com/notebooks/data_table.ipynb>data table notebook</a>'\n",
       "            + ' to learn more about interactive tables.';\n",
       "          element.innerHTML = '';\n",
       "          dataTable['output_type'] = 'display_data';\n",
       "          await google.colab.output.renderOutput(dataTable, element);\n",
       "          const docLink = document.createElement('div');\n",
       "          docLink.innerHTML = docLinkHtml;\n",
       "          element.appendChild(docLink);\n",
       "        }\n",
       "      </script>\n",
       "    </div>\n",
       "  </div>\n",
       "  "
      ],
      "text/plain": [
       "   Threshold    TP     FP     TN    FN       FPR       TPR  Precision  \\\n",
       "0        0.0  3318  25616      0     0  1.000000  1.000000   0.114675   \n",
       "1        0.1  3318  25616      0     0  1.000000  1.000000   0.114675   \n",
       "2        0.2  3315  25581     35     3  0.998634  0.999096   0.114722   \n",
       "3        0.3  3258  24113   1503    60  0.941326  0.981917   0.119031   \n",
       "4        0.4  2702  16356   9260   616  0.638507  0.814346   0.141778   \n",
       "5        0.5  1960   9178  16438  1358  0.358292  0.590717   0.175974   \n",
       "6        0.6   995   3513  22103  2323  0.137141  0.299879   0.220719   \n",
       "7        0.7   329    776  24840  2989  0.030294  0.099156   0.297738   \n",
       "8        0.8   107    169  25447  3211  0.006597  0.032248   0.387681   \n",
       "9        0.9     5      6  25610  3313  0.000234  0.001507   0.454545   \n",
       "10       1.0     0      0  25616  3318  0.000000  0.000000        NaN   \n",
       "\n",
       "      Recall  Accuracy  \n",
       "0   1.000000  0.114675  \n",
       "1   1.000000  0.114675  \n",
       "2   0.999096  0.115781  \n",
       "3   0.981917  0.164547  \n",
       "4   0.814346  0.413424  \n",
       "5   0.590717  0.635861  \n",
       "6   0.299879  0.798300  \n",
       "7   0.099156  0.869876  \n",
       "8   0.032248  0.883182  \n",
       "9   0.001507  0.885291  \n",
       "10  0.000000  0.885325  "
      ]
     },
     "execution_count": 39,
     "metadata": {},
     "output_type": "execute_result"
    }
   ],
   "source": [
    "# Classification metrics for different threshold levels\n",
    "gboost = GradientBoostingClassifier(random_state=seed)\n",
    "\n",
    "# fit the model\n",
    "_ = gboost.fit(train_predictors, train_target)\n",
    "\n",
    "tps = []\n",
    "fps = []\n",
    "tns = []\n",
    "fns = []  \n",
    "precs = []\n",
    "recls = []\n",
    "accur = []\n",
    "\n",
    "tprs = []\n",
    "fprs = []\n",
    "thres = []\n",
    "for threshold in np.arange(0.0,1.1, 0.1):  \n",
    "    y_pred_gb_1 = gboost.predict_proba(validation_predictors)[:,1]>=threshold\n",
    "    cm = confusion_matrix(validation_target, y_pred_gb_1)\n",
    "    TP = cm[1,1]\n",
    "    TN = cm[0,0]\n",
    "    FP = cm[0,1]\n",
    "    FN = cm[1,0]\n",
    "    TPR = TP/(TP+FN)\n",
    "    FPR = FP/(FP+TN)\n",
    "    recall = TP / (TP+FN)\n",
    "    precision = TP / (TP+FP)\n",
    "    accuracy =  (TP + TN)/ (TP + FN + TN + FP)\n",
    "    tps.append(TP)\n",
    "    fps.append(FP)\n",
    "    tns.append(TN)\n",
    "    fns.append(FN)\n",
    "    tprs.append(TPR)\n",
    "    fprs.append(FPR)\n",
    "    recls.append(recall)\n",
    "    precs.append(precision)\n",
    "    accur.append(accuracy)\n",
    "    thres.append(str(round(threshold,2)))\n",
    "\n",
    "print(validation_target.value_counts())\n",
    "df = pd.DataFrame(list(zip(thres, tps, fps, tns, fns, fprs, tprs, precs, recls,accur)), columns=['Threshold', 'TP', 'FP', 'TN', 'FN', 'FPR', 'TPR', 'Precision', 'Recall','Accuracy'])\n",
    "df\n",
    "\n",
    "    \n"
   ]
  },
  {
   "cell_type": "markdown",
   "id": "b5cdHzm1KCbI",
   "metadata": {
    "id": "b5cdHzm1KCbI"
   },
   "source": [
    "### 7.8.2 ROC Curve\n",
    "\n",
    "ROC Curve:\n",
    "\n",
    "ROC Curve stands for Receiver Operating Characteristic Curve. An ROC Curve is a plot which shows the performance of a classification model at various classification threshold levels.\n",
    "\n",
    "The ROC Curve plots the True Positive Rate (TPR) against the False Positive Rate (FPR) at various threshold levels.\n",
    "\n",
    "True Positive Rate (TPR) is also called Recall. It is defined as the ratio of TP to (TP + FN).\n",
    "\n",
    "False Positive Rate (FPR) is defined as the ratio of FP to (FP + TN).\n",
    "\n",
    "ROC AUC:\n",
    "\n",
    "ROC AUC stands for Receiver Operating Characteristic - Area Under Curve It is a method for evaluating the effectiveness of classifiers. We measure the area under the curve using this method (AUC). A classifier that is completely random will have a ROC AUC of 0.5 while a flawless classifier will have a ROC AUC of 1. Consequently, ROC AUC is the portion of the ROC plot that is below the curve. roc_auc = auc(tprs, fprs)"
   ]
  },
  {
   "cell_type": "code",
   "execution_count": null,
   "id": "_E0zDtZsJCjB",
   "metadata": {
    "colab": {
     "base_uri": "https://localhost:8080/",
     "height": 279
    },
    "id": "_E0zDtZsJCjB",
    "outputId": "29db95b2-9032-4193-f022-fd09ca6c34f4"
   },
   "outputs": [
    {
     "data": {
      "image/png": "[encoded data removed]",
      "text/plain": [
       "<Figure size 432x288 with 1 Axes>"
      ]
     },
     "metadata": {
      "needs_background": "light"
     },
     "output_type": "display_data"
    }
   ],
   "source": [
    "RocCurveDisplay.from_estimator(gboost, validation_predictors, validation_target) \n",
    "plt.show()"
   ]
  },
  {
   "cell_type": "markdown",
   "id": "IgyDlK2pLl3g",
   "metadata": {
    "id": "IgyDlK2pLl3g"
   },
   "source": [
    "The performance of a classifier is summarized by ROC AUC. The classifier performs better when the value is higher.\n",
    "Our model's ROC AUC is 0.66 which leans in the direction of 1. We can therefore draw the conclusion that our classifier is effective at predicting whether patient will readmit or not."
   ]
  },
  {
   "cell_type": "markdown",
   "id": "qDyaWfrCUNP9",
   "metadata": {
    "id": "qDyaWfrCUNP9"
   },
   "source": [
    "## 7.9 XGBoost (using default parameters)"
   ]
  },
  {
   "cell_type": "code",
   "execution_count": null,
   "id": "Lj7-x2CCTO0E",
   "metadata": {
    "id": "Lj7-x2CCTO0E"
   },
   "outputs": [],
   "source": [
    "xgboost_model = XGBClassifier(random_state=seed)\n"
   ]
  },
  {
   "cell_type": "code",
   "execution_count": null,
   "id": "ZItfoKSMUVUw",
   "metadata": {
    "id": "ZItfoKSMUVUw"
   },
   "outputs": [],
   "source": [
    "_ = xgboost_model.fit(train_predictors, train_target)"
   ]
  },
  {
   "cell_type": "code",
   "execution_count": null,
   "id": "I1yE1UgOUcij",
   "metadata": {
    "id": "I1yE1UgOUcij"
   },
   "outputs": [],
   "source": [
    "y_pred_xg = xgboost_model.predict(validation_predictors)"
   ]
  },
  {
   "cell_type": "code",
   "execution_count": null,
   "id": "sEvSiLl5Uf-K",
   "metadata": {
    "colab": {
     "base_uri": "https://localhost:8080/"
    },
    "id": "sEvSiLl5Uf-K",
    "outputId": "2eb55dc0-6030-4b51-9fa2-d68eb2cc1f16"
   },
   "outputs": [
    {
     "name": "stdout",
     "output_type": "stream",
     "text": [
      "      Model             Score       \n",
      "************************************\n",
      ">> Recall Score:  0.5991561181434599\n",
      "Accuracy Score:   0.6297781157116196\n",
      "Precision Score:  0.17484608619173264\n",
      "F1 Score:         0.2706971677559913\n"
     ]
    }
   ],
   "source": [
    "print(f\"{'Model':^18}{'Score':^18}\")\n",
    "print(\"************************************\")\n",
    "print(f\"{'>> Recall Score:':18}{recall_score(validation_target, y_pred_xg)}\")\n",
    "print(f\"{'Accuracy Score: ':18}{accuracy_score(validation_target, y_pred_xg)}\")\n",
    "print(f\"{'Precision Score: ':18}{precision_score(validation_target, y_pred_xg)}\")\n",
    "print(f\"{'F1 Score: ':18}{f1_score(validation_target, y_pred_xg)}\")"
   ]
  },
  {
   "cell_type": "markdown",
   "id": "x7l_WdEyUnVd",
   "metadata": {
    "id": "x7l_WdEyUnVd"
   },
   "source": [
    "Save the recall result from this model"
   ]
  },
  {
   "cell_type": "code",
   "execution_count": null,
   "id": "L3LCLeqEUkZa",
   "metadata": {
    "id": "L3LCLeqEUkZa"
   },
   "outputs": [],
   "source": [
    "xgboost = recall_score(validation_target, y_pred_xg)"
   ]
  },
  {
   "cell_type": "code",
   "execution_count": null,
   "id": "IAZrkt0pv8fx",
   "metadata": {
    "id": "IAZrkt0pv8fx"
   },
   "outputs": [],
   "source": [
    "accuracy_xg = accuracy_score(validation_target, y_pred_xg)\n",
    "precision_xg = precision_score(validation_target, y_pred_xg)\n",
    "recall_xg = recall_score(validation_target, y_pred_xg)"
   ]
  },
  {
   "cell_type": "markdown",
   "id": "afGXzInwL3Hz",
   "metadata": {
    "id": "afGXzInwL3Hz"
   },
   "source": [
    "### 7.9.1 Classification metrics for different threshold levels (XGBoost)"
   ]
  },
  {
   "cell_type": "code",
   "execution_count": null,
   "id": "GsdudxoWMJGN",
   "metadata": {
    "colab": {
     "base_uri": "https://localhost:8080/",
     "height": 446
    },
    "id": "GsdudxoWMJGN",
    "outputId": "244d323a-70ee-4185-c478-24267ab1558a"
   },
   "outputs": [
    {
     "name": "stdout",
     "output_type": "stream",
     "text": [
      "0    25616\n",
      "1     3318\n",
      "Name: readmitted, dtype: int64\n"
     ]
    },
    {
     "data": {
      "text/html": [
       "\n",
       "  <div id=\"df-daad3ed1-71f8-4a18-a816-c3ba9f115510\">\n",
       "    <div class=\"colab-df-container\">\n",
       "      <div>\n",
       "<style scoped>\n",
       "    .dataframe tbody tr th:only-of-type {\n",
       "        vertical-align: middle;\n",
       "    }\n",
       "\n",
       "    .dataframe tbody tr th {\n",
       "        vertical-align: top;\n",
       "    }\n",
       "\n",
       "    .dataframe thead th {\n",
       "        text-align: right;\n",
       "    }\n",
       "</style>\n",
       "<table border=\"1\" class=\"dataframe\">\n",
       "  <thead>\n",
       "    <tr style=\"text-align: right;\">\n",
       "      <th></th>\n",
       "      <th>Threshold</th>\n",
       "      <th>TP</th>\n",
       "      <th>FP</th>\n",
       "      <th>TN</th>\n",
       "      <th>FN</th>\n",
       "      <th>FPR</th>\n",
       "      <th>TPR</th>\n",
       "      <th>Precision</th>\n",
       "      <th>Recall</th>\n",
       "      <th>Accuracy</th>\n",
       "    </tr>\n",
       "  </thead>\n",
       "  <tbody>\n",
       "    <tr>\n",
       "      <th>0</th>\n",
       "      <td>0.0</td>\n",
       "      <td>3318</td>\n",
       "      <td>25616</td>\n",
       "      <td>0</td>\n",
       "      <td>0</td>\n",
       "      <td>1.000000</td>\n",
       "      <td>1.000000</td>\n",
       "      <td>0.114675</td>\n",
       "      <td>1.000000</td>\n",
       "      <td>0.114675</td>\n",
       "    </tr>\n",
       "    <tr>\n",
       "      <th>1</th>\n",
       "      <td>0.1</td>\n",
       "      <td>3318</td>\n",
       "      <td>25616</td>\n",
       "      <td>0</td>\n",
       "      <td>0</td>\n",
       "      <td>1.000000</td>\n",
       "      <td>1.000000</td>\n",
       "      <td>0.114675</td>\n",
       "      <td>1.000000</td>\n",
       "      <td>0.114675</td>\n",
       "    </tr>\n",
       "    <tr>\n",
       "      <th>2</th>\n",
       "      <td>0.2</td>\n",
       "      <td>3317</td>\n",
       "      <td>25584</td>\n",
       "      <td>32</td>\n",
       "      <td>1</td>\n",
       "      <td>0.998751</td>\n",
       "      <td>0.999699</td>\n",
       "      <td>0.114771</td>\n",
       "      <td>0.999699</td>\n",
       "      <td>0.115746</td>\n",
       "    </tr>\n",
       "    <tr>\n",
       "      <th>3</th>\n",
       "      <td>0.3</td>\n",
       "      <td>3263</td>\n",
       "      <td>24115</td>\n",
       "      <td>1501</td>\n",
       "      <td>55</td>\n",
       "      <td>0.941404</td>\n",
       "      <td>0.983424</td>\n",
       "      <td>0.119183</td>\n",
       "      <td>0.983424</td>\n",
       "      <td>0.164651</td>\n",
       "    </tr>\n",
       "    <tr>\n",
       "      <th>4</th>\n",
       "      <td>0.4</td>\n",
       "      <td>2692</td>\n",
       "      <td>16351</td>\n",
       "      <td>9265</td>\n",
       "      <td>626</td>\n",
       "      <td>0.638312</td>\n",
       "      <td>0.811332</td>\n",
       "      <td>0.141364</td>\n",
       "      <td>0.811332</td>\n",
       "      <td>0.413251</td>\n",
       "    </tr>\n",
       "    <tr>\n",
       "      <th>5</th>\n",
       "      <td>0.5</td>\n",
       "      <td>1966</td>\n",
       "      <td>9138</td>\n",
       "      <td>16478</td>\n",
       "      <td>1352</td>\n",
       "      <td>0.356730</td>\n",
       "      <td>0.592526</td>\n",
       "      <td>0.177053</td>\n",
       "      <td>0.592526</td>\n",
       "      <td>0.637451</td>\n",
       "    </tr>\n",
       "    <tr>\n",
       "      <th>6</th>\n",
       "      <td>0.6</td>\n",
       "      <td>995</td>\n",
       "      <td>3499</td>\n",
       "      <td>22117</td>\n",
       "      <td>2323</td>\n",
       "      <td>0.136594</td>\n",
       "      <td>0.299879</td>\n",
       "      <td>0.221406</td>\n",
       "      <td>0.299879</td>\n",
       "      <td>0.798783</td>\n",
       "    </tr>\n",
       "    <tr>\n",
       "      <th>7</th>\n",
       "      <td>0.7</td>\n",
       "      <td>331</td>\n",
       "      <td>769</td>\n",
       "      <td>24847</td>\n",
       "      <td>2987</td>\n",
       "      <td>0.030020</td>\n",
       "      <td>0.099759</td>\n",
       "      <td>0.300909</td>\n",
       "      <td>0.099759</td>\n",
       "      <td>0.870187</td>\n",
       "    </tr>\n",
       "    <tr>\n",
       "      <th>8</th>\n",
       "      <td>0.8</td>\n",
       "      <td>124</td>\n",
       "      <td>177</td>\n",
       "      <td>25439</td>\n",
       "      <td>3194</td>\n",
       "      <td>0.006910</td>\n",
       "      <td>0.037372</td>\n",
       "      <td>0.411960</td>\n",
       "      <td>0.037372</td>\n",
       "      <td>0.883493</td>\n",
       "    </tr>\n",
       "    <tr>\n",
       "      <th>9</th>\n",
       "      <td>0.9</td>\n",
       "      <td>8</td>\n",
       "      <td>10</td>\n",
       "      <td>25606</td>\n",
       "      <td>3310</td>\n",
       "      <td>0.000390</td>\n",
       "      <td>0.002411</td>\n",
       "      <td>0.444444</td>\n",
       "      <td>0.002411</td>\n",
       "      <td>0.885256</td>\n",
       "    </tr>\n",
       "    <tr>\n",
       "      <th>10</th>\n",
       "      <td>1.0</td>\n",
       "      <td>0</td>\n",
       "      <td>0</td>\n",
       "      <td>25616</td>\n",
       "      <td>3318</td>\n",
       "      <td>0.000000</td>\n",
       "      <td>0.000000</td>\n",
       "      <td>NaN</td>\n",
       "      <td>0.000000</td>\n",
       "      <td>0.885325</td>\n",
       "    </tr>\n",
       "  </tbody>\n",
       "</table>\n",
       "</div>\n",
       "      <button class=\"colab-df-convert\" onclick=\"convertToInteractive('df-daad3ed1-71f8-4a18-a816-c3ba9f115510')\"\n",
       "              title=\"Convert this dataframe to an interactive table.\"\n",
       "              style=\"display:none;\">\n",
       "        \n",
       "  <svg xmlns=\"http://www.w3.org/2000/svg\" height=\"24px\"viewBox=\"0 0 24 24\"\n",
       "       width=\"24px\">\n",
       "    <path d=\"M0 0h24v24H0V0z\" fill=\"none\"/>\n",
       "    <path d=\"M18.56 5.44l.94 2.06.94-2.06 2.06-.94-2.06-.94-.94-2.06-.94 2.06-2.06.94zm-11 1L8.5 8.5l.94-2.06 2.06-.94-2.06-.94L8.5 2.5l-.94 2.06-2.06.94zm10 10l.94 2.06.94-2.06 2.06-.94-2.06-.94-.94-2.06-.94 2.06-2.06.94z\"/><path d=\"M17.41 7.96l-1.37-1.37c-.4-.4-.92-.59-1.43-.59-.52 0-1.04.2-1.43.59L10.3 9.45l-7.72 7.72c-.78.78-.78 2.05 0 2.83L4 21.41c.39.39.9.59 1.41.59.51 0 1.02-.2 1.41-.59l7.78-7.78 2.81-2.81c.8-.78.8-2.07 0-2.86zM5.41 20L4 18.59l7.72-7.72 1.47 1.35L5.41 20z\"/>\n",
       "  </svg>\n",
       "      </button>\n",
       "      \n",
       "  <style>\n",
       "    .colab-df-container {\n",
       "      display:flex;\n",
       "      flex-wrap:wrap;\n",
       "      gap: 12px;\n",
       "    }\n",
       "\n",
       "    .colab-df-convert {\n",
       "      background-color: #E8F0FE;\n",
       "      border: none;\n",
       "      border-radius: 50%;\n",
       "      cursor: pointer;\n",
       "      display: none;\n",
       "      fill: #1967D2;\n",
       "      height: 32px;\n",
       "      padding: 0 0 0 0;\n",
       "      width: 32px;\n",
       "    }\n",
       "\n",
       "    .colab-df-convert:hover {\n",
       "      background-color: #E2EBFA;\n",
       "      box-shadow: 0px 1px 2px rgba(60, 64, 67, 0.3), 0px 1px 3px 1px rgba(60, 64, 67, 0.15);\n",
       "      fill: #174EA6;\n",
       "    }\n",
       "\n",
       "    [theme=dark] .colab-df-convert {\n",
       "      background-color: #3B4455;\n",
       "      fill: #D2E3FC;\n",
       "    }\n",
       "\n",
       "    [theme=dark] .colab-df-convert:hover {\n",
       "      background-color: #434B5C;\n",
       "      box-shadow: 0px 1px 3px 1px rgba(0, 0, 0, 0.15);\n",
       "      filter: drop-shadow(0px 1px 2px rgba(0, 0, 0, 0.3));\n",
       "      fill: #FFFFFF;\n",
       "    }\n",
       "  </style>\n",
       "\n",
       "      <script>\n",
       "        const buttonEl =\n",
       "          document.querySelector('#df-daad3ed1-71f8-4a18-a816-c3ba9f115510 button.colab-df-convert');\n",
       "        buttonEl.style.display =\n",
       "          google.colab.kernel.accessAllowed ? 'block' : 'none';\n",
       "\n",
       "        async function convertToInteractive(key) {\n",
       "          const element = document.querySelector('#df-daad3ed1-71f8-4a18-a816-c3ba9f115510');\n",
       "          const dataTable =\n",
       "            await google.colab.kernel.invokeFunction('convertToInteractive',\n",
       "                                                     [key], {});\n",
       "          if (!dataTable) return;\n",
       "\n",
       "          const docLinkHtml = 'Like what you see? Visit the ' +\n",
       "            '<a target=\"_blank\" href=https://colab.research.google.com/notebooks/data_table.ipynb>data table notebook</a>'\n",
       "            + ' to learn more about interactive tables.';\n",
       "          element.innerHTML = '';\n",
       "          dataTable['output_type'] = 'display_data';\n",
       "          await google.colab.output.renderOutput(dataTable, element);\n",
       "          const docLink = document.createElement('div');\n",
       "          docLink.innerHTML = docLinkHtml;\n",
       "          element.appendChild(docLink);\n",
       "        }\n",
       "      </script>\n",
       "    </div>\n",
       "  </div>\n",
       "  "
      ],
      "text/plain": [
       "   Threshold    TP     FP     TN    FN       FPR       TPR  Precision  \\\n",
       "0        0.0  3318  25616      0     0  1.000000  1.000000   0.114675   \n",
       "1        0.1  3318  25616      0     0  1.000000  1.000000   0.114675   \n",
       "2        0.2  3317  25584     32     1  0.998751  0.999699   0.114771   \n",
       "3        0.3  3263  24115   1501    55  0.941404  0.983424   0.119183   \n",
       "4        0.4  2692  16351   9265   626  0.638312  0.811332   0.141364   \n",
       "5        0.5  1966   9138  16478  1352  0.356730  0.592526   0.177053   \n",
       "6        0.6   995   3499  22117  2323  0.136594  0.299879   0.221406   \n",
       "7        0.7   331    769  24847  2987  0.030020  0.099759   0.300909   \n",
       "8        0.8   124    177  25439  3194  0.006910  0.037372   0.411960   \n",
       "9        0.9     8     10  25606  3310  0.000390  0.002411   0.444444   \n",
       "10       1.0     0      0  25616  3318  0.000000  0.000000        NaN   \n",
       "\n",
       "      Recall  Accuracy  \n",
       "0   1.000000  0.114675  \n",
       "1   1.000000  0.114675  \n",
       "2   0.999699  0.115746  \n",
       "3   0.983424  0.164651  \n",
       "4   0.811332  0.413251  \n",
       "5   0.592526  0.637451  \n",
       "6   0.299879  0.798783  \n",
       "7   0.099759  0.870187  \n",
       "8   0.037372  0.883493  \n",
       "9   0.002411  0.885256  \n",
       "10  0.000000  0.885325  "
      ]
     },
     "execution_count": 42,
     "metadata": {},
     "output_type": "execute_result"
    }
   ],
   "source": [
    "# Classification metrics for different threshold levels\n",
    "xgboost_model = XGBClassifier(random_state=seed)\n",
    "\n",
    "# fit the model\n",
    "_ = xgboost_model.fit(train_predictors, train_target)\n",
    "\n",
    "tps = []\n",
    "fps = []\n",
    "tns = []\n",
    "fns = []  \n",
    "precs = []\n",
    "recls = []\n",
    "accur = []\n",
    "\n",
    "tprs = []\n",
    "fprs = []\n",
    "thres = []\n",
    "for threshold in np.arange(0.0,1.1, 0.1):  \n",
    "    y_pred_xg_1 = xgboost_model.predict_proba(validation_predictors)[:,1]>=threshold\n",
    "    cm = confusion_matrix(validation_target, y_pred_xg_1)\n",
    "    TP = cm[1,1]\n",
    "    TN = cm[0,0]\n",
    "    FP = cm[0,1]\n",
    "    FN = cm[1,0]\n",
    "    TPR = TP/(TP+FN)\n",
    "    FPR = FP/(FP+TN)\n",
    "    recall = TP / (TP+FN)\n",
    "    precision = TP / (TP+FP)\n",
    "    accuracy =  (TP + TN)/ (TP + FN + TN + FP)\n",
    "    tps.append(TP)\n",
    "    fps.append(FP)\n",
    "    tns.append(TN)\n",
    "    fns.append(FN)\n",
    "    tprs.append(TPR)\n",
    "    fprs.append(FPR)\n",
    "    recls.append(recall)\n",
    "    precs.append(precision)\n",
    "    accur.append(accuracy)\n",
    "    thres.append(str(round(threshold,2)))\n",
    "\n",
    "print(validation_target.value_counts())\n",
    "df = pd.DataFrame(list(zip(thres, tps, fps, tns, fns, fprs, tprs, precs, recls,accur)), columns=['Threshold', 'TP', 'FP', 'TN', 'FN', 'FPR', 'TPR', 'Precision', 'Recall','Accuracy'])\n",
    "df\n",
    "\n"
   ]
  },
  {
   "cell_type": "markdown",
   "id": "inmm19AeM6dA",
   "metadata": {
    "id": "inmm19AeM6dA"
   },
   "source": [
    "### 7.9.2 ROC Curve"
   ]
  },
  {
   "cell_type": "code",
   "execution_count": null,
   "id": "X7d8tDBsM_Gv",
   "metadata": {
    "colab": {
     "base_uri": "https://localhost:8080/",
     "height": 279
    },
    "id": "X7d8tDBsM_Gv",
    "outputId": "dede7177-61aa-41c6-9aee-f4bddb7d4217"
   },
   "outputs": [
    {
     "data": {
      "image/png": "[encoded data removed]",
      "text/plain": [
       "<Figure size 432x288 with 1 Axes>"
      ]
     },
     "metadata": {
      "needs_background": "light"
     },
     "output_type": "display_data"
    }
   ],
   "source": [
    "RocCurveDisplay.from_estimator(xgboost_model, validation_predictors, validation_target) \n",
    "plt.show()"
   ]
  },
  {
   "cell_type": "markdown",
   "id": "IqqsMUOUNdpE",
   "metadata": {
    "id": "IqqsMUOUNdpE"
   },
   "source": [
    "The performance of a classifier is summarized by ROC AUC. The classifier performs better when the value is higher. Our model's ROC AUC is 0.66 which leans in the direction of 1. We can therefore draw the conclusion that our classifier is effective at predicting whether patient will readmit or not."
   ]
  },
  {
   "cell_type": "markdown",
   "id": "mS6dbuC-uEy7",
   "metadata": {
    "id": "mS6dbuC-uEy7"
   },
   "source": [
    "## 7.9.3 XGBoost (using hyper parameters tuning)"
   ]
  },
  {
   "cell_type": "code",
   "execution_count": null,
   "id": "akMElt_yuDSw",
   "metadata": {
    "colab": {
     "base_uri": "https://localhost:8080/"
    },
    "id": "akMElt_yuDSw",
    "outputId": "f140d66c-b9f1-425f-e5b0-56b91d664f0f"
   },
   "outputs": [
    {
     "name": "stdout",
     "output_type": "stream",
     "text": [
      "Best  score is 0.9379895512779808\n",
      "************************************\n",
      "Recall Score:     0.2435201928872815\n",
      "************************************\n",
      "Accuracy Score:   0.7957765950093316\n",
      "Precision Score:  0.19206085096268125\n",
      "F1 Score:         0.21475083056478403\n",
      "************************************\n"
     ]
    }
   ],
   "source": [
    "#Hyperparameter optimization using RandomizedSearchCV\n",
    "\n",
    "xgboost_model1 = XGBClassifier(random_state=seed)\n",
    "params={\n",
    "    \"learning_rate\":[0.05,0.10,0.15,0.20,0.25,0.30],\n",
    "    \"max_depth\":[3,4,5,6,8,10],\n",
    "    \"min_child_weight\":[1,3,5,7],\n",
    "    \"gamma\":[0.0,0.1,0.2,0.3,0.4],\n",
    "    \"colsample_bytree\":[0.3,0.4,0.5,0.7]\n",
    "}\n",
    "best_random_search_model_xgb = RandomizedSearchCV(\n",
    "        xgboost_model1, \n",
    "        scoring='recall', \n",
    "        param_distributions=params, \n",
    "        n_iter = 200, \n",
    "        cv=5, \n",
    "        verbose=0, \n",
    "        n_jobs = -1,  )\n",
    "\n",
    "random_search=RandomizedSearchCV(xgboost_model1,param_distributions=params,n_iter=5,scoring='recall',cv=5,verbose=3)\n",
    "best_random_search_xgb_v =best_random_search_model_xgb.fit(train_predictors, train_target)\n",
    "\n",
    "print(\"Best  score is {}\".format(best_random_search_xgb_v.best_score_))\n",
    "\n",
    "\n",
    "y_pred_xgb_ht = best_random_search_xgb_v.predict(validation_predictors)\n",
    "print(\"************************************\")\n",
    "print(f\"{'Recall Score:':18}{recall_score(validation_target, y_pred_xgb_ht)}\")\n",
    "print(\"************************************\")\n",
    "print(f\"{'Accuracy Score: ':18}{accuracy_score(validation_target, y_pred_xgb_ht)}\")\n",
    "print(f\"{'Precision Score: ':18}{precision_score(validation_target, y_pred_xgb_ht)}\")\n",
    "print(f\"{'F1 Score: ':18}{f1_score(validation_target, y_pred_xgb_ht)}\")\n",
    "print(\"************************************\")\n",
    "\n"
   ]
  },
  {
   "cell_type": "code",
   "execution_count": null,
   "id": "lbFVh09WPHlR",
   "metadata": {
    "id": "lbFVh09WPHlR"
   },
   "outputs": [],
   "source": [
    "accuracy_xg_ht = accuracy_score(validation_target, y_pred_xgb_ht)\n",
    "precision_xg_ht = precision_score(validation_target, y_pred_xgb_ht)\n",
    "recall_xg_ht = recall_score(validation_target, y_pred_xgb_ht)"
   ]
  },
  {
   "cell_type": "markdown",
   "id": "U5d5w7YKWmxv",
   "metadata": {
    "id": "U5d5w7YKWmxv"
   },
   "source": [
    "## 7.10 KNN (using default parameters)"
   ]
  },
  {
   "cell_type": "code",
   "execution_count": null,
   "id": "8b9nG9OuVKQ9",
   "metadata": {
    "id": "8b9nG9OuVKQ9"
   },
   "outputs": [],
   "source": [
    "knn = KNeighborsClassifier(n_neighbors=317,  metric='euclidean')\n",
    "#knn = KNeighborsClassifier(n_neighbors=71,  metric='manhattan')\n",
    "\n",
    "knn.fit(train_predictors, train_target)\n",
    "y_pred_knn = knn.predict(validation_predictors)\n"
   ]
  },
  {
   "cell_type": "code",
   "execution_count": null,
   "id": "zsT2rKKdVKUM",
   "metadata": {
    "colab": {
     "base_uri": "https://localhost:8080/"
    },
    "id": "zsT2rKKdVKUM",
    "outputId": "e2984d8f-e058-436a-89e5-580878709c44"
   },
   "outputs": [
    {
     "name": "stdout",
     "output_type": "stream",
     "text": [
      "      Model             Score       \n",
      "************************************\n",
      ">> Recall Score:  0.5186859553948161\n",
      "Accuracy Score:   0.6223474113499688\n",
      "Precision Score:  0.15573251289476064\n",
      "F1 Score:         0.23954346161876258\n"
     ]
    }
   ],
   "source": [
    "print(f\"{'Model':^18}{'Score':^18}\")\n",
    "print(\"************************************\")\n",
    "print(f\"{'>> Recall Score:':18}{recall_score(validation_target, y_pred_knn)}\")\n",
    "print(f\"{'Accuracy Score: ':18}{accuracy_score(validation_target, y_pred_knn)}\")\n",
    "print(f\"{'Precision Score: ':18}{precision_score(validation_target, y_pred_knn)}\")\n",
    "print(f\"{'F1 Score: ':18}{f1_score(validation_target, y_pred_knn)}\")"
   ]
  },
  {
   "cell_type": "markdown",
   "id": "7_NhEz9WYOvK",
   "metadata": {
    "id": "7_NhEz9WYOvK"
   },
   "source": [
    "## 7.11 k-NN (Hyperparamater Tuning)"
   ]
  },
  {
   "cell_type": "code",
   "execution_count": null,
   "id": "YeDUjd-3VKXX",
   "metadata": {
    "colab": {
     "base_uri": "https://localhost:8080/"
    },
    "id": "YeDUjd-3VKXX",
    "outputId": "8ebe3c27-95e3-4bee-9465-b8a74fc672d5"
   },
   "outputs": [
    {
     "name": "stdout",
     "output_type": "stream",
     "text": [
      "accuracy score:  0.6190600182038284\n",
      "parameters:  {'metric': 'cosine', 'n_neighbors': 100}\n"
     ]
    }
   ],
   "source": [
    "score_measure = 'accuracy'\n",
    "k_fold = 10\n",
    "# Start with an initial guess for parameters\n",
    "param_grid = {\n",
    "    'n_neighbors': list(range(100,317,30)),\n",
    "    'metric': ['euclidean', 'cosine']\n",
    "}\n",
    "gridSearch = GridSearchCV(KNeighborsClassifier(), param_grid, cv=k_fold, scoring=score_measure,\n",
    "                          n_jobs=-1)  # n_jobs=-1 will utilize all available CPUs \n",
    "gridSearch.fit(train_predictors, train_target)\n",
    "print(score_measure, 'score: ', gridSearch.best_score_)\n",
    "print('parameters: ', gridSearch.best_params_)\n",
    "\n",
    "bestAccuracyKnn = gridSearch.best_estimator_"
   ]
  },
  {
   "cell_type": "code",
   "execution_count": null,
   "id": "R4yRl031kixR",
   "metadata": {
    "colab": {
     "base_uri": "https://localhost:8080/"
    },
    "id": "R4yRl031kixR",
    "outputId": "258532e2-bf49-4788-8e3d-d218345ec43b"
   },
   "outputs": [
    {
     "name": "stdout",
     "output_type": "stream",
     "text": [
      "Accuracy: 0.6154696896384876\n",
      "Confusion Matrix:\n",
      " [[16123  1633]\n",
      " [ 9493  1685]]\n"
     ]
    }
   ],
   "source": [
    "y_pred_knn_ht_ac=bestAccuracyKnn.predict(validation_predictors)\n",
    "#importing the metrics module\n",
    "from sklearn import metrics\n",
    "#evaluation(Accuracy)\n",
    "print(\"Accuracy:\",metrics.accuracy_score(y_pred_knn_ht_ac,validation_target))\n",
    "#evaluation(Confusion Matrix)\n",
    "print(\"Confusion Matrix:\\n\",metrics.confusion_matrix(y_pred_knn_ht_ac,validation_target))"
   ]
  },
  {
   "cell_type": "code",
   "execution_count": null,
   "id": "z3ggFx__VKay",
   "metadata": {
    "colab": {
     "base_uri": "https://localhost:8080/"
    },
    "id": "z3ggFx__VKay",
    "outputId": "83f45ced-0f75-4919-902d-b465d8afa2b6"
   },
   "outputs": [
    {
     "name": "stdout",
     "output_type": "stream",
     "text": [
      "precision score:  0.6217077546211253\n",
      "parameters:  {'metric': 'cosine', 'n_neighbors': 100}\n"
     ]
    }
   ],
   "source": [
    "score_measure = 'precision'\n",
    "k_fold = 10\n",
    "# Start with an initial guess for parameters\n",
    "param_grid = {\n",
    "    'n_neighbors': list(range(100,317,20)),\n",
    "    'metric': ['euclidean', 'cosine']\n",
    "}\n",
    "gridSearch = GridSearchCV(KNeighborsClassifier(), param_grid, cv=k_fold, scoring=score_measure,\n",
    "                          n_jobs=-1)  # n_jobs=-1 will utilize all available CPUs \n",
    "gridSearch.fit(train_predictors, train_target)\n",
    "print(score_measure, 'score: ', gridSearch.best_score_)\n",
    "print('parameters: ', gridSearch.best_params_)\n",
    "\n",
    "bestPrecisionKnn = gridSearch.best_estimator_"
   ]
  },
  {
   "cell_type": "code",
   "execution_count": null,
   "id": "BmehP5mJlRCG",
   "metadata": {
    "colab": {
     "base_uri": "https://localhost:8080/"
    },
    "id": "BmehP5mJlRCG",
    "outputId": "65c60d21-0d74-4169-c49e-b9962f6eb760"
   },
   "outputs": [
    {
     "name": "stdout",
     "output_type": "stream",
     "text": [
      "precision: 0.5078360458107294\n",
      "Confusion Matrix:\n",
      " [[16123  1633]\n",
      " [ 9493  1685]]\n"
     ]
    }
   ],
   "source": [
    "y_pred_knn_ht_pc=bestPrecisionKnn.predict(validation_predictors)\n",
    "#importing the metrics module\n",
    "from sklearn import metrics\n",
    "print(\"precision:\",metrics.precision_score(y_pred_knn_ht_pc,validation_target))\n",
    "#evaluation(Confusion Matrix)\n",
    "print(\"Confusion Matrix:\\n\",metrics.confusion_matrix(y_pred_knn_ht_pc,validation_target))"
   ]
  },
  {
   "cell_type": "code",
   "execution_count": null,
   "id": "KsXyzCO1VKeH",
   "metadata": {
    "colab": {
     "base_uri": "https://localhost:8080/"
    },
    "id": "KsXyzCO1VKeH",
    "outputId": "0e09cbd4-6576-4bd6-a6e1-44d31a20dfcf"
   },
   "outputs": [
    {
     "name": "stdout",
     "output_type": "stream",
     "text": [
      "recall score:  0.6082090561789851\n",
      "parameters:  {'metric': 'cosine', 'n_neighbors': 100}\n"
     ]
    }
   ],
   "source": [
    "score_measure = 'recall'\n",
    "k_fold = 10\n",
    "# Start with an initial guess for parameters\n",
    "param_grid = {\n",
    "    'n_neighbors': list(range(100,317,20)),\n",
    "    'metric': ['euclidean', 'cosine']\n",
    "}\n",
    "gridSearch = GridSearchCV(KNeighborsClassifier(), param_grid, cv=k_fold, scoring=score_measure,\n",
    "                          n_jobs=-1)  # n_jobs=-1 will utilize all available CPUs \n",
    "gridSearch.fit(train_predictors, train_target)\n",
    "print(score_measure, 'score: ', gridSearch.best_score_)\n",
    "print('parameters: ', gridSearch.best_params_)\n",
    "\n",
    "bestRecallKnn = gridSearch.best_estimator_"
   ]
  },
  {
   "cell_type": "code",
   "execution_count": null,
   "id": "0Jtd8V2jmtyi",
   "metadata": {
    "colab": {
     "base_uri": "https://localhost:8080/"
    },
    "id": "0Jtd8V2jmtyi",
    "outputId": "813278ab-557f-4b0c-dce0-f832c12d86c5"
   },
   "outputs": [
    {
     "name": "stdout",
     "output_type": "stream",
     "text": [
      "recall: 0.15074252996958312\n",
      "Confusion Matrix:\n",
      " [[16123  1633]\n",
      " [ 9493  1685]]\n"
     ]
    }
   ],
   "source": [
    "y_pred_knn_ht_rc=bestRecallKnn.predict(validation_predictors)\n",
    "#importing the metrics module\n",
    "from sklearn import metrics\n",
    "print(\"recall:\",metrics.recall_score(y_pred_knn_ht_rc,validation_target))\n",
    "#evaluation(Confusion Matrix)\n",
    "print(\"Confusion Matrix:\\n\",metrics.confusion_matrix(y_pred_knn_ht_rc,validation_target))"
   ]
  },
  {
   "cell_type": "code",
   "execution_count": null,
   "id": "3hfNlfuZfvoq",
   "metadata": {
    "id": "3hfNlfuZfvoq"
   },
   "outputs": [],
   "source": [
    "accuracy_knn_ht = accuracy_score(validation_target, y_pred_knn_ht_ac)\n",
    "precision_knn_ht = precision_score(validation_target, y_pred_knn_ht_pc)\n",
    "recall_knn_ht = recall_score(validation_target, y_pred_knn_ht_rc)"
   ]
  },
  {
   "cell_type": "markdown",
   "id": "ify8aylolgWT",
   "metadata": {
    "id": "ify8aylolgWT"
   },
   "source": [
    "## Sep 8: Model Comparision"
   ]
  },
  {
   "cell_type": "code",
   "execution_count": null,
   "id": "FvSn-WqBljSF",
   "metadata": {
    "colab": {
     "base_uri": "https://localhost:8080/",
     "height": 444
    },
    "id": "FvSn-WqBljSF",
    "outputId": "2ef487d8-b0f3-4f01-f1a3-c696a2a0a6ab"
   },
   "outputs": [
    {
     "data": {
      "image/png": "[encoded data removed]",
      "text/plain": [
       "<Figure size 1008x504 with 1 Axes>"
      ]
     },
     "metadata": {
      "needs_background": "light"
     },
     "output_type": "display_data"
    }
   ],
   "source": [
    "plt.figure(figsize=(14, 7))\n",
    "ax = plt.subplot(111)\n",
    "\n",
    "# models = ['Logistic Regression', 'Decision Tree', 'Random Forests']\n",
    "models = ['Logistic Regression', 'Decision Tree', 'Random Forests', 'ADABoost' , 'GradientBoosting', 'XGBoost','KNN']\n",
    "# ADABoost , GradientBoosting, XGBoost, KNN\n",
    "values = [accuracy_logreg, accuracy_dt_gs, accuracy_rf_ht,accuracy_ada,accuracy_gboost,accuracy_xg,accuracy_knn_ht]\n",
    "model = np.arange(len(models))\n",
    "\n",
    "plt.bar(model, values, align='center', width = 0.15, alpha=0.7, color = 'green', label= 'accuracy')\n",
    "plt.xticks(model, models)\n",
    "           \n",
    "\n",
    "           \n",
    "ax = plt.subplot(111)\n",
    "\n",
    "models = ['Logistic Regression', 'Decision Tree', 'Random Forests', 'ADABoost' , 'GradientBoosting', 'XGBoost','KNN']\n",
    "values = [precision_logreg, precision_dt_gs, precision_rf_ht,precision_ada,precision_gboost,precision_xg,precision_knn_ht]\n",
    "model = np.arange(len(models))\n",
    "\n",
    "plt.bar(model+0.15, values, align='center', width = 0.15, alpha=0.7, color = 'cyan', label = 'precision')\n",
    "plt.xticks(model, models)\n",
    "\n",
    "\n",
    "\n",
    "ax = plt.subplot(111)\n",
    "\n",
    "models = ['Logistic Regression', 'Decision Tree', 'Random Forests', 'ADABoost' , 'GradientBoosting', 'XGBoost','KNN' ]\n",
    "\n",
    "values = [recall_logreg, recall_dt_gs, recall_rf_ht,recall_ada,recall_gboost,recall_xg,recall_knn_ht]\n",
    "model = np.arange(len(models))\n",
    "\n",
    "plt.bar(model+0.3, values, align='center', width = 0.15, alpha=0.7, color = 'red', label = 'recall')\n",
    "plt.xticks(model, models)\n",
    "\n",
    "\n",
    "\n",
    "plt.ylabel('Performance Metrics for Different models')\n",
    "plt.title('Model')\n",
    "    \n",
    "# removing the axis on the top and right of the plot window\n",
    "ax.spines['right'].set_visible(False)\n",
    "ax.spines['top'].set_visible(False)\n",
    "ax.legend()\n",
    "\n",
    "plt.show()           "
   ]
  },
  {
   "cell_type": "markdown",
   "id": "2cb2b6c1-4f8f-43a3-a333-5ed5b2468721",
   "metadata": {
    "id": "2cb2b6c1-4f8f-43a3-a333-5ed5b2468721"
   },
   "source": [
    "### Step 9: Discussion of Results and Conclusion"
   ]
  },
  {
   "cell_type": "markdown",
   "id": "3cdb2f8d-9ba0-4bad-a163-337c65c14bce",
   "metadata": {
    "id": "3cdb2f8d-9ba0-4bad-a163-337c65c14bce"
   },
   "source": [
    "\n",
    "\n",
    "Our goal is to develop few models that can predict whether a patient readmits to hospital with in 30 days or not. We tried evaluating  logistic regression, Decision tree, random forest, ADABoost, GradientBoosting, XGBoost and KNN with tarin and test data and then performed hyderparameter tuning to explore the best parameters.We then created both ROC AUC Curve and below are our findings.\n",
    "\n",
    "Out of all the models that we tried, the models which resulted in recall greater than 0.6 are Decision Tree, Random Forest,GradientBoost and XGBoost . Among these, we identified that GradientBoost and XGBoost yeilded almost the same results with minute differences. So keeping a threshold of 0.6 for both Recall and Accuracy scores only GradientBoost and XGBoost models predicted the readmission with scores above 0.6. \n",
    "\n",
    "Also on the other hand, there are some interesting results with RandomForest yeilded Recall value of 0.8 but its accuracy dropped to 0.35. For decison tree Recall valie is 0.7 and accuracy is 0.54.\n",
    "\n",
    "- After trying model on different threshold values we could see that at threshold level 0.6 GradientBoost and XGBoost models models are performing better.\n",
    "\n",
    "- We also plotted ROC AUC for both GradientBoost and XGBoostmodels models which results in 0.66. As its greater than 0.5 and leans towards 1, we may  draw the conclusion that our classifier does a decent job predicting patients readmission.\n",
    "\n",
    "Using GradientBoost and XGBoostmodels hospitals can reduce readmissions by 60% which is definitely a decent job. Early prediction can also help to lessen the severity of the situation and lessen the penalities on hospitals.\n",
    "\n"
   ]
  }
 ],
 "metadata": {
  "colab": {
   "collapsed_sections": [],
   "provenance": []
  },
  "kernelspec": {
   "display_name": "Python 3 (ipykernel)",
   "language": "python",
   "name": "python3"
  },
  "language_info": {
   "codemirror_mode": {
    "name": "ipython",
    "version": 3
   },
   "file_extension": ".py",
   "mimetype": "text/x-python",
   "name": "python",
   "nbconvert_exporter": "python",
   "pygments_lexer": "ipython3",
   "version": "3.9.12"
  }
 },
 "nbformat": 4,
 "nbformat_minor": 5
}
